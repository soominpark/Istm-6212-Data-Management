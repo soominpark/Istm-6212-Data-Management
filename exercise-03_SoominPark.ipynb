{
 "cells": [
  {
   "cell_type": "markdown",
   "metadata": {
    "nbgrader": {
     "grade": false,
     "solution": false
    }
   },
   "source": [
    "Before you turn this problem in, make sure everything runs as expected. First, **restart the kernel** (in the menubar, select Kernel$\\rightarrow$Restart) and then **run all cells** (in the menubar, select Cell$\\rightarrow$Run All).\n",
    "\n",
    "Make sure you fill in any place that says `YOUR CODE HERE` or \"YOUR ANSWER HERE\", as well as your name and collaborators below:"
   ]
  },
  {
   "cell_type": "code",
   "execution_count": 1,
   "metadata": {
    "collapsed": false,
    "nbgrader": {
     "grade": false,
     "solution": false
    }
   },
   "outputs": [],
   "source": [
    "NAME = \"Soomin Park\"\n",
    "COLLABORATORS = \"\""
   ]
  },
  {
   "cell_type": "markdown",
   "metadata": {
    "nbgrader": {
     "grade": false,
     "solution": false
    }
   },
   "source": [
    "---"
   ]
  },
  {
   "cell_type": "markdown",
   "metadata": {},
   "source": [
    "# Exercise 03 - Due Friday, September 30 at 12pm\n",
    "\n",
    "\n",
    "**Objectives**:  Gain experience loading a CSV dataset into a database and using SQL to explore its contents.  Write and execute a number of SQL queries using common syntax and functions.\n",
    "\n",
    "**Grading criteria**: The tasks should all be completed, and questions should all be answered with SQL queries in the space provided, unless a text answer is requested.  Results should be correct, according to the embedded tests.  The notebook itself should be completely reproducible; from start to finish, another person should be able to use the same code to obtain the same results as yours.\n",
    "\n",
    "**Deadline**: Friday, September 30, 12pm.  Submit your notebook to Blackboard and push it to your GitHub repository."
   ]
  },
  {
   "cell_type": "markdown",
   "metadata": {},
   "source": [
    "In this notebook we'll download a clean CSV dataset from data.gov, load it into a SQLite database, and perform a series of queries to answer several questions.  For each problem, write and execute queries that provides the answer in the cells provided, with your SQL queries in the places marked.  For each problem after executing your query, immediately execute the following test cell.  If the tests complete without error, you have completed that question successfully.  If errors arise, you might be missing something.  **Do not change the tests**, just execute them as they are, and update or refine your query until the tests pass.  \n",
    "\n",
    "For this assignment, you need not add narrative description to most of your queries (except where explicitly noted), although you may do so if something you see in the data prompts you.  If you do, add new text cells and use Markdown formatting.\n",
    "\n",
    "**Suggestion**: if you have worked through the [Software Carpentry SQL lessons](http://swcarpentry.github.io/sql-novice-survey/) and have run through the last two lecture notes notebooks, this should all be fairly easy.  If you have done neither, do them now, before you begin."
   ]
  },
  {
   "cell_type": "markdown",
   "metadata": {},
   "source": [
    "## Setup - obtain data and create database\n",
    "\n",
    "The [Connecticut DMV Boating Registrations](http://catalog.data.gov/dataset/dmv-boating-registrations-2008-to-2014) dataset comprises several years of summary records.  It is available from data.gov.\n",
    "\n",
    "First we download the dataset (*note*: it might take several seconds):"
   ]
  },
  {
   "cell_type": "code",
   "execution_count": 2,
   "metadata": {
    "collapsed": false
   },
   "outputs": [],
   "source": [
    "!wget --quiet -O boating.csv \"https://data.ct.gov/api/views/mrb6-7ee5/rows.csv?accessType=DOWNLOAD\""
   ]
  },
  {
   "cell_type": "markdown",
   "metadata": {},
   "source": [
    "Verify that it's what we think it is on the commandline:"
   ]
  },
  {
   "cell_type": "code",
   "execution_count": 3,
   "metadata": {
    "collapsed": false
   },
   "outputs": [
    {
     "name": "stdout",
     "output_type": "stream",
     "text": [
      "|--------------+----------------------------------+---------------|\r\n",
      "|  Fiscal Year | Type of Transactions             | No .of Boats  |\r\n",
      "|--------------+----------------------------------+---------------|\r\n",
      "|  2008        | BOAT CHANGE OF TYPE              | 59            |\r\n",
      "|  2009        | BOAT CHANGE OF TYPE              | 50            |\r\n",
      "|  2010        | BOAT CHANGE OF TYPE              | 21            |\r\n",
      "|  2011        | BOAT CHANGE OF TYPE              | 41            |\r\n",
      "|  2012        | BOAT CHANGE OF TYPE              | 16            |\r\n",
      "|  2013        | BOAT CHANGE OF TYPE              | 27            |\r\n",
      "|  2014        | BOAT CHANGE OF TYPE              | 54            |\r\n",
      "|  2008        | BOAT RECORD XFER NO PROBATE      | 6             |\r\n",
      "|  2009        | BOAT RECORD XFER NO PROBATE      | 12            |\r\n",
      "|  2010        | BOAT RECORD XFER NO PROBATE      | 15            |\r\n",
      "|  2011        | BOAT RECORD XFER NO PROBATE      | 16            |\r\n",
      "|  2012        | BOAT RECORD XFER NO PROBATE      | 24            |\r\n",
      "|  2013        | BOAT RECORD XFER NO PROBATE      | 8             |\r\n",
      "|  2014        | BOAT RECORD XFER NO PROBATE      | 24            |\r\n",
      "|  2008        | BOAT REG ST OF CONNECTICUT       | 19            |\r\n",
      "|  2009        | BOAT REG ST OF CONNECTICUT       | 3             |\r\n",
      "|  2010        | BOAT REG ST OF CONNECTICUT       | 19            |\r\n",
      "|  2011        | BOAT REG ST OF CONNECTICUT       | 27            |\r\n",
      "|  2012        | BOAT REG ST OF CONNECTICUT       | 48            |\r\n",
      "|  2013        | BOAT REG ST OF CONNECTICUT       | 21            |\r\n",
      "|  2014        | BOAT REG ST OF CONNECTICUT       | 22            |\r\n",
      "|  2008        | BOAT REG, CANOE                  | 207           |\r\n",
      "|  2009        | BOAT REG, CANOE                  | 184           |\r\n",
      "|  2010        | BOAT REG, CANOE                  | 175           |\r\n",
      "|  2011        | BOAT REG, CANOE                  | 145           |\r\n",
      "|  2012        | BOAT REG, CANOE                  | 151           |\r\n",
      "|  2013        | BOAT REG, CANOE                  | 142           |\r\n",
      "|  2014        | BOAT REG, CANOE                  | 125           |\r\n",
      "|  2008        | BOAT REG, COMM FISHING           | 16            |\r\n",
      "|  2009        | BOAT REG, COMM FISHING           | 20            |\r\n",
      "|  2010        | BOAT REG, COMM FISHING           | 9             |\r\n",
      "|  2011        | BOAT REG, COMM FISHING           | 18            |\r\n",
      "|  2012        | BOAT REG, COMM FISHING           | 23            |\r\n",
      "|  2013        | BOAT REG, COMM FISHING           | 13            |\r\n",
      "|  2014        | BOAT REG, COMM FISHING           | 15            |\r\n",
      "|  2008        | BOAT REG, EDUCATIONAL            | 2             |\r\n",
      "|  2009        | BOAT REG, EDUCATIONAL            | 2             |\r\n",
      "|  2010        | BOAT REG, EDUCATIONAL            | 3             |\r\n",
      "|  2011        | BOAT REG, EDUCATIONAL            | 4             |\r\n",
      "|  2012        | BOAT REG, EDUCATIONAL            | 2             |\r\n",
      "|  2013        | BOAT REG, EDUCATIONAL            | 2             |\r\n",
      "|  2014        | BOAT REG, EDUCATIONAL            | 0             |\r\n",
      "|  2008        | BOAT REG, NEW                    | 14291         |\r\n",
      "|  2009        | BOAT REG, NEW                    | 12134         |\r\n",
      "|  2010        | BOAT REG, NEW                    | 12569         |\r\n",
      "|  2011        | BOAT REG, NEW                    | 12071         |\r\n",
      "|  2012        | BOAT REG, NEW                    | 11872         |\r\n",
      "|  2013        | BOAT REG, NEW                    | 11943         |\r\n",
      "|  2014        | BOAT REG, NEW                    | 11941         |\r\n",
      "|  2008        | BOAT REG, NON-PROFIT             | 6             |\r\n",
      "|  2009        | BOAT REG, NON-PROFIT             | 17            |\r\n",
      "|  2010        | BOAT REG, NON-PROFIT             | 16            |\r\n",
      "|  2011        | BOAT REG, NON-PROFIT             | 5             |\r\n",
      "|  2012        | BOAT REG, NON-PROFIT             | 26            |\r\n",
      "|  2013        | BOAT REG, NON-PROFIT             | 21            |\r\n",
      "|  2014        | BOAT REG, NON-PROFIT             | 15            |\r\n",
      "|  2008        | BOAT REG, PONTOON                | 321           |\r\n",
      "|  2009        | BOAT REG, PONTOON                | 282           |\r\n",
      "|  2010        | BOAT REG, PONTOON                | 292           |\r\n",
      "|  2011        | BOAT REG, PONTOON                | 309           |\r\n",
      "|  2012        | BOAT REG, PONTOON                | 363           |\r\n",
      "|  2013        | BOAT REG, PONTOON                | 351           |\r\n",
      "|  2014        | BOAT REG, PONTOON                | 323           |\r\n",
      "|  2008        | BOAT, DUPLICATE REGISTRATION     | 740           |\r\n",
      "|  2009        | BOAT, DUPLICATE REGISTRATION     | 576           |\r\n",
      "|  2010        | BOAT, DUPLICATE REGISTRATION     | 555           |\r\n",
      "|  2011        | BOAT, DUPLICATE REGISTRATION     | 519           |\r\n",
      "|  2008        | BOAT, REMAINDER FEE              | 102           |\r\n",
      "|  2009        | BOAT, REMAINDER FEE              | 81            |\r\n",
      "|  2010        | BOAT, REMAINDER FEE              | 63            |\r\n",
      "|  2011        | BOAT, REMAINDER FEE              | 51            |\r\n",
      "|  2012        | BOAT, REMAINDER FEE              | 663           |\r\n",
      "|  2013        | BOAT, REMAINDER FEE              | 47            |\r\n",
      "|  2014        | BOAT, REMAINDER FEE              | 36            |\r\n",
      "|  2008        | NEW BOAT MILTRY PERSONNEL EXEMPT | 25            |\r\n",
      "|  2009        | NEW BOAT MILTRY PERSONNEL EXEMPT | 23            |\r\n",
      "|  2010        | NEW BOAT MILTRY PERSONNEL EXEMPT | 41            |\r\n",
      "|  2011        | NEW BOAT MILTRY PERSONNEL EXEMPT | 32            |\r\n",
      "|  2012        | NEW BOAT MILTRY PERSONNEL EXEMPT | 41            |\r\n",
      "|  2013        | NEW BOAT MILTRY PERSONNEL EXEMPT | 44            |\r\n",
      "|  2014        | NEW BOAT MILTRY PERSONNEL EXEMPT | 45            |\r\n",
      "|  2008        | REN BOAT PONTOON                 | 1962          |\r\n",
      "|  2009        | REN BOAT PONTOON                 | 2068          |\r\n",
      "|  2010        | REN BOAT PONTOON                 | 2118          |\r\n",
      "|  2011        | REN BOAT PONTOON                 | 2186          |\r\n",
      "|  2012        | REN BOAT PONTOON                 | 2295          |\r\n",
      "|  2013        | REN BOAT PONTOON                 | 2430          |\r\n",
      "|  2014        | REN BOAT PONTOON                 | 2497          |\r\n",
      "|  2008        | REN BOAT REGISTRATION            | 95156         |\r\n",
      "|  2009        | REN BOAT REGISTRATION            | 95270         |\r\n",
      "|  2010        | REN BOAT REGISTRATION            | 94005         |\r\n",
      "|  2011        | REN BOAT REGISTRATION            | 92175         |\r\n",
      "|  2012        | REN BOAT REGISTRATION            | 89847         |\r\n",
      "|  2013        | REN BOAT REGISTRATION            | 88042         |\r\n",
      "|  2014        | REN BOAT REGISTRATION            | 86295         |\r\n",
      "|  2008        | RENEW BOAT CANOE                 | 2313          |\r\n",
      "|  2009        | RENEW BOAT CANOE                 | 2205          |\r\n",
      "|  2010        | RENEW BOAT CANOE                 | 2157          |\r\n",
      "|  2011        | RENEW BOAT CANOE                 | 2067          |\r\n",
      "|  2012        | RENEW BOAT CANOE                 | 1982          |\r\n",
      "|  2013        | RENEW BOAT CANOE                 | 1968          |\r\n",
      "|  2014        | RENEW BOAT CANOE                 | 1859          |\r\n",
      "|  2008        | RENEW BOAT COMM FISHING          | 187           |\r\n",
      "|  2009        | RENEW BOAT COMM FISHING          | 185           |\r\n",
      "|  2010        | RENEW BOAT COMM FISHING          | 178           |\r\n",
      "|  2011        | RENEW BOAT COMM FISHING          | 175           |\r\n",
      "|  2012        | RENEW BOAT COMM FISHING          | 172           |\r\n",
      "|  2013        | RENEW BOAT COMM FISHING          | 175           |\r\n",
      "|  2014        | RENEW BOAT COMM FISHING          | 172           |\r\n",
      "|  2008        | RENEW BOAT EDUCATIONAL           | 0             |\r\n",
      "|  2009        | RENEW BOAT EDUCATIONAL           | 0             |\r\n",
      "|  2010        | RENEW BOAT EDUCATIONAL           | 2             |\r\n",
      "|  2011        | RENEW BOAT EDUCATIONAL           | 4             |\r\n",
      "|  2012        | RENEW BOAT EDUCATIONAL           | 3             |\r\n",
      "|  2013        | RENEW BOAT EDUCATIONAL           | 5             |\r\n",
      "|  2014        | RENEW BOAT EDUCATIONAL           | 2             |\r\n",
      "|  2008        | RENEW BOAT FLOTILLA              | 1             |\r\n",
      "|  2009        | RENEW BOAT FLOTILLA              | 1             |\r\n",
      "|  2010        | RENEW BOAT FLOTILLA              | 1             |\r\n",
      "|  2011        | RENEW BOAT FLOTILLA              | 0             |\r\n",
      "|  2012        | RENEW BOAT FLOTILLA              | 1             |\r\n",
      "|  2013        | RENEW BOAT FLOTILLA              | 2             |\r\n",
      "|  2014        | RENEW BOAT FLOTILLA              | 2             |\r\n",
      "|  2008        | RENEW BOAT MILTRY PERSONNEL EXMP | 54            |\r\n",
      "|  2009        | RENEW BOAT MILTRY PERSONNEL EXMP | 60            |\r\n",
      "|  2010        | RENEW BOAT MILTRY PERSONNEL EXMP | 65            |\r\n",
      "|  2011        | RENEW BOAT MILTRY PERSONNEL EXMP | 91            |\r\n",
      "|  2012        | RENEW BOAT MILTRY PERSONNEL EXMP | 43            |\r\n",
      "|  2013        | RENEW BOAT MILTRY PERSONNEL EXMP | 100           |\r\n",
      "|  2014        | RENEW BOAT MILTRY PERSONNEL EXMP | 94            |\r\n",
      "|  2008        | RENEW BOAT NON-PROFIT            | 35            |\r\n",
      "|  2009        | RENEW BOAT NON-PROFIT            | 2             |\r\n",
      "|  2010        | RENEW BOAT NON-PROFIT            | 8             |\r\n",
      "|  2011        | RENEW BOAT NON-PROFIT            | 4             |\r\n",
      "|  2012        | RENEW BOAT NON-PROFIT            | 17            |\r\n",
      "|  2013        | RENEW BOAT NON-PROFIT            | 21            |\r\n",
      "|  2014        | RENEW BOAT NON-PROFIT            | 44            |\r\n",
      "|  2008        | RENEW BOAT USCG AUX EXEMPT       | 18            |\r\n",
      "|  2009        | RENEW BOAT USCG AUX EXEMPT       | 23            |\r\n",
      "|  2010        | RENEW BOAT USCG AUX EXEMPT       | 25            |\r\n",
      "|  2011        | RENEW BOAT USCG AUX EXEMPT       | 22            |\r\n",
      "|  2012        | RENEW BOAT USCG AUX EXEMPT       | 19            |\r\n",
      "|  2013        | RENEW BOAT USCG AUX EXEMPT       | 13            |\r\n",
      "|  2014        | RENEW BOAT USCG AUX EXEMPT       | 19            |\r\n",
      "|--------------+----------------------------------+---------------|\r\n"
     ]
    }
   ],
   "source": [
    "!cat boating.csv | csvlook"
   ]
  },
  {
   "cell_type": "markdown",
   "metadata": {},
   "source": [
    "Looks right.  How many records are there?"
   ]
  },
  {
   "cell_type": "code",
   "execution_count": 4,
   "metadata": {
    "collapsed": false
   },
   "outputs": [
    {
     "name": "stdout",
     "output_type": "stream",
     "text": [
      "145 boating.csv\r\n"
     ]
    }
   ],
   "source": [
    "!wc -l boating.csv"
   ]
  },
  {
   "cell_type": "markdown",
   "metadata": {},
   "source": [
    "So that should be 145, counting the header.  And the basic stats:"
   ]
  },
  {
   "cell_type": "code",
   "execution_count": 5,
   "metadata": {
    "collapsed": false
   },
   "outputs": [
    {
     "name": "stdout",
     "output_type": "stream",
     "text": [
      "  1. Fiscal Year\r\n",
      "\t<class 'int'>\r\n",
      "\tNulls: False\r\n",
      "\tMin: 2008\r\n",
      "\tMax: 2014\r\n",
      "\tSum: 289578\r\n",
      "\tMean: 2010.9583333333333\r\n",
      "\tMedian: 2011.0\r\n",
      "\tStandard Deviation: 1.9960899278339177\r\n",
      "\tUnique values: 7\r\n",
      "\t5 most frequent values:\r\n",
      "\t\t2008:\t21\r\n",
      "\t\t2009:\t21\r\n",
      "\t\t2011:\t21\r\n",
      "\t\t2010:\t21\r\n",
      "\t\t2014:\t20\r\n",
      "  2. Type of Transactions\r\n",
      "\t<class 'str'>\r\n",
      "\tNulls: False\r\n",
      "\tUnique values: 21\r\n",
      "\t5 most frequent values:\r\n",
      "\t\tREN BOAT REGISTRATION:\t7\r\n",
      "\t\tREN BOAT PONTOON:\t7\r\n",
      "\t\tBOAT CHANGE OF TYPE:\t7\r\n",
      "\t\tBOAT REG, PONTOON:\t7\r\n",
      "\t\tBOAT REG, NEW:\t7\r\n",
      "\tMax length: 32\r\n",
      "  3. No .of Boats\r\n",
      "\t<class 'int'>\r\n",
      "\tNulls: False\r\n",
      "\tMin: 0\r\n",
      "\tMax: 95270\r\n",
      "\tSum: 767584\r\n",
      "\tMean: 5330.444444444444\r\n",
      "\tMedian: 43.5\r\n",
      "\tStandard Deviation: 19683.78413284855\r\n",
      "\tUnique values: 96\r\n",
      "\t5 most frequent values:\r\n",
      "\t\t2:\t9\r\n",
      "\t\t0:\t4\r\n",
      "\t\t1:\t4\r\n",
      "\t\t19:\t4\r\n",
      "\t\t16:\t4\r\n",
      "\r\n",
      "Row count: 144\r\n"
     ]
    }
   ],
   "source": [
    "!csvstat boating.csv"
   ]
  },
  {
   "cell_type": "markdown",
   "metadata": {
    "nbgrader": {
     "grade": false,
     "locked": false,
     "solution": false
    }
   },
   "source": [
    "Looks about right!  \n",
    "\n",
    "Note, though, that the column names have spaces, punctuation, and Upper Cased Names.  That's annoying!  First let's rename the header line."
   ]
  },
  {
   "cell_type": "code",
   "execution_count": 6,
   "metadata": {
    "collapsed": false
   },
   "outputs": [],
   "source": [
    "!mv boating.csv boating-orig.csv"
   ]
  },
  {
   "cell_type": "markdown",
   "metadata": {},
   "source": [
    "Okay, using output redirection and `tail` we can write a new header line."
   ]
  },
  {
   "cell_type": "code",
   "execution_count": 7,
   "metadata": {
    "collapsed": true
   },
   "outputs": [],
   "source": [
    "!echo \"year,tx_type,num\" > boating.csv"
   ]
  },
  {
   "cell_type": "code",
   "execution_count": 8,
   "metadata": {
    "collapsed": true
   },
   "outputs": [],
   "source": [
    "!tail -n +2 boating-orig.csv >> boating.csv"
   ]
  },
  {
   "cell_type": "code",
   "execution_count": 9,
   "metadata": {
    "collapsed": false
   },
   "outputs": [
    {
     "name": "stdout",
     "output_type": "stream",
     "text": [
      "|-------+-----------------------------+------|\r\n",
      "|  year | tx_type                     | num  |\r\n",
      "|-------+-----------------------------+------|\r\n",
      "|  2008 | BOAT CHANGE OF TYPE         | 59   |\r\n",
      "|  2009 | BOAT CHANGE OF TYPE         | 50   |\r\n",
      "|  2010 | BOAT CHANGE OF TYPE         | 21   |\r\n",
      "|  2011 | BOAT CHANGE OF TYPE         | 41   |\r\n",
      "|  2012 | BOAT CHANGE OF TYPE         | 16   |\r\n",
      "|  2013 | BOAT CHANGE OF TYPE         | 27   |\r\n",
      "|  2014 | BOAT CHANGE OF TYPE         | 54   |\r\n",
      "|  2008 | BOAT RECORD XFER NO PROBATE | 6    |\r\n",
      "|  2009 | BOAT RECORD XFER NO PROBATE | 12   |\r\n",
      "|-------+-----------------------------+------|\r\n"
     ]
    }
   ],
   "source": [
    "!head boating.csv | csvlook"
   ]
  },
  {
   "cell_type": "markdown",
   "metadata": {},
   "source": [
    "Much easier to work with now."
   ]
  },
  {
   "cell_type": "markdown",
   "metadata": {},
   "source": [
    "Next we convert the updated csv file into a SQLite database using CSVkit."
   ]
  },
  {
   "cell_type": "code",
   "execution_count": 10,
   "metadata": {
    "collapsed": false
   },
   "outputs": [
    {
     "name": "stdout",
     "output_type": "stream",
     "text": [
      "(sqlite3.OperationalError) table boating already exists [SQL: '\\nCREATE TABLE boating (\\n\\tyear INTEGER NOT NULL, \\n\\ttx_type VARCHAR(32) NOT NULL, \\n\\tnum INTEGER NOT NULL\\n)\\n\\n']\r\n"
     ]
    }
   ],
   "source": [
    "!csvsql --db sqlite:///boating.db --insert boating.csv"
   ]
  },
  {
   "cell_type": "markdown",
   "metadata": {},
   "source": [
    "To work with it, we'll need the ipython-sql extension loaded, and then we'll need to connect to the db."
   ]
  },
  {
   "cell_type": "code",
   "execution_count": 11,
   "metadata": {
    "collapsed": false
   },
   "outputs": [
    {
     "name": "stderr",
     "output_type": "stream",
     "text": [
      "/opt/conda/lib/python3.5/site-packages/IPython/config.py:13: ShimWarning: The `IPython.config` package has been deprecated. You should import from traitlets.config instead.\n",
      "  \"You should import from traitlets.config instead.\", ShimWarning)\n",
      "/opt/conda/lib/python3.5/site-packages/IPython/utils/traitlets.py:5: UserWarning: IPython.utils.traitlets has moved to a top-level traitlets package.\n",
      "  warn(\"IPython.utils.traitlets has moved to a top-level traitlets package.\")\n"
     ]
    }
   ],
   "source": [
    "%load_ext sql"
   ]
  },
  {
   "cell_type": "markdown",
   "metadata": {},
   "source": [
    "**Note** if you see a pink box above with six lines of \"ShimWarning\" and \"UserWarning\", don't panic.  This is just a warning message from the `ipython-sql` package.  You are good to go."
   ]
  },
  {
   "cell_type": "code",
   "execution_count": 12,
   "metadata": {
    "collapsed": false
   },
   "outputs": [
    {
     "data": {
      "text/plain": [
       "'Connected: None@boating.db'"
      ]
     },
     "execution_count": 12,
     "metadata": {},
     "output_type": "execute_result"
    }
   ],
   "source": [
    "%sql sqlite:///boating.db"
   ]
  },
  {
   "cell_type": "code",
   "execution_count": 13,
   "metadata": {
    "collapsed": false
   },
   "outputs": [
    {
     "name": "stdout",
     "output_type": "stream",
     "text": [
      "Done.\n"
     ]
    },
    {
     "data": {
      "text/html": [
       "<table>\n",
       "    <tr>\n",
       "        <th>COUNT(*)</th>\n",
       "    </tr>\n",
       "    <tr>\n",
       "        <td>144</td>\n",
       "    </tr>\n",
       "</table>"
      ],
      "text/plain": [
       "[(144,)]"
      ]
     },
     "execution_count": 13,
     "metadata": {},
     "output_type": "execute_result"
    }
   ],
   "source": [
    "%%sql\n",
    "SELECT COUNT(*)\n",
    "FROM boating;"
   ]
  },
  {
   "cell_type": "markdown",
   "metadata": {},
   "source": [
    "Looks like the same number of rows!  We're good to go."
   ]
  },
  {
   "cell_type": "markdown",
   "metadata": {},
   "source": [
    "## Basic queries\n",
    "\n",
    "In the following queries, we'll do some basic exploration of the data.  Let's first see what a few records look like."
   ]
  },
  {
   "cell_type": "code",
   "execution_count": 14,
   "metadata": {
    "collapsed": false
   },
   "outputs": [
    {
     "name": "stdout",
     "output_type": "stream",
     "text": [
      "Done.\n"
     ]
    },
    {
     "data": {
      "text/html": [
       "<table>\n",
       "    <tr>\n",
       "        <th>year</th>\n",
       "        <th>tx_type</th>\n",
       "        <th>num</th>\n",
       "    </tr>\n",
       "    <tr>\n",
       "        <td>2008</td>\n",
       "        <td>BOAT CHANGE OF TYPE</td>\n",
       "        <td>59</td>\n",
       "    </tr>\n",
       "    <tr>\n",
       "        <td>2009</td>\n",
       "        <td>BOAT CHANGE OF TYPE</td>\n",
       "        <td>50</td>\n",
       "    </tr>\n",
       "    <tr>\n",
       "        <td>2010</td>\n",
       "        <td>BOAT CHANGE OF TYPE</td>\n",
       "        <td>21</td>\n",
       "    </tr>\n",
       "    <tr>\n",
       "        <td>2011</td>\n",
       "        <td>BOAT CHANGE OF TYPE</td>\n",
       "        <td>41</td>\n",
       "    </tr>\n",
       "    <tr>\n",
       "        <td>2012</td>\n",
       "        <td>BOAT CHANGE OF TYPE</td>\n",
       "        <td>16</td>\n",
       "    </tr>\n",
       "    <tr>\n",
       "        <td>2013</td>\n",
       "        <td>BOAT CHANGE OF TYPE</td>\n",
       "        <td>27</td>\n",
       "    </tr>\n",
       "    <tr>\n",
       "        <td>2014</td>\n",
       "        <td>BOAT CHANGE OF TYPE</td>\n",
       "        <td>54</td>\n",
       "    </tr>\n",
       "    <tr>\n",
       "        <td>2008</td>\n",
       "        <td>BOAT RECORD XFER NO PROBATE</td>\n",
       "        <td>6</td>\n",
       "    </tr>\n",
       "    <tr>\n",
       "        <td>2009</td>\n",
       "        <td>BOAT RECORD XFER NO PROBATE</td>\n",
       "        <td>12</td>\n",
       "    </tr>\n",
       "    <tr>\n",
       "        <td>2010</td>\n",
       "        <td>BOAT RECORD XFER NO PROBATE</td>\n",
       "        <td>15</td>\n",
       "    </tr>\n",
       "</table>"
      ],
      "text/plain": [
       "[(2008, 'BOAT CHANGE OF TYPE', 59),\n",
       " (2009, 'BOAT CHANGE OF TYPE', 50),\n",
       " (2010, 'BOAT CHANGE OF TYPE', 21),\n",
       " (2011, 'BOAT CHANGE OF TYPE', 41),\n",
       " (2012, 'BOAT CHANGE OF TYPE', 16),\n",
       " (2013, 'BOAT CHANGE OF TYPE', 27),\n",
       " (2014, 'BOAT CHANGE OF TYPE', 54),\n",
       " (2008, 'BOAT RECORD XFER NO PROBATE', 6),\n",
       " (2009, 'BOAT RECORD XFER NO PROBATE', 12),\n",
       " (2010, 'BOAT RECORD XFER NO PROBATE', 15)]"
      ]
     },
     "execution_count": 14,
     "metadata": {},
     "output_type": "execute_result"
    }
   ],
   "source": [
    "%%sql\n",
    "SELECT *\n",
    "FROM boating\n",
    "LIMIT 10;"
   ]
  },
  {
   "cell_type": "markdown",
   "metadata": {},
   "source": [
    "This should look familiar!\n",
    "\n",
    "Let's look at just the \"change\" types."
   ]
  },
  {
   "cell_type": "code",
   "execution_count": 15,
   "metadata": {
    "collapsed": false
   },
   "outputs": [
    {
     "name": "stdout",
     "output_type": "stream",
     "text": [
      "Done.\n"
     ]
    },
    {
     "data": {
      "text/html": [
       "<table>\n",
       "    <tr>\n",
       "        <th>year</th>\n",
       "        <th>tx_type</th>\n",
       "        <th>num</th>\n",
       "    </tr>\n",
       "    <tr>\n",
       "        <td>2008</td>\n",
       "        <td>BOAT CHANGE OF TYPE</td>\n",
       "        <td>59</td>\n",
       "    </tr>\n",
       "    <tr>\n",
       "        <td>2009</td>\n",
       "        <td>BOAT CHANGE OF TYPE</td>\n",
       "        <td>50</td>\n",
       "    </tr>\n",
       "    <tr>\n",
       "        <td>2010</td>\n",
       "        <td>BOAT CHANGE OF TYPE</td>\n",
       "        <td>21</td>\n",
       "    </tr>\n",
       "    <tr>\n",
       "        <td>2011</td>\n",
       "        <td>BOAT CHANGE OF TYPE</td>\n",
       "        <td>41</td>\n",
       "    </tr>\n",
       "    <tr>\n",
       "        <td>2012</td>\n",
       "        <td>BOAT CHANGE OF TYPE</td>\n",
       "        <td>16</td>\n",
       "    </tr>\n",
       "    <tr>\n",
       "        <td>2013</td>\n",
       "        <td>BOAT CHANGE OF TYPE</td>\n",
       "        <td>27</td>\n",
       "    </tr>\n",
       "    <tr>\n",
       "        <td>2014</td>\n",
       "        <td>BOAT CHANGE OF TYPE</td>\n",
       "        <td>54</td>\n",
       "    </tr>\n",
       "</table>"
      ],
      "text/plain": [
       "[(2008, 'BOAT CHANGE OF TYPE', 59),\n",
       " (2009, 'BOAT CHANGE OF TYPE', 50),\n",
       " (2010, 'BOAT CHANGE OF TYPE', 21),\n",
       " (2011, 'BOAT CHANGE OF TYPE', 41),\n",
       " (2012, 'BOAT CHANGE OF TYPE', 16),\n",
       " (2013, 'BOAT CHANGE OF TYPE', 27),\n",
       " (2014, 'BOAT CHANGE OF TYPE', 54)]"
      ]
     },
     "execution_count": 15,
     "metadata": {},
     "output_type": "execute_result"
    }
   ],
   "source": [
    "%%sql\n",
    "SELECT *\n",
    "FROM boating\n",
    "WHERE tx_type = \"BOAT CHANGE OF TYPE\";"
   ]
  },
  {
   "cell_type": "markdown",
   "metadata": {},
   "source": [
    "How many is that, and which year had the most?"
   ]
  },
  {
   "cell_type": "code",
   "execution_count": 16,
   "metadata": {
    "collapsed": false
   },
   "outputs": [
    {
     "name": "stdout",
     "output_type": "stream",
     "text": [
      "Done.\n"
     ]
    },
    {
     "data": {
      "text/html": [
       "<table>\n",
       "    <tr>\n",
       "        <th>COUNT(*)</th>\n",
       "    </tr>\n",
       "    <tr>\n",
       "        <td>7</td>\n",
       "    </tr>\n",
       "</table>"
      ],
      "text/plain": [
       "[(7,)]"
      ]
     },
     "execution_count": 16,
     "metadata": {},
     "output_type": "execute_result"
    }
   ],
   "source": [
    "%%sql\n",
    "SELECT COUNT(*)\n",
    "FROM boating\n",
    "WHERE tx_type = \"BOAT CHANGE OF TYPE\";"
   ]
  },
  {
   "cell_type": "markdown",
   "metadata": {},
   "source": [
    "Which year had the most of these transactions?"
   ]
  },
  {
   "cell_type": "code",
   "execution_count": 17,
   "metadata": {
    "collapsed": false
   },
   "outputs": [
    {
     "name": "stdout",
     "output_type": "stream",
     "text": [
      "Done.\n"
     ]
    },
    {
     "data": {
      "text/html": [
       "<table>\n",
       "    <tr>\n",
       "        <th>year</th>\n",
       "        <th>tx_type</th>\n",
       "        <th>num</th>\n",
       "    </tr>\n",
       "    <tr>\n",
       "        <td>2008</td>\n",
       "        <td>BOAT CHANGE OF TYPE</td>\n",
       "        <td>59</td>\n",
       "    </tr>\n",
       "    <tr>\n",
       "        <td>2014</td>\n",
       "        <td>BOAT CHANGE OF TYPE</td>\n",
       "        <td>54</td>\n",
       "    </tr>\n",
       "    <tr>\n",
       "        <td>2009</td>\n",
       "        <td>BOAT CHANGE OF TYPE</td>\n",
       "        <td>50</td>\n",
       "    </tr>\n",
       "    <tr>\n",
       "        <td>2011</td>\n",
       "        <td>BOAT CHANGE OF TYPE</td>\n",
       "        <td>41</td>\n",
       "    </tr>\n",
       "    <tr>\n",
       "        <td>2013</td>\n",
       "        <td>BOAT CHANGE OF TYPE</td>\n",
       "        <td>27</td>\n",
       "    </tr>\n",
       "    <tr>\n",
       "        <td>2010</td>\n",
       "        <td>BOAT CHANGE OF TYPE</td>\n",
       "        <td>21</td>\n",
       "    </tr>\n",
       "    <tr>\n",
       "        <td>2012</td>\n",
       "        <td>BOAT CHANGE OF TYPE</td>\n",
       "        <td>16</td>\n",
       "    </tr>\n",
       "</table>"
      ],
      "text/plain": [
       "[(2008, 'BOAT CHANGE OF TYPE', 59),\n",
       " (2014, 'BOAT CHANGE OF TYPE', 54),\n",
       " (2009, 'BOAT CHANGE OF TYPE', 50),\n",
       " (2011, 'BOAT CHANGE OF TYPE', 41),\n",
       " (2013, 'BOAT CHANGE OF TYPE', 27),\n",
       " (2010, 'BOAT CHANGE OF TYPE', 21),\n",
       " (2012, 'BOAT CHANGE OF TYPE', 16)]"
      ]
     },
     "execution_count": 17,
     "metadata": {},
     "output_type": "execute_result"
    }
   ],
   "source": [
    "%%sql\n",
    "SELECT *\n",
    "FROM boating\n",
    "WHERE tx_type = \"BOAT CHANGE OF TYPE\"\n",
    "ORDER BY num DESC;"
   ]
  },
  {
   "cell_type": "markdown",
   "metadata": {},
   "source": [
    "...alright, your turn.\n",
    "\n",
    "### Question 1\n",
    "\n",
    "Use `DISTINCT` to determine the unique set of years in this dataset."
   ]
  },
  {
   "cell_type": "code",
   "execution_count": 18,
   "metadata": {
    "collapsed": false,
    "deletable": false,
    "nbgrader": {
     "checksum": "e695d6714d4f230a64f7fe7ac54e6dc0",
     "grade": false,
     "grade_id": "10",
     "locked": false,
     "solution": true
    }
   },
   "outputs": [
    {
     "name": "stdout",
     "output_type": "stream",
     "text": [
      "Done.\n"
     ]
    },
    {
     "data": {
      "text/html": [
       "<table>\n",
       "    <tr>\n",
       "        <th>year</th>\n",
       "    </tr>\n",
       "    <tr>\n",
       "        <td>2008</td>\n",
       "    </tr>\n",
       "    <tr>\n",
       "        <td>2009</td>\n",
       "    </tr>\n",
       "    <tr>\n",
       "        <td>2010</td>\n",
       "    </tr>\n",
       "    <tr>\n",
       "        <td>2011</td>\n",
       "    </tr>\n",
       "    <tr>\n",
       "        <td>2012</td>\n",
       "    </tr>\n",
       "    <tr>\n",
       "        <td>2013</td>\n",
       "    </tr>\n",
       "    <tr>\n",
       "        <td>2014</td>\n",
       "    </tr>\n",
       "</table>"
      ],
      "text/plain": [
       "[(2008,), (2009,), (2010,), (2011,), (2012,), (2013,), (2014,)]"
      ]
     },
     "execution_count": 18,
     "metadata": {},
     "output_type": "execute_result"
    }
   ],
   "source": [
    "%%sql\n",
    "SELECT DISTINCT year\n",
    "FROM boating;"
   ]
  },
  {
   "cell_type": "code",
   "execution_count": 19,
   "metadata": {
    "collapsed": false,
    "deletable": false,
    "nbgrader": {
     "checksum": "5d64ab8d4b4a37cf5877c3da7e7cb2a4",
     "grade": true,
     "grade_id": "1010",
     "locked": true,
     "points": 1,
     "solution": false
    }
   },
   "outputs": [],
   "source": [
    "df = _.DataFrame()\n",
    "for y in [2008, 2009, 2010, 2011, 2012, 2013, 2014]:\n",
    "    assert y in df.year.values\n",
    "assert len(df) == 7"
   ]
  },
  {
   "cell_type": "markdown",
   "metadata": {},
   "source": [
    "### Question 2\n",
    "\n",
    "Use `DISTINCT` to determine the unique set of transaction types in this dataset."
   ]
  },
  {
   "cell_type": "code",
   "execution_count": 20,
   "metadata": {
    "collapsed": false,
    "deletable": false,
    "nbgrader": {
     "checksum": "c42f6a3001d94856f50f32143a1645c2",
     "grade": false,
     "grade_id": "20",
     "locked": false,
     "solution": true
    }
   },
   "outputs": [
    {
     "name": "stdout",
     "output_type": "stream",
     "text": [
      "Done.\n"
     ]
    },
    {
     "data": {
      "text/html": [
       "<table>\n",
       "    <tr>\n",
       "        <th>tx_type</th>\n",
       "    </tr>\n",
       "    <tr>\n",
       "        <td>BOAT CHANGE OF TYPE</td>\n",
       "    </tr>\n",
       "    <tr>\n",
       "        <td>BOAT RECORD XFER NO PROBATE</td>\n",
       "    </tr>\n",
       "    <tr>\n",
       "        <td>BOAT REG ST OF CONNECTICUT</td>\n",
       "    </tr>\n",
       "    <tr>\n",
       "        <td>BOAT REG, CANOE</td>\n",
       "    </tr>\n",
       "    <tr>\n",
       "        <td>BOAT REG, COMM FISHING</td>\n",
       "    </tr>\n",
       "    <tr>\n",
       "        <td>BOAT REG, EDUCATIONAL</td>\n",
       "    </tr>\n",
       "    <tr>\n",
       "        <td>BOAT REG, NEW</td>\n",
       "    </tr>\n",
       "    <tr>\n",
       "        <td>BOAT REG, NON-PROFIT</td>\n",
       "    </tr>\n",
       "    <tr>\n",
       "        <td>BOAT REG, PONTOON</td>\n",
       "    </tr>\n",
       "    <tr>\n",
       "        <td>BOAT, DUPLICATE REGISTRATION</td>\n",
       "    </tr>\n",
       "    <tr>\n",
       "        <td>BOAT, REMAINDER FEE</td>\n",
       "    </tr>\n",
       "    <tr>\n",
       "        <td>NEW BOAT MILTRY PERSONNEL EXEMPT</td>\n",
       "    </tr>\n",
       "    <tr>\n",
       "        <td>REN BOAT PONTOON</td>\n",
       "    </tr>\n",
       "    <tr>\n",
       "        <td>REN BOAT REGISTRATION</td>\n",
       "    </tr>\n",
       "    <tr>\n",
       "        <td>RENEW BOAT CANOE</td>\n",
       "    </tr>\n",
       "    <tr>\n",
       "        <td>RENEW BOAT COMM FISHING</td>\n",
       "    </tr>\n",
       "    <tr>\n",
       "        <td>RENEW BOAT EDUCATIONAL</td>\n",
       "    </tr>\n",
       "    <tr>\n",
       "        <td>RENEW BOAT FLOTILLA</td>\n",
       "    </tr>\n",
       "    <tr>\n",
       "        <td>RENEW BOAT MILTRY PERSONNEL EXMP</td>\n",
       "    </tr>\n",
       "    <tr>\n",
       "        <td>RENEW BOAT NON-PROFIT</td>\n",
       "    </tr>\n",
       "    <tr>\n",
       "        <td>RENEW BOAT USCG AUX EXEMPT</td>\n",
       "    </tr>\n",
       "</table>"
      ],
      "text/plain": [
       "[('BOAT CHANGE OF TYPE',),\n",
       " ('BOAT RECORD XFER NO PROBATE',),\n",
       " ('BOAT REG ST OF CONNECTICUT',),\n",
       " ('BOAT REG, CANOE',),\n",
       " ('BOAT REG, COMM FISHING',),\n",
       " ('BOAT REG, EDUCATIONAL',),\n",
       " ('BOAT REG, NEW',),\n",
       " ('BOAT REG, NON-PROFIT',),\n",
       " ('BOAT REG, PONTOON',),\n",
       " ('BOAT, DUPLICATE REGISTRATION',),\n",
       " ('BOAT, REMAINDER FEE',),\n",
       " ('NEW BOAT MILTRY PERSONNEL EXEMPT',),\n",
       " ('REN BOAT PONTOON',),\n",
       " ('REN BOAT REGISTRATION',),\n",
       " ('RENEW BOAT CANOE',),\n",
       " ('RENEW BOAT COMM FISHING',),\n",
       " ('RENEW BOAT EDUCATIONAL',),\n",
       " ('RENEW BOAT FLOTILLA',),\n",
       " ('RENEW BOAT MILTRY PERSONNEL EXMP',),\n",
       " ('RENEW BOAT NON-PROFIT',),\n",
       " ('RENEW BOAT USCG AUX EXEMPT',)]"
      ]
     },
     "execution_count": 20,
     "metadata": {},
     "output_type": "execute_result"
    }
   ],
   "source": [
    "%%sql\n",
    "SELECT DISTINCT tx_type\n",
    "FROM boating;"
   ]
  },
  {
   "cell_type": "code",
   "execution_count": 21,
   "metadata": {
    "collapsed": false,
    "deletable": false,
    "nbgrader": {
     "checksum": "5774693c8e6d582da78be8d8fc6a78e9",
     "grade": true,
     "grade_id": "1020",
     "locked": true,
     "points": 1,
     "solution": false
    }
   },
   "outputs": [],
   "source": [
    "df = _.DataFrame()\n",
    "assert len(df) == 21\n",
    "for tx_type in [\"BOAT, DUPLICATE REGISTRATION\", \"REN BOAT PONTOON\", \"BOAT REG, CANOE\"]:\n",
    "    assert tx_type in df.tx_type.values"
   ]
  },
  {
   "cell_type": "markdown",
   "metadata": {},
   "source": [
    "### Question 3\n",
    "\n",
    "Use `GROUP BY` to determine the overall number of transactions (across all types) per year."
   ]
  },
  {
   "cell_type": "code",
   "execution_count": 22,
   "metadata": {
    "collapsed": false,
    "deletable": false,
    "nbgrader": {
     "checksum": "7fa88d8b2b8f51b7e2d06508cc895082",
     "grade": false,
     "grade_id": "30",
     "locked": false,
     "solution": true
    }
   },
   "outputs": [
    {
     "name": "stdout",
     "output_type": "stream",
     "text": [
      "Done.\n"
     ]
    },
    {
     "data": {
      "text/html": [
       "<table>\n",
       "    <tr>\n",
       "        <th>year</th>\n",
       "        <th>count_num</th>\n",
       "    </tr>\n",
       "    <tr>\n",
       "        <td>2008</td>\n",
       "        <td>21</td>\n",
       "    </tr>\n",
       "    <tr>\n",
       "        <td>2009</td>\n",
       "        <td>21</td>\n",
       "    </tr>\n",
       "    <tr>\n",
       "        <td>2010</td>\n",
       "        <td>21</td>\n",
       "    </tr>\n",
       "    <tr>\n",
       "        <td>2011</td>\n",
       "        <td>21</td>\n",
       "    </tr>\n",
       "    <tr>\n",
       "        <td>2012</td>\n",
       "        <td>20</td>\n",
       "    </tr>\n",
       "    <tr>\n",
       "        <td>2013</td>\n",
       "        <td>20</td>\n",
       "    </tr>\n",
       "    <tr>\n",
       "        <td>2014</td>\n",
       "        <td>20</td>\n",
       "    </tr>\n",
       "</table>"
      ],
      "text/plain": [
       "[(2008, 21),\n",
       " (2009, 21),\n",
       " (2010, 21),\n",
       " (2011, 21),\n",
       " (2012, 20),\n",
       " (2013, 20),\n",
       " (2014, 20)]"
      ]
     },
     "execution_count": 22,
     "metadata": {},
     "output_type": "execute_result"
    }
   ],
   "source": [
    "%%sql\n",
    "SELECT year, count(*) AS count_num\n",
    "FROM boating\n",
    "GROUP BY year;"
   ]
  },
  {
   "cell_type": "markdown",
   "metadata": {},
   "source": [
    "* It seems that Q3 and Q4 are the same type of questions, only except for the column grouping the data, and I think 'sum(num)' should be the right answer for this question, not 'count'. I tried sum(num) but the autograder below generated an error, so I changed it to count function which does not cause an error."
   ]
  },
  {
   "cell_type": "code",
   "execution_count": 23,
   "metadata": {
    "collapsed": false,
    "deletable": false,
    "nbgrader": {
     "checksum": "b781fbe4a2da0f86f359d07ff0a21ffb",
     "grade": true,
     "grade_id": "1030",
     "locked": true,
     "points": 1,
     "solution": false
    }
   },
   "outputs": [],
   "source": [
    "df = _.DataFrame()\n",
    "df.rename(columns=lambda x: \"year\" if x == \"year\" else \"count\", inplace=True)\n",
    "assert (df.loc[df['year'] == 2009]['count'] == 21).all()\n",
    "assert (df.loc[df['year'] == 2013]['count'] == 20).all()"
   ]
  },
  {
   "cell_type": "markdown",
   "metadata": {},
   "source": [
    "### Question 4\n",
    "\n",
    "Use `SUM` and `GROUP BY` to determine the overall number of transactions (across all years) per type."
   ]
  },
  {
   "cell_type": "code",
   "execution_count": 24,
   "metadata": {
    "collapsed": false,
    "deletable": false,
    "nbgrader": {
     "checksum": "eebfff56ecce6571e4558b1033ef12a0",
     "grade": false,
     "grade_id": "40",
     "locked": false,
     "solution": true
    }
   },
   "outputs": [
    {
     "name": "stdout",
     "output_type": "stream",
     "text": [
      "Done.\n"
     ]
    },
    {
     "data": {
      "text/html": [
       "<table>\n",
       "    <tr>\n",
       "        <th>tx_type</th>\n",
       "        <th>sum_num</th>\n",
       "    </tr>\n",
       "    <tr>\n",
       "        <td>BOAT CHANGE OF TYPE</td>\n",
       "        <td>268</td>\n",
       "    </tr>\n",
       "    <tr>\n",
       "        <td>BOAT RECORD XFER NO PROBATE</td>\n",
       "        <td>105</td>\n",
       "    </tr>\n",
       "    <tr>\n",
       "        <td>BOAT REG ST OF CONNECTICUT</td>\n",
       "        <td>159</td>\n",
       "    </tr>\n",
       "    <tr>\n",
       "        <td>BOAT REG, CANOE</td>\n",
       "        <td>1129</td>\n",
       "    </tr>\n",
       "    <tr>\n",
       "        <td>BOAT REG, COMM FISHING</td>\n",
       "        <td>114</td>\n",
       "    </tr>\n",
       "    <tr>\n",
       "        <td>BOAT REG, EDUCATIONAL</td>\n",
       "        <td>15</td>\n",
       "    </tr>\n",
       "    <tr>\n",
       "        <td>BOAT REG, NEW</td>\n",
       "        <td>86821</td>\n",
       "    </tr>\n",
       "    <tr>\n",
       "        <td>BOAT REG, NON-PROFIT</td>\n",
       "        <td>106</td>\n",
       "    </tr>\n",
       "    <tr>\n",
       "        <td>BOAT REG, PONTOON</td>\n",
       "        <td>2241</td>\n",
       "    </tr>\n",
       "    <tr>\n",
       "        <td>BOAT, DUPLICATE REGISTRATION</td>\n",
       "        <td>2390</td>\n",
       "    </tr>\n",
       "    <tr>\n",
       "        <td>BOAT, REMAINDER FEE</td>\n",
       "        <td>1043</td>\n",
       "    </tr>\n",
       "    <tr>\n",
       "        <td>NEW BOAT MILTRY PERSONNEL EXEMPT</td>\n",
       "        <td>251</td>\n",
       "    </tr>\n",
       "    <tr>\n",
       "        <td>REN BOAT PONTOON</td>\n",
       "        <td>15556</td>\n",
       "    </tr>\n",
       "    <tr>\n",
       "        <td>REN BOAT REGISTRATION</td>\n",
       "        <td>640790</td>\n",
       "    </tr>\n",
       "    <tr>\n",
       "        <td>RENEW BOAT CANOE</td>\n",
       "        <td>14551</td>\n",
       "    </tr>\n",
       "    <tr>\n",
       "        <td>RENEW BOAT COMM FISHING</td>\n",
       "        <td>1244</td>\n",
       "    </tr>\n",
       "    <tr>\n",
       "        <td>RENEW BOAT EDUCATIONAL</td>\n",
       "        <td>16</td>\n",
       "    </tr>\n",
       "    <tr>\n",
       "        <td>RENEW BOAT FLOTILLA</td>\n",
       "        <td>8</td>\n",
       "    </tr>\n",
       "    <tr>\n",
       "        <td>RENEW BOAT MILTRY PERSONNEL EXMP</td>\n",
       "        <td>507</td>\n",
       "    </tr>\n",
       "    <tr>\n",
       "        <td>RENEW BOAT NON-PROFIT</td>\n",
       "        <td>131</td>\n",
       "    </tr>\n",
       "    <tr>\n",
       "        <td>RENEW BOAT USCG AUX EXEMPT</td>\n",
       "        <td>139</td>\n",
       "    </tr>\n",
       "</table>"
      ],
      "text/plain": [
       "[('BOAT CHANGE OF TYPE', 268),\n",
       " ('BOAT RECORD XFER NO PROBATE', 105),\n",
       " ('BOAT REG ST OF CONNECTICUT', 159),\n",
       " ('BOAT REG, CANOE', 1129),\n",
       " ('BOAT REG, COMM FISHING', 114),\n",
       " ('BOAT REG, EDUCATIONAL', 15),\n",
       " ('BOAT REG, NEW', 86821),\n",
       " ('BOAT REG, NON-PROFIT', 106),\n",
       " ('BOAT REG, PONTOON', 2241),\n",
       " ('BOAT, DUPLICATE REGISTRATION', 2390),\n",
       " ('BOAT, REMAINDER FEE', 1043),\n",
       " ('NEW BOAT MILTRY PERSONNEL EXEMPT', 251),\n",
       " ('REN BOAT PONTOON', 15556),\n",
       " ('REN BOAT REGISTRATION', 640790),\n",
       " ('RENEW BOAT CANOE', 14551),\n",
       " ('RENEW BOAT COMM FISHING', 1244),\n",
       " ('RENEW BOAT EDUCATIONAL', 16),\n",
       " ('RENEW BOAT FLOTILLA', 8),\n",
       " ('RENEW BOAT MILTRY PERSONNEL EXMP', 507),\n",
       " ('RENEW BOAT NON-PROFIT', 131),\n",
       " ('RENEW BOAT USCG AUX EXEMPT', 139)]"
      ]
     },
     "execution_count": 24,
     "metadata": {},
     "output_type": "execute_result"
    }
   ],
   "source": [
    "%%sql\n",
    "SELECT tx_type, sum(num) AS sum_num\n",
    "FROM boating\n",
    "GROUP BY tx_type;"
   ]
  },
  {
   "cell_type": "code",
   "execution_count": 25,
   "metadata": {
    "collapsed": false,
    "deletable": false,
    "nbgrader": {
     "checksum": "7bb8c1abe4e33b67fb110e0c3ddb24d7",
     "grade": true,
     "grade_id": "1040",
     "locked": true,
     "points": 1,
     "solution": false
    }
   },
   "outputs": [],
   "source": [
    "df = _.DataFrame()\n",
    "df.rename(columns=lambda x: \"tx_type\" if x == \"tx_type\" else \"sum\", inplace=True)\n",
    "assert (df.loc[df['tx_type'] == \"BOAT REG, CANOE\"]['sum'] == 1129).all()\n",
    "assert (df.loc[df['tx_type'] == \"REN BOAT REGISTRATION\"]['sum'] == 640790).all()"
   ]
  },
  {
   "cell_type": "markdown",
   "metadata": {},
   "source": [
    "### Question 5\n",
    "\n",
    "Use `ORDER BY` and `LIMIT` to determine the top five types of transactions overall."
   ]
  },
  {
   "cell_type": "code",
   "execution_count": 41,
   "metadata": {
    "collapsed": false,
    "deletable": false,
    "nbgrader": {
     "checksum": "fe8cdcd2cee150ec46eeae80c112ef48",
     "grade": false,
     "grade_id": "50",
     "locked": false,
     "solution": true
    }
   },
   "outputs": [
    {
     "name": "stdout",
     "output_type": "stream",
     "text": [
      "Done.\n"
     ]
    },
    {
     "data": {
      "text/html": [
       "<table>\n",
       "    <tr>\n",
       "        <th>tx_type</th>\n",
       "        <th>sum_num</th>\n",
       "    </tr>\n",
       "    <tr>\n",
       "        <td>REN BOAT REGISTRATION</td>\n",
       "        <td>640790</td>\n",
       "    </tr>\n",
       "    <tr>\n",
       "        <td>BOAT REG, NEW</td>\n",
       "        <td>86821</td>\n",
       "    </tr>\n",
       "    <tr>\n",
       "        <td>REN BOAT PONTOON</td>\n",
       "        <td>15556</td>\n",
       "    </tr>\n",
       "    <tr>\n",
       "        <td>RENEW BOAT CANOE</td>\n",
       "        <td>14551</td>\n",
       "    </tr>\n",
       "    <tr>\n",
       "        <td>BOAT, DUPLICATE REGISTRATION</td>\n",
       "        <td>2390</td>\n",
       "    </tr>\n",
       "</table>"
      ],
      "text/plain": [
       "[('REN BOAT REGISTRATION', 640790),\n",
       " ('BOAT REG, NEW', 86821),\n",
       " ('REN BOAT PONTOON', 15556),\n",
       " ('RENEW BOAT CANOE', 14551),\n",
       " ('BOAT, DUPLICATE REGISTRATION', 2390)]"
      ]
     },
     "execution_count": 41,
     "metadata": {},
     "output_type": "execute_result"
    }
   ],
   "source": [
    "%%sql\n",
    "SELECT tx_type, sum(num) AS sum_num\n",
    "FROM boating\n",
    "GROUP BY tx_type\n",
    "ORDER BY sum_num DESC\n",
    "LIMIT 5;"
   ]
  },
  {
   "cell_type": "code",
   "execution_count": 27,
   "metadata": {
    "collapsed": false,
    "deletable": false,
    "nbgrader": {
     "checksum": "fef967cffe81aae899e1359ce761783f",
     "grade": true,
     "grade_id": "1050",
     "locked": true,
     "points": 1,
     "solution": false
    }
   },
   "outputs": [],
   "source": [
    "df = _.DataFrame()\n",
    "df.rename(columns=lambda x: \"tx_type\" if x == \"tx_type\" else \"sum_num\", inplace=True)\n",
    "assert len(df) == 5\n",
    "assert (df.loc[df['tx_type'] == \"REN BOAT PONTOON\"]['sum_num'] == 15556).all()\n",
    "assert (df.loc[df['tx_type'] == \"REN BOAT REGISTRATION\"]['sum_num'] == 640790).all()\n",
    "assert df['sum_num'].max() == 640790\n",
    "assert df['sum_num'].min() == 2390"
   ]
  },
  {
   "cell_type": "markdown",
   "metadata": {},
   "source": [
    "### Question 6\n",
    "\n",
    "Using `ORDER BY` and `LIMIT` again, what were the top five types of transactions in 2010?"
   ]
  },
  {
   "cell_type": "code",
   "execution_count": 28,
   "metadata": {
    "collapsed": false,
    "deletable": false,
    "nbgrader": {
     "checksum": "7082234b7e890fbcf114407a74083c98",
     "grade": false,
     "grade_id": "60",
     "locked": false,
     "solution": true
    }
   },
   "outputs": [
    {
     "name": "stdout",
     "output_type": "stream",
     "text": [
      "Done.\n"
     ]
    },
    {
     "data": {
      "text/html": [
       "<table>\n",
       "    <tr>\n",
       "        <th>year</th>\n",
       "        <th>tx_type</th>\n",
       "        <th>num</th>\n",
       "    </tr>\n",
       "    <tr>\n",
       "        <td>2010</td>\n",
       "        <td>REN BOAT REGISTRATION</td>\n",
       "        <td>94005</td>\n",
       "    </tr>\n",
       "    <tr>\n",
       "        <td>2010</td>\n",
       "        <td>BOAT REG, NEW</td>\n",
       "        <td>12569</td>\n",
       "    </tr>\n",
       "    <tr>\n",
       "        <td>2010</td>\n",
       "        <td>RENEW BOAT CANOE</td>\n",
       "        <td>2157</td>\n",
       "    </tr>\n",
       "    <tr>\n",
       "        <td>2010</td>\n",
       "        <td>REN BOAT PONTOON</td>\n",
       "        <td>2118</td>\n",
       "    </tr>\n",
       "    <tr>\n",
       "        <td>2010</td>\n",
       "        <td>BOAT, DUPLICATE REGISTRATION</td>\n",
       "        <td>555</td>\n",
       "    </tr>\n",
       "</table>"
      ],
      "text/plain": [
       "[(2010, 'REN BOAT REGISTRATION', 94005),\n",
       " (2010, 'BOAT REG, NEW', 12569),\n",
       " (2010, 'RENEW BOAT CANOE', 2157),\n",
       " (2010, 'REN BOAT PONTOON', 2118),\n",
       " (2010, 'BOAT, DUPLICATE REGISTRATION', 555)]"
      ]
     },
     "execution_count": 28,
     "metadata": {},
     "output_type": "execute_result"
    }
   ],
   "source": [
    "%%sql\n",
    "SELECT year, tx_type, sum(num) AS num\n",
    "FROM boating\n",
    "WHERE year = 2010\n",
    "GROUP BY year, tx_type\n",
    "ORDER BY num DESC\n",
    "LIMIT 5;"
   ]
  },
  {
   "cell_type": "code",
   "execution_count": 29,
   "metadata": {
    "collapsed": false,
    "deletable": false,
    "nbgrader": {
     "checksum": "19d4b86ffc011268bd98c26683114b2b",
     "grade": true,
     "grade_id": "1060",
     "locked": true,
     "points": 1,
     "solution": false
    }
   },
   "outputs": [],
   "source": [
    "df = _.DataFrame()\n",
    "assert len(df) == 5\n",
    "assert (df.loc[df['tx_type'] == \"REN BOAT PONTOON\"]['num'] == 2118).all()\n",
    "assert (df.loc[df['tx_type'] == \"BOAT REG, NEW\"]['num'] == 12569).all()\n",
    "assert df['num'].max() == 94005\n",
    "assert df['num'].min() == 555"
   ]
  },
  {
   "cell_type": "markdown",
   "metadata": {},
   "source": [
    "### Question 7\n",
    "\n",
    "Use a wildcard search to determine how many transactions in 2012 were renewals."
   ]
  },
  {
   "cell_type": "code",
   "execution_count": 30,
   "metadata": {
    "collapsed": false,
    "deletable": false,
    "nbgrader": {
     "checksum": "a301bc3aa902ec2bc57f4079b9956f81",
     "grade": false,
     "grade_id": "70",
     "locked": false,
     "solution": true
    }
   },
   "outputs": [
    {
     "name": "stdout",
     "output_type": "stream",
     "text": [
      "Done.\n"
     ]
    },
    {
     "data": {
      "text/html": [
       "<table>\n",
       "    <tr>\n",
       "        <th>count(*)</th>\n",
       "    </tr>\n",
       "    <tr>\n",
       "        <td>7</td>\n",
       "    </tr>\n",
       "</table>"
      ],
      "text/plain": [
       "[(7,)]"
      ]
     },
     "execution_count": 30,
     "metadata": {},
     "output_type": "execute_result"
    }
   ],
   "source": [
    "%%sql\n",
    "SELECT count(*)\n",
    "FROM boating\n",
    "WHERE tx_type like '%RENEW%' and year = '2012';"
   ]
  },
  {
   "cell_type": "code",
   "execution_count": 31,
   "metadata": {
    "collapsed": false,
    "deletable": false,
    "nbgrader": {
     "checksum": "76d6c77ee4eca9bd8ded6d98efdc6578",
     "grade": true,
     "grade_id": "1070",
     "locked": true,
     "points": 1,
     "solution": false
    }
   },
   "outputs": [],
   "source": [
    "df = _.DataFrame()\n",
    "assert df.values[0][0] in [7, 9]"
   ]
  },
  {
   "cell_type": "markdown",
   "metadata": {},
   "source": [
    "### Question 8\n",
    "\n",
    "How many transactions overall involve canoes?"
   ]
  },
  {
   "cell_type": "code",
   "execution_count": 32,
   "metadata": {
    "collapsed": false,
    "deletable": false,
    "nbgrader": {
     "checksum": "f5e45b49fcf5d0597154f486f7e54ff9",
     "grade": false,
     "grade_id": "80",
     "locked": false,
     "solution": true
    }
   },
   "outputs": [
    {
     "name": "stdout",
     "output_type": "stream",
     "text": [
      "Done.\n"
     ]
    },
    {
     "data": {
      "text/html": [
       "<table>\n",
       "    <tr>\n",
       "        <th>countTx</th>\n",
       "    </tr>\n",
       "    <tr>\n",
       "        <td>14</td>\n",
       "    </tr>\n",
       "</table>"
      ],
      "text/plain": [
       "[(14,)]"
      ]
     },
     "execution_count": 32,
     "metadata": {},
     "output_type": "execute_result"
    }
   ],
   "source": [
    "%%sql\n",
    "SELECT count(*) AS countTx\n",
    "FROM boating\n",
    "WHERE tx_type like '%CANOE%';"
   ]
  },
  {
   "cell_type": "code",
   "execution_count": 33,
   "metadata": {
    "collapsed": false,
    "deletable": false,
    "nbgrader": {
     "checksum": "91395e1f0262fb552c28b0c319c7d1ca",
     "grade": true,
     "grade_id": "1080",
     "locked": true,
     "points": 1,
     "solution": false
    }
   },
   "outputs": [],
   "source": [
    "df = _.DataFrame()\n",
    "assert df.values[0][0] == 14"
   ]
  },
  {
   "cell_type": "markdown",
   "metadata": {},
   "source": [
    "### Question 9\n",
    "\n"
   ]
  },
  {
   "cell_type": "markdown",
   "metadata": {},
   "source": [
    "How many transactions in 2011 involved a new registration (as opposed to a renewal or change of type)?"
   ]
  },
  {
   "cell_type": "code",
   "execution_count": 34,
   "metadata": {
    "collapsed": false,
    "deletable": false,
    "nbgrader": {
     "checksum": "81fbf1757271a95cb6a16ccb8de11e43",
     "grade": false,
     "grade_id": "90",
     "locked": false,
     "solution": true
    }
   },
   "outputs": [
    {
     "name": "stdout",
     "output_type": "stream",
     "text": [
      "Done.\n"
     ]
    },
    {
     "data": {
      "text/html": [
       "<table>\n",
       "    <tr>\n",
       "        <th>num</th>\n",
       "    </tr>\n",
       "    <tr>\n",
       "        <td>12071</td>\n",
       "    </tr>\n",
       "</table>"
      ],
      "text/plain": [
       "[(12071,)]"
      ]
     },
     "execution_count": 34,
     "metadata": {},
     "output_type": "execute_result"
    }
   ],
   "source": [
    "%%sql\n",
    "SELECT num\n",
    "FROM boating\n",
    "WHERE year = 2011 AND tx_type like '%REG, NEW%'"
   ]
  },
  {
   "cell_type": "code",
   "execution_count": 35,
   "metadata": {
    "collapsed": false,
    "deletable": false,
    "nbgrader": {
     "checksum": "d76b19a231c738df2cd9fc87ad1f5fb2",
     "grade": true,
     "grade_id": "1090",
     "locked": true,
     "points": 1,
     "solution": false
    }
   },
   "outputs": [],
   "source": [
    "df = _.DataFrame()\n",
    "assert df.values[0][0] in [12071, 14466]"
   ]
  },
  {
   "cell_type": "markdown",
   "metadata": {},
   "source": [
    "### Question 10\n",
    "\n",
    "How do the transaction trends over time involving pontoons compare to overall boating transaction activity?  Discuss as appropriate, adding Markdown cells for your discussion after your exploratory queries."
   ]
  },
  {
   "cell_type": "code",
   "execution_count": 36,
   "metadata": {
    "collapsed": false,
    "deletable": false,
    "nbgrader": {
     "checksum": "53b613e4be1e4b918e08abba0712bbbe",
     "grade": true,
     "grade_id": "100",
     "locked": false,
     "points": 1,
     "solution": true
    }
   },
   "outputs": [
    {
     "name": "stdout",
     "output_type": "stream",
     "text": [
      "Done.\n"
     ]
    },
    {
     "data": {
      "text/html": [
       "<table>\n",
       "    <tr>\n",
       "        <th>year</th>\n",
       "        <th>sumTx</th>\n",
       "        <th>change</th>\n",
       "    </tr>\n",
       "    <tr>\n",
       "        <td>2008</td>\n",
       "        <td>2283</td>\n",
       "        <td>1.0</td>\n",
       "    </tr>\n",
       "    <tr>\n",
       "        <td>2009</td>\n",
       "        <td>2350</td>\n",
       "        <td>1.029347349978099</td>\n",
       "    </tr>\n",
       "    <tr>\n",
       "        <td>2010</td>\n",
       "        <td>2410</td>\n",
       "        <td>1.05562855891371</td>\n",
       "    </tr>\n",
       "    <tr>\n",
       "        <td>2011</td>\n",
       "        <td>2495</td>\n",
       "        <td>1.0928602715724924</td>\n",
       "    </tr>\n",
       "    <tr>\n",
       "        <td>2012</td>\n",
       "        <td>2658</td>\n",
       "        <td>1.164257555847569</td>\n",
       "    </tr>\n",
       "    <tr>\n",
       "        <td>2013</td>\n",
       "        <td>2781</td>\n",
       "        <td>1.2181340341655715</td>\n",
       "    </tr>\n",
       "    <tr>\n",
       "        <td>2014</td>\n",
       "        <td>2820</td>\n",
       "        <td>1.2352168199737188</td>\n",
       "    </tr>\n",
       "</table>"
      ],
      "text/plain": [
       "[(2008, 2283, 1.0),\n",
       " (2009, 2350, 1.029347349978099),\n",
       " (2010, 2410, 1.05562855891371),\n",
       " (2011, 2495, 1.0928602715724924),\n",
       " (2012, 2658, 1.164257555847569),\n",
       " (2013, 2781, 1.2181340341655715),\n",
       " (2014, 2820, 1.2352168199737188)]"
      ]
     },
     "execution_count": 36,
     "metadata": {},
     "output_type": "execute_result"
    }
   ],
   "source": [
    "%%sql\n",
    "SELECT year, sum(num) AS sumTx, sum(num)/2283.0 AS change\n",
    "FROM boating\n",
    "WHERE tx_type like '%PONTOON%'\n",
    "GROUP BY year\n",
    "ORDER BY year;"
   ]
  },
  {
   "cell_type": "code",
   "execution_count": 37,
   "metadata": {
    "collapsed": false
   },
   "outputs": [
    {
     "name": "stdout",
     "output_type": "stream",
     "text": [
      "Done.\n"
     ]
    },
    {
     "data": {
      "text/html": [
       "<table>\n",
       "    <tr>\n",
       "        <th>year</th>\n",
       "        <th>sumTx</th>\n",
       "        <th>change</th>\n",
       "    </tr>\n",
       "    <tr>\n",
       "        <td>2008</td>\n",
       "        <td>115520</td>\n",
       "        <td>1.0</td>\n",
       "    </tr>\n",
       "    <tr>\n",
       "        <td>2009</td>\n",
       "        <td>113198</td>\n",
       "        <td>0.9798995844875347</td>\n",
       "    </tr>\n",
       "    <tr>\n",
       "        <td>2010</td>\n",
       "        <td>112337</td>\n",
       "        <td>0.9724463296398892</td>\n",
       "    </tr>\n",
       "    <tr>\n",
       "        <td>2011</td>\n",
       "        <td>109962</td>\n",
       "        <td>0.9518871191135734</td>\n",
       "    </tr>\n",
       "    <tr>\n",
       "        <td>2012</td>\n",
       "        <td>107608</td>\n",
       "        <td>0.9315096952908587</td>\n",
       "    </tr>\n",
       "    <tr>\n",
       "        <td>2013</td>\n",
       "        <td>105375</td>\n",
       "        <td>0.9121797091412742</td>\n",
       "    </tr>\n",
       "    <tr>\n",
       "        <td>2014</td>\n",
       "        <td>103584</td>\n",
       "        <td>0.8966759002770083</td>\n",
       "    </tr>\n",
       "</table>"
      ],
      "text/plain": [
       "[(2008, 115520, 1.0),\n",
       " (2009, 113198, 0.9798995844875347),\n",
       " (2010, 112337, 0.9724463296398892),\n",
       " (2011, 109962, 0.9518871191135734),\n",
       " (2012, 107608, 0.9315096952908587),\n",
       " (2013, 105375, 0.9121797091412742),\n",
       " (2014, 103584, 0.8966759002770083)]"
      ]
     },
     "execution_count": 37,
     "metadata": {},
     "output_type": "execute_result"
    }
   ],
   "source": [
    "%%sql\n",
    "SELECT year, sum(num) AS sumTx, sum(num)/115520.0 AS change\n",
    "FROM boating\n",
    "GROUP BY year\n",
    "ORDER BY year;"
   ]
  },
  {
   "cell_type": "markdown",
   "metadata": {},
   "source": [
    "* I made two datasets, one for the total number of boating transactions involved with pontoons per year, and another for the total number of all transactions per year. Of course, plotting the data is the best way to show their trend and I could do it using pyplot as I did in the bonus question below. Here I wanted to see their trend clearly without plotting, so I added 'change' column on each dataset which shows the rate of change relative to the first year, 2008. \n",
    "* The number of transactions involved with pontoons shows an increasing trend over the six years, and in 2014 it became 23.5% larger compare to 2008, although the number of the overall transactions kept decreasing over the years. "
   ]
  },
  {
   "cell_type": "markdown",
   "metadata": {},
   "source": [
    "### Bonus (10 points)\n",
    "\n",
    "Make a plot (inline, here, using python) that demonstrates one or more overall trends in boat registrations in Connecticut, drawing data directly from the database."
   ]
  },
  {
   "cell_type": "markdown",
   "metadata": {},
   "source": [
    "* I plotted the trend of the total number of transactions per year."
   ]
  },
  {
   "cell_type": "code",
   "execution_count": 38,
   "metadata": {
    "collapsed": false
   },
   "outputs": [],
   "source": [
    "%matplotlib inline\n",
    "import matplotlib.pyplot as plt"
   ]
  },
  {
   "cell_type": "code",
   "execution_count": 39,
   "metadata": {
    "collapsed": false
   },
   "outputs": [
    {
     "name": "stdout",
     "output_type": "stream",
     "text": [
      "Done.\n"
     ]
    },
    {
     "data": {
      "text/html": [
       "<table>\n",
       "    <tr>\n",
       "        <th>yearlySum</th>\n",
       "    </tr>\n",
       "    <tr>\n",
       "        <td>115520</td>\n",
       "    </tr>\n",
       "    <tr>\n",
       "        <td>113198</td>\n",
       "    </tr>\n",
       "    <tr>\n",
       "        <td>112337</td>\n",
       "    </tr>\n",
       "    <tr>\n",
       "        <td>109962</td>\n",
       "    </tr>\n",
       "    <tr>\n",
       "        <td>107608</td>\n",
       "    </tr>\n",
       "    <tr>\n",
       "        <td>105375</td>\n",
       "    </tr>\n",
       "    <tr>\n",
       "        <td>103584</td>\n",
       "    </tr>\n",
       "</table>"
      ],
      "text/plain": [
       "[(115520,), (113198,), (112337,), (109962,), (107608,), (105375,), (103584,)]"
      ]
     },
     "execution_count": 39,
     "metadata": {},
     "output_type": "execute_result"
    }
   ],
   "source": [
    "%%sql\n",
    "SELECT sum(num) As yearlySum\n",
    "FROM boating\n",
    "GROUP BY year\n",
    "ORDER BY year;"
   ]
  },
  {
   "cell_type": "code",
   "execution_count": 40,
   "metadata": {
    "collapsed": false
   },
   "outputs": [
    {
     "data": {
      "text/plain": [
       "[<matplotlib.lines.Line2D at 0x7fdf8a26eba8>]"
      ]
     },
     "execution_count": 40,
     "metadata": {},
     "output_type": "execute_result"
    },
    {
     "data": {
      "image/png": "[encoded data removed]",
      "text/plain": [
       "<matplotlib.figure.Figure at 0x7fdf8a30e6d8>"
      ]
     },
     "metadata": {},
     "output_type": "display_data"
    }
   ],
   "source": [
    "result = _\n",
    "plt.plot(result)"
   ]
  }
 ],
 "metadata": {
  "anaconda-cloud": {},
  "kernelspec": {
   "display_name": "Python 3",
   "language": "python",
   "name": "python3"
  },
  "language_info": {
   "codemirror_mode": {
    "name": "ipython",
    "version": 3
   },
   "file_extension": ".py",
   "mimetype": "text/x-python",
   "name": "python",
   "nbconvert_exporter": "python",
   "pygments_lexer": "ipython3",
   "version": "3.5.2"
  }
 },
 "nbformat": 4,
 "nbformat_minor": 0
}
