{
 "cells": [
  {
   "cell_type": "markdown",
   "metadata": {
    "slideshow": {
     "slide_type": "slide"
    }
   },
   "source": [
    "# Project 3 --- Where the government money goes in Austin?\n",
    "\n",
    "\n",
    "## Group Member:\n",
    "### Rithvik Mundra\n",
    "### Soomin Park\n",
    "### Szu-Ying Yang\n",
    "### Rongchu Zhao"
   ]
  },
  {
   "cell_type": "markdown",
   "metadata": {
    "slideshow": {
     "slide_type": "slide"
    }
   },
   "source": [
    "## Part 1 - Select Data: Austin Finance eCheckbook data\n",
    "\n",
    "## Why this data?"
   ]
  },
  {
   "cell_type": "markdown",
   "metadata": {
    "slideshow": {
     "slide_type": "subslide"
    }
   },
   "source": [
    "### Austin Finance Online eCheckbook data. "
   ]
  },
  {
   "cell_type": "markdown",
   "metadata": {
    "slideshow": {
     "slide_type": "skip"
    }
   },
   "source": [
    "We decided to use the Austin Finance Online eCheckbook data, this data provides details on the city’s expenditure on different purposes. The data in the eCheckbook represents purchases of goods and services made by City departments from third parties. According to the Austin goverment website, the transactions that related to energy have been excluded because of the regulation.\n",
    "The data source is https://data.austintexas.gov/Financial/Austin-Finance-Online-eCheckbook/8c6z-qnmj. \n",
    "### Reason of choosing the dataset:\n",
    "First, Austin is one of the largest city in Texas and they provide thorough information about government spending, so we are thrilled to have the opportunity to analyze the data and see the picture of what the governemnt has done with tax collected from the taxpayers. \n",
    "Second, we did crime and property related topics in previous assignment, hence this time we want to do something differet and more finacial related topic. Therefore, we choose the spending data as our topic this time.  \n",
    "Furthermore, we checked spending data in other cities and found that this dataset leaves more room for us to do some wrangling and analysis, so it will be challenging and interesting.\n",
    "At last, because this data is recorded as the each check was spend on specific purchase that performed by goverment, so we think each record represents individual transaction, which meets the requirement of data set choosing. "
   ]
  },
  {
   "cell_type": "code",
   "execution_count": null,
   "metadata": {
    "collapsed": true
   },
   "outputs": [],
   "source": [
    "!wget https://data.austintexas.gov/api/views/8c6z-qnmj/rows.csv?accessType=DOWNLOAD"
   ]
  },
  {
   "cell_type": "markdown",
   "metadata": {},
   "source": [
    "Now renaming the downloaded file to austin_data.csv\n"
   ]
  },
  {
   "cell_type": "code",
   "execution_count": null,
   "metadata": {
    "collapsed": true
   },
   "outputs": [],
   "source": [
    "!mv rows.csv?accessType=DOWNLOAD austin_data.csv"
   ]
  },
  {
   "cell_type": "markdown",
   "metadata": {},
   "source": [
    "Observing the column names in the datset"
   ]
  },
  {
   "cell_type": "code",
   "execution_count": 4,
   "metadata": {
    "collapsed": false
   },
   "outputs": [
    {
     "name": "stdout",
     "output_type": "stream",
     "text": [
      "  1: FY_DC\r\n",
      "  2: PER_CD\r\n",
      "  3: DEPT_CD\r\n",
      "  4: DEPT_NM\r\n",
      "  5: FUND_CD\r\n",
      "  6: FUND_NM\r\n",
      "  7: DIV_CD\r\n",
      "  8: DIV_NM\r\n",
      "  9: GP_CD\r\n",
      " 10: GP_NM\r\n",
      " 11: OCAT_CD\r\n",
      " 12: OCAT_NM\r\n",
      " 13: OBJ_CD\r\n",
      " 14: OBJ_NM\r\n",
      " 15: LGL_NM\r\n",
      " 16: VEND_CUST_CD\r\n",
      " 17: VEND_CUST_IND\r\n",
      " 18: RFED_DOC_CD\r\n",
      " 19: RFED_DOC_DEPT_CD\r\n",
      " 20: RFED_DOC_ID\r\n",
      " 21: COMM_CD\r\n",
      " 22: COMM_DSCR\r\n",
      " 23: CHK_EFT_ISS_DT\r\n",
      " 24: CVL_CHK_STA_DV\r\n",
      " 25: RFED_VEND_LN_NO\r\n",
      " 26: RFED_COMM_LN_NO\r\n",
      " 27: RFED_ACTG_LN_NO\r\n",
      " 28: RF_DOC_CD\r\n",
      " 29: RF_DOC_DEPT_CD\r\n",
      " 30: RF_DOC_ID\r\n",
      " 31: ACTG_LN_DSCR\r\n",
      " 32: AMOUNT\r\n",
      " 33: CAL_YEAR\r\n",
      " 34: CAL_MONTH\r\n"
     ]
    }
   ],
   "source": [
    "!csvcut -n austin_data.csv"
   ]
  },
  {
   "cell_type": "markdown",
   "metadata": {
    "slideshow": {
     "slide_type": "slide"
    }
   },
   "source": [
    "### Column Description:\n",
    "    1. FY_DC: Fiscal Year, from Oct.1-Sep.30    \n",
    "    2. PER_CD: Fiscal Month, start from Oct to Sept. \n",
    "    3. DEPT_CD: Department code (A department is a primary organizational unit used by the city of Austin.)  \n",
    "    4. DEPT_NM: Department name    \n",
    "    5. FUND_CD: Fund code. Funds help organize the City's finances.  \n",
    "    6. FUND_NM: Fund name   \n",
    "    7. DIV_CD: Division code / Program Code (A program is the secondary organizational unit used by the City of Austin.)    \n",
    "    8. DIV_NM: Division name / Program Name    \n",
    "    9. GP_CD: Group Code/Activity Code, which is a sub-group under programs that further segregates the organization to track the City of Austin's functions and expenses.    \n",
    "    10. GP_NM: Group Name/Activity Name    \n",
    "    11. OCAT_CD: Object Category, which is a high level grouping of expenses.    \n",
    "    12. OCAT_NM: Object Category Name    \n",
    "    13. OBJ_CD: Object code, which is identification code associated with an object of expenditure.    \n",
    "    14. OBJ_NM: Object name    \n",
    "    15. LGL_NM: The legally defined name of the company or individual.    \n",
    "    16. VEND_CUST_CD: Vendor identification number with the City.   \n",
    "    17. VEND_CUST_IND: Vendor/Customer indicator.    \n",
    "    18. RFED_DOC_CD: Referenced document code, which is the actual payment document code.    \n",
    "    19. RFED_DOC_DEPT_CD: Referenced document department, that created the payment document, code.   \n",
    "    20. RFED_DOC_ID: Referenced document identification number.    \n",
    "    21. COMM_CD: Commodity code\n",
    "    22. COMM_DSCR: Commodity description\n",
    "    23. CHK_EFT_ISS_DT: Check issued date\n",
    "    24. CVL_CHK_STA_DV: Check status (either show Paid or Outstanding)\n",
    "    25. RFED_VEND_LN_NO: Referenced vendor line number\n",
    "    26. RFED_COMM_LN_NO: Referenced commodity line number\n",
    "    27. RFED_ACTG_LN_NO: Referenced accounting line number\n",
    "    28. RF_DOC_CD: Referenced document code\n",
    "    29. RF_DOC_DEPT_CD: Referenced document department code\n",
    "    30. RF_DOC_ID: Referenced document identification number\n",
    "    31. ACTG_LN_DSCR: Accounting Line Description\n",
    "    32. AMOUNT: Payment amount\n",
    "    33. CAL_YEAR: Calendar Year (from Jan.1 - Dec.31)\n",
    "    34. CAL_MONTH: Calendar Month"
   ]
  },
  {
   "cell_type": "markdown",
   "metadata": {
    "slideshow": {
     "slide_type": "slide"
    }
   },
   "source": [
    "### Questions we want to be able to answer with the data\n",
    "How is the governmnet expenditure being distributed among each category? For example, among each each organization, or object, or specific funds or etc.\n",
    "\n",
    "We want to visualize the government spending information to check if there is any seasonality in the spending?\n",
    "\n",
    "What kind of expenditure are most likely to result in outstanding check. For example which kind of object type, of program, of devision, or etc."
   ]
  },
  {
   "cell_type": "markdown",
   "metadata": {
    "slideshow": {
     "slide_type": "skip"
    }
   },
   "source": [
    "### Challenges and Concerns:\n",
    "The data is thoroughly recorded, so in future we have to figure out how to set up the star schema, like which columns should formed as one dimension table and etc. \n",
    "\n",
    "Second, some columns has missing value issues, so we have to deal with it. \n",
    "\n",
    "Third, we found some columns may referenced to another table, which is not related to our analysis, so we have to decided how to handle these columns. \n",
    "\n",
    "Then, there are some description colunms include similar information, such as the column Accounting line description and column Commodity description, so we will decide to choose which one. \n",
    "\n",
    "Furthermore, some categorical columns are include too many categories, for example the column Fund_Name so it will be difficult to show an insteresting trend by grouping them. \n",
    "\n",
    "Fianlly, the original data includes more than 1000,000 records, which is relatively burdensome for us and for notebook and VM-vare. In order to do the analysis smoothly we will reduce the amount of the data. "
   ]
  },
  {
   "cell_type": "markdown",
   "metadata": {
    "slideshow": {
     "slide_type": "skip"
    }
   },
   "source": [
    "Now we are finding the number of rows in the data."
   ]
  },
  {
   "cell_type": "code",
   "execution_count": 5,
   "metadata": {
    "collapsed": false,
    "slideshow": {
     "slide_type": "skip"
    }
   },
   "outputs": [
    {
     "name": "stdout",
     "output_type": "stream",
     "text": [
      "1106654 austin_data.csv\r\n"
     ]
    }
   ],
   "source": [
    "!wc -l austin_data.csv"
   ]
  },
  {
   "cell_type": "markdown",
   "metadata": {
    "slideshow": {
     "slide_type": "slide"
    }
   },
   "source": [
    "### Filtering :    \n",
    "As we mentioned eariler, we have to take a subset of the data. The original data is recorded from 2009 to 2016, we want to analyze the most recent data so we  select only three years from 2014-2016. "
   ]
  },
  {
   "cell_type": "code",
   "execution_count": 5,
   "metadata": {
    "collapsed": false,
    "slideshow": {
     "slide_type": "subslide"
    }
   },
   "outputs": [],
   "source": [
    "!csvgrep -c1 -m '2014' original.csv > austin.csv"
   ]
  },
  {
   "cell_type": "code",
   "execution_count": 6,
   "metadata": {
    "collapsed": true,
    "slideshow": {
     "slide_type": "subslide"
    }
   },
   "outputs": [],
   "source": [
    "!csvgrep -c1 -m '2015' original.csv | sed 1d >> austin.csv"
   ]
  },
  {
   "cell_type": "code",
   "execution_count": 8,
   "metadata": {
    "collapsed": true,
    "slideshow": {
     "slide_type": "subslide"
    }
   },
   "outputs": [],
   "source": [
    "!csvgrep -c1 -m '2016' original.csv | sed 1d >> austin.csv"
   ]
  },
  {
   "cell_type": "markdown",
   "metadata": {},
   "source": [
    "When appending other years to the three years csv file, we need to get rid of the first header line by using the sed command."
   ]
  },
  {
   "cell_type": "markdown",
   "metadata": {},
   "source": [
    "Now checking the number of rows in the new dataset"
   ]
  },
  {
   "cell_type": "code",
   "execution_count": 7,
   "metadata": {
    "collapsed": false
   },
   "outputs": [
    {
     "name": "stdout",
     "output_type": "stream",
     "text": [
      "  406496 austin_.csv\r\n"
     ]
    }
   ],
   "source": [
    "!wc -l austin_.csv"
   ]
  },
  {
   "cell_type": "markdown",
   "metadata": {},
   "source": [
    "We feel that 390k records of data is a good amount of data to work on for the project 3."
   ]
  },
  {
   "cell_type": "markdown",
   "metadata": {
    "slideshow": {
     "slide_type": "slide"
    }
   },
   "source": [
    "## Part2 - Wrangling"
   ]
  },
  {
   "cell_type": "markdown",
   "metadata": {
    "slideshow": {
     "slide_type": "skip"
    }
   },
   "source": [
    "We use csvstat to get an idea about our dataset"
   ]
  },
  {
   "cell_type": "code",
   "execution_count": 10,
   "metadata": {
    "collapsed": false,
    "scrolled": true,
    "slideshow": {
     "slide_type": "skip"
    }
   },
   "outputs": [
    {
     "name": "stdout",
     "output_type": "stream",
     "text": [
      "  1. FY_DC\n",
      "\t<class 'int'>\n",
      "\tNulls: False\n",
      "\tValues: 2016, 2014, 2015\n",
      "  2. PER_CD\n",
      "\t<class 'int'>\n",
      "\tNulls: False\n",
      "\tMin: 1\n",
      "\tMax: 12\n",
      "\tSum: 2525257\n",
      "\tMean: 6.47025650354739\n",
      "\tMedian: 6\n",
      "\tStandard Deviation: 3.4509658782260613\n",
      "\tUnique values: 12\n",
      "\t5 most frequent values:\n",
      "\t\t1:\t40565\n",
      "\t\t6:\t36605\n",
      "\t\t11:\t35201\n",
      "\t\t10:\t34643\n",
      "\t\t9:\t34298\n",
      "  3. DEPT_CD\n",
      "\t<class 'int'>\n",
      "\tNulls: False\n",
      "\tMin: 11\n",
      "\tMax: 94\n",
      "\tSum: 20172240\n",
      "\tMean: 51.6856569652589\n",
      "\tMedian: 62\n",
      "\tStandard Deviation: 30.133110925669527\n",
      "\tUnique values: 46\n",
      "\t5 most frequent values:\n",
      "\t\t11:\t67918\n",
      "\t\t22:\t56163\n",
      "\t\t86:\t28697\n",
      "\t\t62:\t22767\n",
      "\t\t78:\t21959\n",
      "  4. DEPT_NM\n",
      "\t<class 'str'>\n",
      "\tNulls: False\n",
      "\tUnique values: 46\n",
      "\t5 most frequent values:\n",
      "\t\tAustin Energy:\t67918\n",
      "\t\tAustin Water Utility:\t56163\n",
      "\t\tParks & Recreation:\t28697\n",
      "\t\tPublic Works - Transportation:\t22767\n",
      "\t\tFleet Services:\t21959\n",
      "\tMax length: 40\n",
      "  5. FUND_CD\n",
      "\t<class 'str'>\n",
      "\tNulls: False\n",
      "\tUnique values: 237\n",
      "\t5 most frequent values:\n",
      "\t\t1000:\t77888\n",
      "\t\t5010:\t32327\n",
      "\t\t5150:\t24602\n",
      "\t\t5540:\t20173\n",
      "\t\t5120:\t19116\n",
      "\tMax length: 4\n",
      "  6. FUND_NM\n",
      "\t<class 'str'>\n",
      "\tNulls: False\n",
      "\tUnique values: 239\n",
      "\t5 most frequent values:\n",
      "\t\tGeneral Fund:\t77888\n",
      "\t\tAustin Energy Fund:\t32327\n",
      "\t\tSupport Services Fund:\t24602\n",
      "\t\tElectric Inventory Fund:\t20173\n",
      "\t\tTransportation Fund:\t19116\n",
      "\tMax length: 60\n",
      "  7. DIV_CD\n",
      "\t<class 'str'>\n",
      "\tNulls: False\n",
      "\tUnique values: 680\n",
      "\t5 most frequent values:\n",
      "\t\t9MGT:\t60792\n",
      "\t\tZZZZ:\t46114\n",
      "\t\t7SVC:\t15858\n",
      "\t\t7CRS:\t15457\n",
      "\t\tTRMT:\t14047\n",
      "\tMax length: 4\n",
      "  8. DIV_NM\n",
      "\t<class 'str'>\n",
      "\tNulls: False\n",
      "\tUnique values: 728\n",
      "\t5 most frequent values:\n",
      "\t\tSupport Services:\t60792\n",
      "\t\tMiscellaneous:\t46114\n",
      "\t\tCommunity Services:\t16541\n",
      "\t\tService Centers:\t15858\n",
      "\t\tTreatment:\t14047\n",
      "\tMax length: 60\n",
      "  9. GP_CD\n",
      "\t<class 'str'>\n",
      "\tNulls: False\n",
      "\tUnique values: 1442\n",
      "\t5 most frequent values:\n",
      "\t\t9ADM:\t60427\n",
      "\t\tZZZZ:\t53647\n",
      "\t\t7PPM:\t15836\n",
      "\t\tDIST:\t11198\n",
      "\t\t7RCA:\t7109\n",
      "\tMax length: 4\n",
      " 10. GP_NM\n",
      "\t<class 'str'>\n",
      "\tNulls: False\n",
      "\tUnique values: 1514\n",
      "\t5 most frequent values:\n",
      "\t\tDepartmental Support Services:\t60427\n",
      "\t\tMiscellaneous:\t53647\n",
      "\t\tPreventive Maintenance:\t15836\n",
      "\t\tDistribution:\t11198\n",
      "\t\tRecreation and Program Services:\t7109\n",
      "\tMax length: 60\n",
      " 11. OCAT_CD\n",
      "\t<class 'int'>\n",
      "\tNulls: False\n",
      "\tValues: 0, 154, 155, 152, 158\n",
      " 12. OCAT_NM\n",
      "\t<class 'str'>\n",
      "\tNulls: False\n",
      "\tValues: Capital Equipment, Indirect Cost, Other, Commodities/Other, Contractual Services\n",
      " 13. OBJ_CD\n",
      "\t<class 'str'>\n",
      "\tNulls: False\n",
      "\tUnique values: 298\n",
      "\t5 most frequent values:\n",
      "\t\t7730:\t50964\n",
      "\t\t5860:\t34579\n",
      "\t\t6551:\t27207\n",
      "\t\t5560:\t21174\n",
      "\t\t7478:\t10450\n",
      "\tMax length: 4\n",
      " 14. OBJ_NM\n",
      "\t<class 'str'>\n",
      "\tNulls: False\n",
      "\tUnique values: 300\n",
      "\t5 most frequent values:\n",
      "\t\tInventory purchases:\t50964\n",
      "\t\tServices-other:\t34579\n",
      "\t\tMileage reimbursements:\t27207\n",
      "\t\tServices-construction contr:\t21174\n",
      "\t\tClothing/clothing material:\t10450\n",
      "\tMax length: 35\n",
      " 15. LGL_NM\n",
      "\t<class 'str'>\n",
      "\tNulls: False\n",
      "\tUnique values: 18314\n",
      "\t5 most frequent values:\n",
      "\t\tTECHLINE INC:\t9227\n",
      "\t\tUNIFIRST HOLDINGS, INC:\t7936\n",
      "\t\tXEROX CORPORATION:\t7913\n",
      "\t\tW W GRAINGER INC:\t7242\n",
      "\t\tPIKE ENTERPRISES INC:\t6609\n",
      "\tMax length: 60\n",
      " 16. VEND_CUST_CD\n",
      "\t<class 'str'>\n",
      "\tNulls: False\n",
      "\tUnique values: 6158\n",
      "\t5 most frequent values:\n",
      "\t\tMIS0000024:\t30311\n",
      "\t\tTEC4570250:\t9227\n",
      "\t\tUNI8303823:\t7936\n",
      "\t\tXER5246250:\t7913\n",
      "\t\tWWG2097000:\t7242\n",
      "\tMax length: 12\n",
      " 17. VEND_CUST_IND\n",
      "\t<class 'str'>\n",
      "\tNulls: False\n",
      "\tValues: V\n",
      " 18. RFED_DOC_CD\n",
      "\t<class 'str'>\n",
      "\tNulls: False\n",
      "\tValues: GAX, PRM, TPP, PRC, GAXI\n",
      " 19. RFED_DOC_DEPT_CD\n",
      "\t<class 'int'>\n",
      "\tNulls: False\n",
      "\tMin: 1100\n",
      "\tMax: 9300\n",
      "\tSum: 2048030800\n",
      "\tMean: 5247.499404284539\n",
      "\tMedian: 6100\n",
      "\tStandard Deviation: 2907.7803493738243\n",
      "\tUnique values: 40\n",
      "\t5 most frequent values:\n",
      "\t\t1100:\t65441\n",
      "\t\t2200:\t43981\n",
      "\t\t8600:\t23723\n",
      "\t\t7800:\t22843\n",
      "\t\t5600:\t18131\n",
      " 20. RFED_DOC_ID\n",
      "\t<class 'str'>\n",
      "\tNulls: False\n",
      "\tUnique values: 175059\n",
      "\t5 most frequent values:\n",
      "\t\t14021413494:\t345\n",
      "\t\t13122008601:\t299\n",
      "\t\t14011310623:\t276\n",
      "\t\t13111805449:\t216\n",
      "\t\t15033119661:\t154\n",
      "\tMax length: 11\n",
      " 21. COMM_CD\n",
      "\t<class 'str'>\n",
      "\tNulls: True\n",
      "\tUnique values: 6093\n",
      "\t5 most frequent values:\n",
      "\t\t98526:\t9379\n",
      "\t\t91577:\t7851\n",
      "\t\t91438:\t6342\n",
      "\t\t9613026:\t5502\n",
      "\t\t20085:\t5182\n",
      "\tMax length: 11\n",
      " 22. COMM_DSCR\n",
      "\t<class 'str'>\n",
      "\tNulls: True\n",
      "\tUnique values: 5942\n",
      "\t5 most frequent values:\n",
      "\t\tCopy Machine (Including Cost-Per-Copy Type Leases):\t9379\n",
      "\t\tTelephone Services, Long Distance and Local (Inclu:\t7851\n",
      "\t\tElectrical:\t6342\n",
      "\t\tTEMPORARY SERVICES FOR THE EMPLOYMENT OF COMPUTER PROGRAMMER:\t5502\n",
      "\t\tUniforms, Blended Fabric:\t5182\n",
      "\tMax length: 60\n",
      " 23. CHK_EFT_ISS_DT\n",
      "\t<class 'datetime.date'>\n",
      "\tNulls: False\n",
      "\tMin: 2013-10-03\n",
      "\tMax: 2016-09-11\n",
      "\tUnique values: 735\n",
      "\t5 most frequent values:\n",
      "\t\t2014-10-16:\t1355\n",
      "\t\t2015-10-04:\t1353\n",
      "\t\t2014-02-20:\t1327\n",
      "\t\t2014-01-16:\t1282\n",
      "\t\t2014-07-18:\t1264\n",
      " 24. CVL_CHK_STA_DV\n",
      "\t<class 'str'>\n",
      "\tNulls: False\n",
      "\tValues: Paid, Outstanding\n",
      " 25. RFED_VEND_LN_NO\n",
      "\t<class 'int'>\n",
      "\tNulls: False\n",
      "\tMin: 1\n",
      "\tMax: 12\n",
      "\tSum: 395981\n",
      "\tMean: 1.0145892637981793\n",
      "\tMedian: 1\n",
      "\tStandard Deviation: 0.3003631825317965\n",
      "\tUnique values: 12\n",
      "\t5 most frequent values:\n",
      "\t\t1:\t389084\n",
      "\t\t2:\t176\n",
      "\t\t3:\t142\n",
      "\t\t4:\t136\n",
      "\t\t5:\t132\n",
      " 26. RFED_COMM_LN_NO\n",
      "\t<class 'int'>\n",
      "\tNulls: False\n",
      "\tMin: 0\n",
      "\tMax: 121\n",
      "\tSum: 1026569\n",
      "\tMean: 2.6302925795632444\n",
      "\tMedian: 1\n",
      "\tStandard Deviation: 4.838039038132338\n",
      "\tUnique values: 122\n",
      "\t5 most frequent values:\n",
      "\t\t1:\t156885\n",
      "\t\t0:\t87185\n",
      "\t\t2:\t46228\n",
      "\t\t3:\t24205\n",
      "\t\t4:\t16502\n",
      " 27. RFED_ACTG_LN_NO\n",
      "\t<class 'int'>\n",
      "\tNulls: False\n",
      "\tMin: 1\n",
      "\tMax: 84\n",
      "\tSum: 943882\n",
      "\tMean: 2.4184305395772854\n",
      "\tMedian: 1\n",
      "\tStandard Deviation: 5.183701537797155\n",
      "\tUnique values: 84\n",
      "\t5 most frequent values:\n",
      "\t\t1:\t301088\n",
      "\t\t2:\t26005\n",
      "\t\t3:\t14345\n",
      "\t\t4:\t9280\n",
      "\t\t5:\t7205\n",
      " 28. RF_DOC_CD\n",
      "\t<class 'str'>\n",
      "\tNulls: True\n",
      "\tValues: DOM, PO, CT, DO, CTM\n",
      " 29. RF_DOC_DEPT_CD\n",
      "\t<class 'int'>\n",
      "\tNulls: True\n",
      "\tMin: 1100\n",
      "\tMax: 9300\n",
      "\tSum: 1548072200\n",
      "\tMean: 5120.539417714653\n",
      "\tMedian: 6100.0\n",
      "\tStandard Deviation: 2951.4943394896604\n",
      "\tUnique values: 40\n",
      "\t5 most frequent values:\n",
      "\t\t1100:\t57050\n",
      "\t\t2200:\t35401\n",
      "\t\t7800:\t22137\n",
      "\t\t8600:\t18893\n",
      "\t\t6100:\t17834\n",
      " 30. RF_DOC_ID\n",
      "\t<class 'str'>\n",
      "\tNulls: True\n",
      "\tUnique values: 83960\n",
      "\t5 most frequent values:\n",
      "\t\t15100100005:\t1355\n",
      "\t\t13100100047:\t1328\n",
      "\t\t13111303215:\t1007\n",
      "\t\t13120604511:\t966\n",
      "\t\t14123005770:\t948\n",
      "\tMax length: 20\n",
      " 31. ACTG_LN_DSCR\n",
      "\t<class 'str'>\n",
      "\tNulls: False\n",
      "\tUnique values: 6150\n",
      "\t5 most frequent values:\n",
      "\t\tMileage reimbursements:\t27201\n",
      "\t\tCopy Machine (Including Cost-Per-Copy Type Leases):\t9379\n",
      "\t\tTelephone Services, Long Distance and Local (Inclu:\t7851\n",
      "\t\tElectrical:\t6342\n",
      "\t\tTEMPORARY SERVICES FOR THE EMPLOYMENT OF COMPUTER PROGRAMMER:\t5502\n",
      "\tMax length: 60\n",
      " 32. AMOUNT\n",
      "\t<class 'float'>\n",
      "\tNulls: False\n",
      "\tMin: -55764.22\n",
      "\tMax: 22885000.0\n",
      "\tSum: 4673104131.770001\n",
      "\tMean: 11973.507013479828\n",
      "\tMedian: 340.67\n",
      "\tStandard Deviation: 168889.94198753554\n",
      "\tUnique values: 122620\n",
      "\t5 most frequent values:\n",
      "\t\t75.0:\t2059\n",
      "\t\t150.0:\t1789\n",
      "\t\t10.86:\t1717\n",
      "\t\t30.0:\t1688\n",
      "\t\t100.0:\t1593\n",
      " 33. CAL_YEAR\n",
      "\t<class 'int'>\n",
      "\tNulls: False\n",
      "\tValues: 2016, 2013, 2014, 2015\n",
      " 34. CAL_MONTH\n",
      "\t<class 'int'>\n",
      "\tNulls: False\n",
      "\tMin: 1\n",
      "\tMax: 12\n",
      "\tSum: 2515696\n",
      "\tMean: 6.445759146474261\n",
      "\tMedian: 6\n",
      "\tStandard Deviation: 3.396769234427204\n",
      "\tUnique values: 12\n",
      "\t5 most frequent values:\n",
      "\t\t10:\t40565\n",
      "\t\t3:\t36605\n",
      "\t\t8:\t35201\n",
      "\t\t7:\t34643\n",
      "\t\t6:\t34298\n",
      "\n",
      "Row count: 390287\n"
     ]
    }
   ],
   "source": [
    "!csvstat austin.csv"
   ]
  },
  {
   "cell_type": "markdown",
   "metadata": {
    "slideshow": {
     "slide_type": "skip"
    }
   },
   "source": [
    "### Challenges and Concerns:\n",
    "The data is thoroughly recorded, so in future we have to figure out how to set up the star schema, like which columns should formed as one dimension table and etc. \n",
    "\n",
    "Second, some columns has missing value issues, so we have to deal with it. \n",
    "\n",
    "Third, we found some columns may referenced to another table, which is not related to our analysis, so we have to decided how to handle these columns. \n",
    "\n",
    "Then, there are some description colunms include similar information, such as the column Accounting line description and column Commodity description, so we will decide to choose which one. \n",
    "\n",
    "Furthermore, some categorical columns are include too many categories, for example the column Fund_Name so it will be difficult to show an insteresting trend by grouping them. \n",
    "\n",
    "Fianlly, the original data includes more than 1000,000 records, which is relatively burdensome for us and for notebook and VM-vare. In order to do the analysis smoothly we will reduce the amount of the data. "
   ]
  },
  {
   "cell_type": "markdown",
   "metadata": {
    "slideshow": {
     "slide_type": "slide"
    }
   },
   "source": [
    "### Cleaning: \n",
    "#### missing value in column: \n",
    "    1. COMM_CD : 85604 missing \n",
    "    2. COMM_DSCR : 85604 missing \n",
    "    3. RF_DOC_CD : 86356 missing \n",
    "    4. RF_DOC_DEPT_CD : 86356 missing \n",
    "    5. RF_DOC_ID : 86356 missing \n",
    "#### deleting the columns:\n",
    "    1. Column 'VEND_CUST_IND', which is the Vendor or Costomer indicator. In our database, all records are recorded as V,which stands for Vendor, so will not provide some useful information by analyzing this column.The column number for 'VEND_CUST_IND' is 17."
   ]
  },
  {
   "cell_type": "code",
   "execution_count": 12,
   "metadata": {
    "collapsed": false,
    "slideshow": {
     "slide_type": "skip"
    }
   },
   "outputs": [],
   "source": [
    "!csvcut -c 1,2,3,4,5,6,7,8,9,10,11,12,13,14,15,16,18,19,20,21,22,23,24,25,26,27,28,29,30,31,32,33,34 austin.csv >austin_clean.csv "
   ]
  },
  {
   "cell_type": "markdown",
   "metadata": {
    "slideshow": {
     "slide_type": "skip"
    }
   },
   "source": [
    "Actually we tried using 'cut' to cut the column we do not need, but turns out it will mess up our data. So we use 'csvcut' choosing the column we need and just left the one that we want to delete."
   ]
  },
  {
   "cell_type": "markdown",
   "metadata": {
    "slideshow": {
     "slide_type": "skip"
    }
   },
   "source": [
    "Now we will connect to the POSTGRESql server"
   ]
  },
  {
   "cell_type": "code",
   "execution_count": 2,
   "metadata": {
    "collapsed": false,
    "slideshow": {
     "slide_type": "skip"
    }
   },
   "outputs": [
    {
     "name": "stderr",
     "output_type": "stream",
     "text": [
      "//anaconda/lib/python3.5/site-packages/IPython/config.py:13: ShimWarning: The `IPython.config` package has been deprecated. You should import from traitlets.config instead.\n",
      "  \"You should import from traitlets.config instead.\", ShimWarning)\n",
      "//anaconda/lib/python3.5/site-packages/IPython/utils/traitlets.py:5: UserWarning: IPython.utils.traitlets has moved to a top-level traitlets package.\n",
      "  warn(\"IPython.utils.traitlets has moved to a top-level traitlets package.\")\n"
     ]
    }
   ],
   "source": [
    "%load_ext sql"
   ]
  },
  {
   "cell_type": "markdown",
   "metadata": {
    "slideshow": {
     "slide_type": "skip"
    }
   },
   "source": [
    "If you are using a VM please proceed with the following code to connect to POSTGREsql server\n"
   ]
  },
  {
   "cell_type": "code",
   "execution_count": 2,
   "metadata": {
    "collapsed": false,
    "slideshow": {
     "slide_type": "skip"
    }
   },
   "outputs": [],
   "source": [
    "!createdb -U dbuser project3"
   ]
  },
  {
   "cell_type": "code",
   "execution_count": 3,
   "metadata": {
    "collapsed": false,
    "slideshow": {
     "slide_type": "skip"
    }
   },
   "outputs": [
    {
     "data": {
      "text/plain": [
       "'Connected: zhaorc@project'"
      ]
     },
     "execution_count": 3,
     "metadata": {},
     "output_type": "execute_result"
    }
   ],
   "source": [
    "%sql postgresql://zhaorc@localhost:5432/project"
   ]
  },
  {
   "cell_type": "markdown",
   "metadata": {
    "slideshow": {
     "slide_type": "skip"
    }
   },
   "source": [
    "If you are using DATANOTEBOOK.ORG please proceed with the following code to connect to POSTGREsql server"
   ]
  },
  {
   "cell_type": "code",
   "execution_count": null,
   "metadata": {
    "collapsed": true,
    "slideshow": {
     "slide_type": "skip"
    }
   },
   "outputs": [],
   "source": [
    "!echo 'redspot' | sudo -S service postgresql restart"
   ]
  },
  {
   "cell_type": "code",
   "execution_count": null,
   "metadata": {
    "collapsed": true,
    "slideshow": {
     "slide_type": "skip"
    }
   },
   "outputs": [],
   "source": [
    "!createdb -U dbuser project3"
   ]
  },
  {
   "cell_type": "code",
   "execution_count": null,
   "metadata": {
    "collapsed": true,
    "slideshow": {
     "slide_type": "skip"
    }
   },
   "outputs": [],
   "source": [
    "%sql postgresql://dbuser@localhost:5432/project3"
   ]
  },
  {
   "cell_type": "markdown",
   "metadata": {
    "slideshow": {
     "slide_type": "skip"
    }
   },
   "source": [
    "Now we create an empty table named austin and load the data from the file austin_clean.csv to the austin table."
   ]
  },
  {
   "cell_type": "code",
   "execution_count": 45,
   "metadata": {
    "collapsed": false,
    "slideshow": {
     "slide_type": "skip"
    }
   },
   "outputs": [
    {
     "name": "stdout",
     "output_type": "stream",
     "text": [
      "Done.\n",
      "Done.\n"
     ]
    },
    {
     "data": {
      "text/plain": [
       "[]"
      ]
     },
     "execution_count": 45,
     "metadata": {},
     "output_type": "execute_result"
    }
   ],
   "source": [
    "%%sql\n",
    "DROP TABLE IF EXISTS austin;\n",
    "CREATE TABLE AUSTIN(\n",
    "    fy_dc INTEGER,\n",
    "    per_cd INTEGER,\n",
    "    dept_cd INTEGER,\n",
    "    dept_nm VARCHAR(50),\n",
    "    fund_cd VARCHAR(15),\n",
    "    fund_nm VARCHAR(60),\n",
    "    div_cd VARCHAR(10),\n",
    "    div_nm VARCHAR(60),\n",
    "    gp_cd CHAR (10),\n",
    "    gp_nm VARCHAR(60),\n",
    "    ocat_cd INTEGER,\n",
    "    ocat_nm VARCHAR(70),\n",
    "    obj_cd VARCHAR(15),\n",
    "    obj_nm VARCHAR(50),\n",
    "    lgl_nm VARCHAR(65),\n",
    "    vend_cust_cd VARCHAR(20),\n",
    "    rfed_doc_cd VARCHAR(15),\n",
    "    rfed_doc_dept_cd INTEGER,   \n",
    "    rfed_doc_id VARCHAR(25),\n",
    "    comm_cd VARCHAR(15),\n",
    "    comm_descr VARCHAR(65),\n",
    "    chk_eft_iss_dt DATE,\n",
    "    cvl_chk_sta_dv VARCHAR(15),\n",
    "    rfed_vend_ln_no INTEGER,\n",
    "    rfed_comm_ln_no INTEGER,\n",
    "    rfed_actg_ln_no INTEGER,\n",
    "    rf_doc_cd VARCHAR(20),\n",
    "    rf_doc_dept_cd INTEGER,\n",
    "    rf_doc_id VARCHAR(25),\n",
    "    actg_ln_dscr VARCHAR(60),\n",
    "    amount MONEY,\n",
    "    cal_year INTEGER,\n",
    "    cal_month INTEGER\n",
    ");"
   ]
  },
  {
   "cell_type": "code",
   "execution_count": 46,
   "metadata": {
    "collapsed": false,
    "slideshow": {
     "slide_type": "skip"
    }
   },
   "outputs": [
    {
     "name": "stdout",
     "output_type": "stream",
     "text": [
      "/Users/zhaorc/Desktop\r\n"
     ]
    }
   ],
   "source": [
    "!pwd"
   ]
  },
  {
   "cell_type": "code",
   "execution_count": 47,
   "metadata": {
    "collapsed": false,
    "slideshow": {
     "slide_type": "skip"
    }
   },
   "outputs": [
    {
     "name": "stdout",
     "output_type": "stream",
     "text": [
      "390287 rows affected.\n"
     ]
    },
    {
     "data": {
      "text/plain": [
       "[]"
      ]
     },
     "execution_count": 47,
     "metadata": {},
     "output_type": "execute_result"
    }
   ],
   "source": [
    "%%sql\n",
    "\n",
    "COPY austin FROM '/Users/zhaorc/Desktop/austin_clean.csv'\n",
    "CSV\n",
    "HEADER\n",
    "QUOTE '\"'\n",
    "DELIMITER ',';"
   ]
  },
  {
   "cell_type": "code",
   "execution_count": 48,
   "metadata": {
    "collapsed": false,
    "scrolled": true,
    "slideshow": {
     "slide_type": "skip"
    }
   },
   "outputs": [
    {
     "name": "stdout",
     "output_type": "stream",
     "text": [
      "10 rows affected.\n"
     ]
    },
    {
     "data": {
      "text/html": [
       "<table>\n",
       "    <tr>\n",
       "        <th>fy_dc</th>\n",
       "        <th>per_cd</th>\n",
       "        <th>dept_cd</th>\n",
       "        <th>dept_nm</th>\n",
       "        <th>fund_cd</th>\n",
       "        <th>fund_nm</th>\n",
       "        <th>div_cd</th>\n",
       "        <th>div_nm</th>\n",
       "        <th>gp_cd</th>\n",
       "        <th>gp_nm</th>\n",
       "        <th>ocat_cd</th>\n",
       "        <th>ocat_nm</th>\n",
       "        <th>obj_cd</th>\n",
       "        <th>obj_nm</th>\n",
       "        <th>lgl_nm</th>\n",
       "        <th>vend_cust_cd</th>\n",
       "        <th>rfed_doc_cd</th>\n",
       "        <th>rfed_doc_dept_cd</th>\n",
       "        <th>rfed_doc_id</th>\n",
       "        <th>comm_cd</th>\n",
       "        <th>comm_descr</th>\n",
       "        <th>chk_eft_iss_dt</th>\n",
       "        <th>cvl_chk_sta_dv</th>\n",
       "        <th>rfed_vend_ln_no</th>\n",
       "        <th>rfed_comm_ln_no</th>\n",
       "        <th>rfed_actg_ln_no</th>\n",
       "        <th>rf_doc_cd</th>\n",
       "        <th>rf_doc_dept_cd</th>\n",
       "        <th>rf_doc_id</th>\n",
       "        <th>actg_ln_dscr</th>\n",
       "        <th>amount</th>\n",
       "        <th>cal_year</th>\n",
       "        <th>cal_month</th>\n",
       "    </tr>\n",
       "    <tr>\n",
       "        <td>2014</td>\n",
       "        <td>11</td>\n",
       "        <td>93</td>\n",
       "        <td>Emergency Medical Services</td>\n",
       "        <td>1000</td>\n",
       "        <td>General Fund</td>\n",
       "        <td>5BSV</td>\n",
       "        <td>Billing Services</td>\n",
       "        <td>5BLS      </td>\n",
       "        <td>Billing Services</td>\n",
       "        <td>152</td>\n",
       "        <td>Contractual Services</td>\n",
       "        <td>5860</td>\n",
       "        <td>Services-other</td>\n",
       "        <td>GMSL CONSULTING LLC</td>\n",
       "        <td>VC0000102791</td>\n",
       "        <td>PRM</td>\n",
       "        <td>9300</td>\n",
       "        <td>14082134394</td>\n",
       "        <td>96671</td>\n",
       "        <td>Paper Cutting, Drilling, Folding, Punching, Shredd</td>\n",
       "        <td>0014-08-24</td>\n",
       "        <td>Paid</td>\n",
       "        <td>1</td>\n",
       "        <td>2</td>\n",
       "        <td>1</td>\n",
       "        <td>DO</td>\n",
       "        <td>9300</td>\n",
       "        <td>14081818973</td>\n",
       "        <td>Paper Cutting, Drilling, Folding, Punching, Shredd</td>\n",
       "        <td>$306.00</td>\n",
       "        <td>2014</td>\n",
       "        <td>8</td>\n",
       "    </tr>\n",
       "    <tr>\n",
       "        <td>2014</td>\n",
       "        <td>8</td>\n",
       "        <td>22</td>\n",
       "        <td>Austin Water Utility</td>\n",
       "        <td>5220</td>\n",
       "        <td>Water Inventory Fund</td>\n",
       "        <td>ZZZZ</td>\n",
       "        <td>Miscellaneous</td>\n",
       "        <td>ZZZZ      </td>\n",
       "        <td>Miscellaneous</td>\n",
       "        <td>154</td>\n",
       "        <td>Commodities/Other</td>\n",
       "        <td>7730</td>\n",
       "        <td>Inventory purchases</td>\n",
       "        <td>W W GRAINGER INC</td>\n",
       "        <td>WWG2097000</td>\n",
       "        <td>PRM</td>\n",
       "        <td>2200</td>\n",
       "        <td>14051923636</td>\n",
       "        <td>20027100001</td>\n",
       "        <td>GLOVES WORK RBR NEOPRENE COATED 14&quot;LONG GAUNTLET</td>\n",
       "        <td>0014-05-22</td>\n",
       "        <td>Paid</td>\n",
       "        <td>1</td>\n",
       "        <td>22</td>\n",
       "        <td>1</td>\n",
       "        <td>DO</td>\n",
       "        <td>2200</td>\n",
       "        <td>14042312106</td>\n",
       "        <td>GLOVES WORK RBR NEOPRENE COATED 14&quot;LONG GAUNTLET</td>\n",
       "        <td>$93.60</td>\n",
       "        <td>2014</td>\n",
       "        <td>5</td>\n",
       "    </tr>\n",
       "    <tr>\n",
       "        <td>2014</td>\n",
       "        <td>8</td>\n",
       "        <td>63</td>\n",
       "        <td>Watershed</td>\n",
       "        <td>5100</td>\n",
       "        <td>Drainage Utility Fund</td>\n",
       "        <td>63FC</td>\n",
       "        <td>Flood Hazard Mitigation</td>\n",
       "        <td>52WM      </td>\n",
       "        <td>Watershed Management</td>\n",
       "        <td>152</td>\n",
       "        <td>Contractual Services</td>\n",
       "        <td>6406</td>\n",
       "        <td>Telephone equipment</td>\n",
       "        <td>USA MOBILITY WIRELESS INC</td>\n",
       "        <td>VC0000100379</td>\n",
       "        <td>PRM</td>\n",
       "        <td>6300</td>\n",
       "        <td>14052023824</td>\n",
       "        <td>91505</td>\n",
       "        <td>Answering/Paging Services</td>\n",
       "        <td>0014-05-23</td>\n",
       "        <td>Paid</td>\n",
       "        <td>1</td>\n",
       "        <td>1</td>\n",
       "        <td>14</td>\n",
       "        <td>DO</td>\n",
       "        <td>6300</td>\n",
       "        <td>14051213114</td>\n",
       "        <td>Answering/Paging Services</td>\n",
       "        <td>$14.32</td>\n",
       "        <td>2014</td>\n",
       "        <td>5</td>\n",
       "    </tr>\n",
       "    <tr>\n",
       "        <td>2014</td>\n",
       "        <td>11</td>\n",
       "        <td>63</td>\n",
       "        <td>Watershed</td>\n",
       "        <td>5100</td>\n",
       "        <td>Drainage Utility Fund</td>\n",
       "        <td>63WM</td>\n",
       "        <td>Infrastructure &amp; Waterway Maintenance</td>\n",
       "        <td>42SM      </td>\n",
       "        <td>Storm Water Management</td>\n",
       "        <td>152</td>\n",
       "        <td>Contractual Services</td>\n",
       "        <td>6175</td>\n",
       "        <td>Garbage/refuse collection</td>\n",
       "        <td>973 MATERIALS LLC</td>\n",
       "        <td>VC0000102565</td>\n",
       "        <td>PRM</td>\n",
       "        <td>6300</td>\n",
       "        <td>14080732787</td>\n",
       "        <td>96871</td>\n",
       "        <td>Solid or Liquid Waste Disposal (Including Manageme</td>\n",
       "        <td>0014-08-10</td>\n",
       "        <td>Paid</td>\n",
       "        <td>1</td>\n",
       "        <td>1</td>\n",
       "        <td>1</td>\n",
       "        <td>DO</td>\n",
       "        <td>6300</td>\n",
       "        <td>14080518158</td>\n",
       "        <td>Solid or Liquid Waste Disposal (Including Manageme</td>\n",
       "        <td>$42.00</td>\n",
       "        <td>2014</td>\n",
       "        <td>8</td>\n",
       "    </tr>\n",
       "    <tr>\n",
       "        <td>2014</td>\n",
       "        <td>11</td>\n",
       "        <td>22</td>\n",
       "        <td>Austin Water Utility</td>\n",
       "        <td>5220</td>\n",
       "        <td>Water Inventory Fund</td>\n",
       "        <td>ZZZZ</td>\n",
       "        <td>Miscellaneous</td>\n",
       "        <td>ZZZZ      </td>\n",
       "        <td>Miscellaneous</td>\n",
       "        <td>154</td>\n",
       "        <td>Commodities/Other</td>\n",
       "        <td>7730</td>\n",
       "        <td>Inventory purchases</td>\n",
       "        <td>W W GRAINGER INC</td>\n",
       "        <td>WWG2097000</td>\n",
       "        <td>PRM</td>\n",
       "        <td>2200</td>\n",
       "        <td>14081933852</td>\n",
       "        <td>44591104050</td>\n",
       "        <td>WRENCH PIPE OFFSET 90DEG 14 INCH</td>\n",
       "        <td>0014-08-22</td>\n",
       "        <td>Paid</td>\n",
       "        <td>1</td>\n",
       "        <td>30</td>\n",
       "        <td>1</td>\n",
       "        <td>PO</td>\n",
       "        <td>2200</td>\n",
       "        <td>14073104820</td>\n",
       "        <td>WRENCH PIPE OFFSET 90DEG 14 INCH</td>\n",
       "        <td>$169.89</td>\n",
       "        <td>2014</td>\n",
       "        <td>8</td>\n",
       "    </tr>\n",
       "    <tr>\n",
       "        <td>2014</td>\n",
       "        <td>8</td>\n",
       "        <td>63</td>\n",
       "        <td>Watershed</td>\n",
       "        <td>4850</td>\n",
       "        <td>Drainage Cip</td>\n",
       "        <td>6400</td>\n",
       "        <td>Flood Control Improvements</td>\n",
       "        <td>6443      </td>\n",
       "        <td>Northwest Park ID 1454</td>\n",
       "        <td>152</td>\n",
       "        <td>Contractual Services</td>\n",
       "        <td>5590</td>\n",
       "        <td>Services-engineering</td>\n",
       "        <td>FREESE &amp; NICHOLS INC</td>\n",
       "        <td>FRE1930500</td>\n",
       "        <td>PRM</td>\n",
       "        <td>6100</td>\n",
       "        <td>14050522003</td>\n",
       "        <td>92523</td>\n",
       "        <td>Dam Engineering</td>\n",
       "        <td>0014-05-08</td>\n",
       "        <td>Paid</td>\n",
       "        <td>1</td>\n",
       "        <td>2</td>\n",
       "        <td>1</td>\n",
       "        <td>DO</td>\n",
       "        <td>6100</td>\n",
       "        <td>13061916054</td>\n",
       "        <td>Dam Engineering</td>\n",
       "        <td>$5,936.00</td>\n",
       "        <td>2014</td>\n",
       "        <td>5</td>\n",
       "    </tr>\n",
       "    <tr>\n",
       "        <td>2014</td>\n",
       "        <td>10</td>\n",
       "        <td>74</td>\n",
       "        <td>Financial Services</td>\n",
       "        <td>5150</td>\n",
       "        <td>Support Services Fund</td>\n",
       "        <td>9MGT</td>\n",
       "        <td>Support Services</td>\n",
       "        <td>9ADM      </td>\n",
       "        <td>Departmental Support Services</td>\n",
       "        <td>154</td>\n",
       "        <td>Commodities/Other</td>\n",
       "        <td>7100</td>\n",
       "        <td>Purch.card costs to reclassify</td>\n",
       "        <td>TW TELECOM</td>\n",
       "        <td>VC0000100864</td>\n",
       "        <td>PRM</td>\n",
       "        <td>8100</td>\n",
       "        <td>14063028050</td>\n",
       "        <td>91577</td>\n",
       "        <td>Telephone Services, Long Distance and Local (Inclu</td>\n",
       "        <td>0014-07-05</td>\n",
       "        <td>Paid</td>\n",
       "        <td>1</td>\n",
       "        <td>1</td>\n",
       "        <td>1</td>\n",
       "        <td>DO</td>\n",
       "        <td>8100</td>\n",
       "        <td>13102101727</td>\n",
       "        <td>Telephone Services, Long Distance and Local (Inclu</td>\n",
       "        <td>$10,191.66</td>\n",
       "        <td>2014</td>\n",
       "        <td>7</td>\n",
       "    </tr>\n",
       "    <tr>\n",
       "        <td>2014</td>\n",
       "        <td>12</td>\n",
       "        <td>72</td>\n",
       "        <td>Neighborhood Housing</td>\n",
       "        <td>6144</td>\n",
       "        <td>US Housing/Urban Development-CDBG</td>\n",
       "        <td>1HSG</td>\n",
       "        <td>Housing</td>\n",
       "        <td>2HOA      </td>\n",
       "        <td>Homeowner Assistance</td>\n",
       "        <td>152</td>\n",
       "        <td>Contractual Services</td>\n",
       "        <td>5558</td>\n",
       "        <td>Services-closing/title insur</td>\n",
       "        <td>ITCOA LLC</td>\n",
       "        <td>IND8317166</td>\n",
       "        <td>GAX</td>\n",
       "        <td>7200</td>\n",
       "        <td>14092421586</td>\n",
       "        <td>None</td>\n",
       "        <td>None</td>\n",
       "        <td>0014-09-28</td>\n",
       "        <td>Paid</td>\n",
       "        <td>1</td>\n",
       "        <td>0</td>\n",
       "        <td>1</td>\n",
       "        <td>None</td>\n",
       "        <td>None</td>\n",
       "        <td>None</td>\n",
       "        <td>Services-closing/title insur</td>\n",
       "        <td>$1,357.10</td>\n",
       "        <td>2014</td>\n",
       "        <td>9</td>\n",
       "    </tr>\n",
       "    <tr>\n",
       "        <td>2014</td>\n",
       "        <td>11</td>\n",
       "        <td>15</td>\n",
       "        <td>Solid Waste Services</td>\n",
       "        <td>5040</td>\n",
       "        <td>Austin Resource Recovery Fund</td>\n",
       "        <td>5DVS</td>\n",
       "        <td>Waste Diversion</td>\n",
       "        <td>5ZRW      </td>\n",
       "        <td>Zero Waste</td>\n",
       "        <td>152</td>\n",
       "        <td>Contractual Services</td>\n",
       "        <td>5860</td>\n",
       "        <td>Services-other</td>\n",
       "        <td>EMPLOYEE OWNED NURSERY ENTERPRISES LTD</td>\n",
       "        <td>EMP8321200</td>\n",
       "        <td>PRM</td>\n",
       "        <td>1500</td>\n",
       "        <td>14082534500</td>\n",
       "        <td>92442</td>\n",
       "        <td>INSTRUCTORS, CLASSES FOR THE PUBLIC</td>\n",
       "        <td>0014-08-28</td>\n",
       "        <td>Paid</td>\n",
       "        <td>1</td>\n",
       "        <td>1</td>\n",
       "        <td>1</td>\n",
       "        <td>DO</td>\n",
       "        <td>1500</td>\n",
       "        <td>14030709292</td>\n",
       "        <td>INSTRUCTORS, CLASSES FOR THE PUBLIC</td>\n",
       "        <td>$75.00</td>\n",
       "        <td>2014</td>\n",
       "        <td>8</td>\n",
       "    </tr>\n",
       "    <tr>\n",
       "        <td>2014</td>\n",
       "        <td>11</td>\n",
       "        <td>16</td>\n",
       "        <td>Code Compliance</td>\n",
       "        <td>7050</td>\n",
       "        <td>Austin Code Fund</td>\n",
       "        <td>2CLR</td>\n",
       "        <td>Licensing and Registration Compliance</td>\n",
       "        <td>2LRC      </td>\n",
       "        <td>Licensing &amp; Registration Compliance</td>\n",
       "        <td>152</td>\n",
       "        <td>Contractual Services</td>\n",
       "        <td>6407</td>\n",
       "        <td>Telephone-cellular phones</td>\n",
       "        <td>USA MOBILITY WIRELESS INC</td>\n",
       "        <td>VC0000100379</td>\n",
       "        <td>PRM</td>\n",
       "        <td>1600</td>\n",
       "        <td>14073131986</td>\n",
       "        <td>91505</td>\n",
       "        <td>Answering/Paging Services</td>\n",
       "        <td>0014-08-03</td>\n",
       "        <td>Paid</td>\n",
       "        <td>1</td>\n",
       "        <td>3</td>\n",
       "        <td>1</td>\n",
       "        <td>DO</td>\n",
       "        <td>1600</td>\n",
       "        <td>14072917755</td>\n",
       "        <td>Answering/Paging Services</td>\n",
       "        <td>$39.42</td>\n",
       "        <td>2014</td>\n",
       "        <td>8</td>\n",
       "    </tr>\n",
       "</table>"
      ],
      "text/plain": [
       "[(2014, 11, 93, 'Emergency Medical Services', '1000', 'General Fund', '5BSV', 'Billing Services', '5BLS      ', 'Billing Services', 152, 'Contractual Services', '5860', 'Services-other', 'GMSL CONSULTING LLC', 'VC0000102791', 'PRM', 9300, '14082134394', '96671', 'Paper Cutting, Drilling, Folding, Punching, Shredd', datetime.date(14, 8, 24), 'Paid', 1, 2, 1, 'DO', 9300, '14081818973', 'Paper Cutting, Drilling, Folding, Punching, Shredd', '$306.00', 2014, 8),\n",
       " (2014, 8, 22, 'Austin Water Utility', '5220', 'Water Inventory Fund', 'ZZZZ', 'Miscellaneous', 'ZZZZ      ', 'Miscellaneous', 154, 'Commodities/Other', '7730', 'Inventory purchases', 'W W GRAINGER INC', 'WWG2097000', 'PRM', 2200, '14051923636', '20027100001', 'GLOVES WORK RBR NEOPRENE COATED 14\"LONG GAUNTLET', datetime.date(14, 5, 22), 'Paid', 1, 22, 1, 'DO', 2200, '14042312106', 'GLOVES WORK RBR NEOPRENE COATED 14\"LONG GAUNTLET', '$93.60', 2014, 5),\n",
       " (2014, 8, 63, 'Watershed', '5100', 'Drainage Utility Fund', '63FC', 'Flood Hazard Mitigation', '52WM      ', 'Watershed Management', 152, 'Contractual Services', '6406', 'Telephone equipment', 'USA MOBILITY WIRELESS INC', 'VC0000100379', 'PRM', 6300, '14052023824', '91505', 'Answering/Paging Services', datetime.date(14, 5, 23), 'Paid', 1, 1, 14, 'DO', 6300, '14051213114', 'Answering/Paging Services', '$14.32', 2014, 5),\n",
       " (2014, 11, 63, 'Watershed', '5100', 'Drainage Utility Fund', '63WM', 'Infrastructure & Waterway Maintenance', '42SM      ', 'Storm Water Management', 152, 'Contractual Services', '6175', 'Garbage/refuse collection', '973 MATERIALS LLC', 'VC0000102565', 'PRM', 6300, '14080732787', '96871', 'Solid or Liquid Waste Disposal (Including Manageme', datetime.date(14, 8, 10), 'Paid', 1, 1, 1, 'DO', 6300, '14080518158', 'Solid or Liquid Waste Disposal (Including Manageme', '$42.00', 2014, 8),\n",
       " (2014, 11, 22, 'Austin Water Utility', '5220', 'Water Inventory Fund', 'ZZZZ', 'Miscellaneous', 'ZZZZ      ', 'Miscellaneous', 154, 'Commodities/Other', '7730', 'Inventory purchases', 'W W GRAINGER INC', 'WWG2097000', 'PRM', 2200, '14081933852', '44591104050', 'WRENCH PIPE OFFSET 90DEG 14 INCH', datetime.date(14, 8, 22), 'Paid', 1, 30, 1, 'PO', 2200, '14073104820', 'WRENCH PIPE OFFSET 90DEG 14 INCH', '$169.89', 2014, 8),\n",
       " (2014, 8, 63, 'Watershed', '4850', 'Drainage Cip', '6400', 'Flood Control Improvements', '6443      ', 'Northwest Park ID 1454', 152, 'Contractual Services', '5590', 'Services-engineering', 'FREESE & NICHOLS INC', 'FRE1930500', 'PRM', 6100, '14050522003', '92523', 'Dam Engineering', datetime.date(14, 5, 8), 'Paid', 1, 2, 1, 'DO', 6100, '13061916054', 'Dam Engineering', '$5,936.00', 2014, 5),\n",
       " (2014, 10, 74, 'Financial Services', '5150', 'Support Services Fund', '9MGT', 'Support Services', '9ADM      ', 'Departmental Support Services', 154, 'Commodities/Other', '7100', 'Purch.card costs to reclassify', 'TW TELECOM', 'VC0000100864', 'PRM', 8100, '14063028050', '91577', 'Telephone Services, Long Distance and Local (Inclu', datetime.date(14, 7, 5), 'Paid', 1, 1, 1, 'DO', 8100, '13102101727', 'Telephone Services, Long Distance and Local (Inclu', '$10,191.66', 2014, 7),\n",
       " (2014, 12, 72, 'Neighborhood Housing', '6144', 'US Housing/Urban Development-CDBG', '1HSG', 'Housing', '2HOA      ', 'Homeowner Assistance', 152, 'Contractual Services', '5558', 'Services-closing/title insur', 'ITCOA LLC', 'IND8317166', 'GAX', 7200, '14092421586', None, None, datetime.date(14, 9, 28), 'Paid', 1, 0, 1, None, None, None, 'Services-closing/title insur', '$1,357.10', 2014, 9),\n",
       " (2014, 11, 15, 'Solid Waste Services', '5040', 'Austin Resource Recovery Fund', '5DVS', 'Waste Diversion', '5ZRW      ', 'Zero Waste', 152, 'Contractual Services', '5860', 'Services-other', 'EMPLOYEE OWNED NURSERY ENTERPRISES LTD', 'EMP8321200', 'PRM', 1500, '14082534500', '92442', 'INSTRUCTORS, CLASSES FOR THE PUBLIC', datetime.date(14, 8, 28), 'Paid', 1, 1, 1, 'DO', 1500, '14030709292', 'INSTRUCTORS, CLASSES FOR THE PUBLIC', '$75.00', 2014, 8),\n",
       " (2014, 11, 16, 'Code Compliance', '7050', 'Austin Code Fund', '2CLR', 'Licensing and Registration Compliance', '2LRC      ', 'Licensing & Registration Compliance', 152, 'Contractual Services', '6407', 'Telephone-cellular phones', 'USA MOBILITY WIRELESS INC', 'VC0000100379', 'PRM', 1600, '14073131986', '91505', 'Answering/Paging Services', datetime.date(14, 8, 3), 'Paid', 1, 3, 1, 'DO', 1600, '14072917755', 'Answering/Paging Services', '$39.42', 2014, 8)]"
      ]
     },
     "execution_count": 48,
     "metadata": {},
     "output_type": "execute_result"
    }
   ],
   "source": [
    "%%sql\n",
    "\n",
    "SELECT * from austin\n",
    "LIMIT 10;"
   ]
  },
  {
   "cell_type": "markdown",
   "metadata": {},
   "source": [
    "After checking the table we created, we feel that the data loaded well and hence we proceed with this table for analyzing the austin spending data"
   ]
  },
  {
   "cell_type": "markdown",
   "metadata": {},
   "source": [
    "When we checked the columns 'actg_ln_dscr' and 'comm_descr' and result showed that actg_ln_dscr column includes same information as column 'comm_descr' except that the null values in 'comm_descr' have values in the 'actg_ln_dscr'. So we will remove the column 'comm_descr' along with 'comm_cd', which stands for commodity code and commodity description. "
   ]
  },
  {
   "cell_type": "code",
   "execution_count": 49,
   "metadata": {
    "collapsed": false,
    "slideshow": {
     "slide_type": "skip"
    }
   },
   "outputs": [
    {
     "name": "stdout",
     "output_type": "stream",
     "text": [
      "0 rows affected.\n"
     ]
    },
    {
     "data": {
      "text/html": [
       "<table>\n",
       "    <tr>\n",
       "        <th>actg_ln_dscr</th>\n",
       "        <th>comm_descr</th>\n",
       "    </tr>\n",
       "</table>"
      ],
      "text/plain": [
       "[]"
      ]
     },
     "execution_count": 49,
     "metadata": {},
     "output_type": "execute_result"
    }
   ],
   "source": [
    "%%sql\n",
    "SELECT actg_ln_dscr\n",
    "       ,comm_descr\n",
    "FROM austin\n",
    "WHERE actg_ln_dscr != comm_descr\n",
    "AND comm_descr IS NOT null;"
   ]
  },
  {
   "cell_type": "code",
   "execution_count": 50,
   "metadata": {
    "collapsed": false,
    "slideshow": {
     "slide_type": "skip"
    }
   },
   "outputs": [
    {
     "name": "stdout",
     "output_type": "stream",
     "text": [
      "Done.\n"
     ]
    },
    {
     "data": {
      "text/plain": [
       "[]"
      ]
     },
     "execution_count": 50,
     "metadata": {},
     "output_type": "execute_result"
    }
   ],
   "source": [
    "%%sql\n",
    "ALTER TABLE austin\n",
    "DROP COLUMN comm_descr,\n",
    "DROP COLUMN comm_cd;"
   ]
  },
  {
   "cell_type": "markdown",
   "metadata": {
    "collapsed": true,
    "slideshow": {
     "slide_type": "skip"
    }
   },
   "source": [
    "After dropping the commodity description and commodity code we go ahead and deal with the columns which have missing values"
   ]
  },
  {
   "cell_type": "code",
   "execution_count": 51,
   "metadata": {
    "collapsed": false,
    "slideshow": {
     "slide_type": "skip"
    }
   },
   "outputs": [
    {
     "name": "stdout",
     "output_type": "stream",
     "text": [
      "87961 rows affected.\n",
      "87961 rows affected.\n",
      "87961 rows affected.\n"
     ]
    },
    {
     "data": {
      "text/plain": [
       "[]"
      ]
     },
     "execution_count": 51,
     "metadata": {},
     "output_type": "execute_result"
    }
   ],
   "source": [
    "%%sql\n",
    "UPDATE austin SET rf_doc_cd = 999 WHERE rf_doc_cd IS null;\n",
    "UPDATE austin SET rf_doc_dept_cd = 999 WHERE rf_doc_dept_cd IS null;\n",
    "UPDATE austin SET rf_doc_id = 'N/A' WHERE rf_doc_id IS null;"
   ]
  },
  {
   "cell_type": "markdown",
   "metadata": {
    "slideshow": {
     "slide_type": "skip"
    }
   },
   "source": [
    "For integer nulls we are using '999' to represent the null value and for categorical column we coded as 'N/A' to represent the null value. "
   ]
  },
  {
   "cell_type": "code",
   "execution_count": 49,
   "metadata": {
    "collapsed": false,
    "slideshow": {
     "slide_type": "slide"
    }
   },
   "outputs": [
    {
     "name": "stdout",
     "output_type": "stream",
     "text": [
      "10 rows affected.\n"
     ]
    },
    {
     "data": {
      "text/html": [
       "<table>\n",
       "    <tr>\n",
       "        <th>fy_dc</th>\n",
       "        <th>per_cd</th>\n",
       "        <th>dept_cd</th>\n",
       "        <th>dept_nm</th>\n",
       "        <th>fund_cd</th>\n",
       "        <th>fund_nm</th>\n",
       "        <th>div_cd</th>\n",
       "        <th>div_nm</th>\n",
       "        <th>gp_cd</th>\n",
       "        <th>gp_nm</th>\n",
       "        <th>ocat_cd</th>\n",
       "        <th>ocat_nm</th>\n",
       "        <th>obj_cd</th>\n",
       "        <th>obj_nm</th>\n",
       "        <th>lgl_nm</th>\n",
       "        <th>vend_cust_cd</th>\n",
       "        <th>rfed_doc_cd</th>\n",
       "        <th>rfed_doc_dept_cd</th>\n",
       "        <th>rfed_doc_id</th>\n",
       "        <th>cvl_chk_sta_dv</th>\n",
       "        <th>rfed_vend_ln_no</th>\n",
       "        <th>rfed_comm_ln_no</th>\n",
       "        <th>rfed_actg_ln_no</th>\n",
       "        <th>rf_doc_cd</th>\n",
       "        <th>rf_doc_dept_cd</th>\n",
       "        <th>rf_doc_id</th>\n",
       "        <th>actg_ln_dscr</th>\n",
       "        <th>amount</th>\n",
       "        <th>cal_year</th>\n",
       "        <th>cal_month</th>\n",
       "        <th>check_date</th>\n",
       "    </tr>\n",
       "    <tr>\n",
       "        <td>2014</td>\n",
       "        <td>11</td>\n",
       "        <td>93</td>\n",
       "        <td>Emergency Medical Services</td>\n",
       "        <td>1000</td>\n",
       "        <td>General Fund</td>\n",
       "        <td>5BSV</td>\n",
       "        <td>Billing Services</td>\n",
       "        <td>5BLS      </td>\n",
       "        <td>Billing Services</td>\n",
       "        <td>152</td>\n",
       "        <td>Contractual Services</td>\n",
       "        <td>5860</td>\n",
       "        <td>Services-other</td>\n",
       "        <td>GMSL CONSULTING LLC</td>\n",
       "        <td>VC0000102791</td>\n",
       "        <td>PRM</td>\n",
       "        <td>9300</td>\n",
       "        <td>14082134394</td>\n",
       "        <td>Paid</td>\n",
       "        <td>1</td>\n",
       "        <td>2</td>\n",
       "        <td>1</td>\n",
       "        <td>DO</td>\n",
       "        <td>9300</td>\n",
       "        <td>14081818973</td>\n",
       "        <td>Paper Cutting, Drilling, Folding, Punching, Shredd</td>\n",
       "        <td>$306.00</td>\n",
       "        <td>2014</td>\n",
       "        <td>8</td>\n",
       "        <td>2014-08-24</td>\n",
       "    </tr>\n",
       "    <tr>\n",
       "        <td>2014</td>\n",
       "        <td>8</td>\n",
       "        <td>22</td>\n",
       "        <td>Austin Water Utility</td>\n",
       "        <td>5220</td>\n",
       "        <td>Water Inventory Fund</td>\n",
       "        <td>ZZZZ</td>\n",
       "        <td>Miscellaneous</td>\n",
       "        <td>ZZZZ      </td>\n",
       "        <td>Miscellaneous</td>\n",
       "        <td>154</td>\n",
       "        <td>Commodities/Other</td>\n",
       "        <td>7730</td>\n",
       "        <td>Inventory purchases</td>\n",
       "        <td>W W GRAINGER INC</td>\n",
       "        <td>WWG2097000</td>\n",
       "        <td>PRM</td>\n",
       "        <td>2200</td>\n",
       "        <td>14051923636</td>\n",
       "        <td>Paid</td>\n",
       "        <td>1</td>\n",
       "        <td>22</td>\n",
       "        <td>1</td>\n",
       "        <td>DO</td>\n",
       "        <td>2200</td>\n",
       "        <td>14042312106</td>\n",
       "        <td>GLOVES WORK RBR NEOPRENE COATED 14&quot;LONG GAUNTLET</td>\n",
       "        <td>$93.60</td>\n",
       "        <td>2014</td>\n",
       "        <td>5</td>\n",
       "        <td>2014-05-22</td>\n",
       "    </tr>\n",
       "    <tr>\n",
       "        <td>2014</td>\n",
       "        <td>8</td>\n",
       "        <td>63</td>\n",
       "        <td>Watershed</td>\n",
       "        <td>5100</td>\n",
       "        <td>Drainage Utility Fund</td>\n",
       "        <td>63FC</td>\n",
       "        <td>Flood Hazard Mitigation</td>\n",
       "        <td>52WM      </td>\n",
       "        <td>Watershed Management</td>\n",
       "        <td>152</td>\n",
       "        <td>Contractual Services</td>\n",
       "        <td>6406</td>\n",
       "        <td>Telephone equipment</td>\n",
       "        <td>USA MOBILITY WIRELESS INC</td>\n",
       "        <td>VC0000100379</td>\n",
       "        <td>PRM</td>\n",
       "        <td>6300</td>\n",
       "        <td>14052023824</td>\n",
       "        <td>Paid</td>\n",
       "        <td>1</td>\n",
       "        <td>1</td>\n",
       "        <td>14</td>\n",
       "        <td>DO</td>\n",
       "        <td>6300</td>\n",
       "        <td>14051213114</td>\n",
       "        <td>Answering/Paging Services</td>\n",
       "        <td>$14.32</td>\n",
       "        <td>2014</td>\n",
       "        <td>5</td>\n",
       "        <td>2014-05-23</td>\n",
       "    </tr>\n",
       "    <tr>\n",
       "        <td>2014</td>\n",
       "        <td>11</td>\n",
       "        <td>63</td>\n",
       "        <td>Watershed</td>\n",
       "        <td>5100</td>\n",
       "        <td>Drainage Utility Fund</td>\n",
       "        <td>63WM</td>\n",
       "        <td>Infrastructure &amp; Waterway Maintenance</td>\n",
       "        <td>42SM      </td>\n",
       "        <td>Storm Water Management</td>\n",
       "        <td>152</td>\n",
       "        <td>Contractual Services</td>\n",
       "        <td>6175</td>\n",
       "        <td>Garbage/refuse collection</td>\n",
       "        <td>973 MATERIALS LLC</td>\n",
       "        <td>VC0000102565</td>\n",
       "        <td>PRM</td>\n",
       "        <td>6300</td>\n",
       "        <td>14080732787</td>\n",
       "        <td>Paid</td>\n",
       "        <td>1</td>\n",
       "        <td>1</td>\n",
       "        <td>1</td>\n",
       "        <td>DO</td>\n",
       "        <td>6300</td>\n",
       "        <td>14080518158</td>\n",
       "        <td>Solid or Liquid Waste Disposal (Including Manageme</td>\n",
       "        <td>$42.00</td>\n",
       "        <td>2014</td>\n",
       "        <td>8</td>\n",
       "        <td>2014-08-10</td>\n",
       "    </tr>\n",
       "    <tr>\n",
       "        <td>2014</td>\n",
       "        <td>11</td>\n",
       "        <td>22</td>\n",
       "        <td>Austin Water Utility</td>\n",
       "        <td>5220</td>\n",
       "        <td>Water Inventory Fund</td>\n",
       "        <td>ZZZZ</td>\n",
       "        <td>Miscellaneous</td>\n",
       "        <td>ZZZZ      </td>\n",
       "        <td>Miscellaneous</td>\n",
       "        <td>154</td>\n",
       "        <td>Commodities/Other</td>\n",
       "        <td>7730</td>\n",
       "        <td>Inventory purchases</td>\n",
       "        <td>W W GRAINGER INC</td>\n",
       "        <td>WWG2097000</td>\n",
       "        <td>PRM</td>\n",
       "        <td>2200</td>\n",
       "        <td>14081933852</td>\n",
       "        <td>Paid</td>\n",
       "        <td>1</td>\n",
       "        <td>30</td>\n",
       "        <td>1</td>\n",
       "        <td>PO</td>\n",
       "        <td>2200</td>\n",
       "        <td>14073104820</td>\n",
       "        <td>WRENCH PIPE OFFSET 90DEG 14 INCH</td>\n",
       "        <td>$169.89</td>\n",
       "        <td>2014</td>\n",
       "        <td>8</td>\n",
       "        <td>2014-08-22</td>\n",
       "    </tr>\n",
       "    <tr>\n",
       "        <td>2014</td>\n",
       "        <td>8</td>\n",
       "        <td>63</td>\n",
       "        <td>Watershed</td>\n",
       "        <td>4850</td>\n",
       "        <td>Drainage Cip</td>\n",
       "        <td>6400</td>\n",
       "        <td>Flood Control Improvements</td>\n",
       "        <td>6443      </td>\n",
       "        <td>Northwest Park ID 1454</td>\n",
       "        <td>152</td>\n",
       "        <td>Contractual Services</td>\n",
       "        <td>5590</td>\n",
       "        <td>Services-engineering</td>\n",
       "        <td>FREESE &amp; NICHOLS INC</td>\n",
       "        <td>FRE1930500</td>\n",
       "        <td>PRM</td>\n",
       "        <td>6100</td>\n",
       "        <td>14050522003</td>\n",
       "        <td>Paid</td>\n",
       "        <td>1</td>\n",
       "        <td>2</td>\n",
       "        <td>1</td>\n",
       "        <td>DO</td>\n",
       "        <td>6100</td>\n",
       "        <td>13061916054</td>\n",
       "        <td>Dam Engineering</td>\n",
       "        <td>$5,936.00</td>\n",
       "        <td>2014</td>\n",
       "        <td>5</td>\n",
       "        <td>2014-05-08</td>\n",
       "    </tr>\n",
       "    <tr>\n",
       "        <td>2014</td>\n",
       "        <td>11</td>\n",
       "        <td>91</td>\n",
       "        <td>Health &amp; Human Services</td>\n",
       "        <td>1000</td>\n",
       "        <td>General Fund</td>\n",
       "        <td>5DPH</td>\n",
       "        <td>Disease Prevention &amp; Health Promotion</td>\n",
       "        <td>5CDA      </td>\n",
       "        <td>Communicable Disease</td>\n",
       "        <td>152</td>\n",
       "        <td>Contractual Services</td>\n",
       "        <td>6126</td>\n",
       "        <td>Rental-other equipment</td>\n",
       "        <td>SPOK INC</td>\n",
       "        <td>VC0000100379</td>\n",
       "        <td>PRM</td>\n",
       "        <td>9100</td>\n",
       "        <td>14082134373</td>\n",
       "        <td>Paid</td>\n",
       "        <td>1</td>\n",
       "        <td>2</td>\n",
       "        <td>1</td>\n",
       "        <td>DO</td>\n",
       "        <td>9100</td>\n",
       "        <td>14061615149</td>\n",
       "        <td>Answering/Paging Services</td>\n",
       "        <td>$7.75</td>\n",
       "        <td>2014</td>\n",
       "        <td>8</td>\n",
       "        <td>2014-08-24</td>\n",
       "    </tr>\n",
       "    <tr>\n",
       "        <td>2014</td>\n",
       "        <td>8</td>\n",
       "        <td>11</td>\n",
       "        <td>Austin Energy</td>\n",
       "        <td>5540</td>\n",
       "        <td>Electric Inventory Fund</td>\n",
       "        <td>ZZZZ</td>\n",
       "        <td>Miscellaneous</td>\n",
       "        <td>ZZZZ      </td>\n",
       "        <td>Miscellaneous</td>\n",
       "        <td>154</td>\n",
       "        <td>Commodities/Other</td>\n",
       "        <td>7730</td>\n",
       "        <td>Inventory purchases</td>\n",
       "        <td>POWER SUPPLY INC</td>\n",
       "        <td>VC0000100372</td>\n",
       "        <td>PRC</td>\n",
       "        <td>1100</td>\n",
       "        <td>MAX28848</td>\n",
       "        <td>Paid</td>\n",
       "        <td>1</td>\n",
       "        <td>3</td>\n",
       "        <td>1</td>\n",
       "        <td>DOM</td>\n",
       "        <td>1100</td>\n",
       "        <td>MAX39425</td>\n",
       "        <td>INSULATORS AND PARTS, POLE LINE</td>\n",
       "        <td>$222.02</td>\n",
       "        <td>2014</td>\n",
       "        <td>5</td>\n",
       "        <td>2014-05-23</td>\n",
       "    </tr>\n",
       "    <tr>\n",
       "        <td>2014</td>\n",
       "        <td>12</td>\n",
       "        <td>82</td>\n",
       "        <td>Convention Center</td>\n",
       "        <td>5430</td>\n",
       "        <td>Convention Center Palmer Events Center Operating Fund</td>\n",
       "        <td>2EVT</td>\n",
       "        <td>Event Operations</td>\n",
       "        <td>2FAC      </td>\n",
       "        <td>Facility Operations &amp; Maintenance</td>\n",
       "        <td>152</td>\n",
       "        <td>Contractual Services</td>\n",
       "        <td>6389</td>\n",
       "        <td>Maintenance-other equipment</td>\n",
       "        <td>Pest Management, Inc.</td>\n",
       "        <td>VS0000034047</td>\n",
       "        <td>PRM</td>\n",
       "        <td>8200</td>\n",
       "        <td>14090536000</td>\n",
       "        <td>Paid</td>\n",
       "        <td>1</td>\n",
       "        <td>2</td>\n",
       "        <td>1</td>\n",
       "        <td>DO</td>\n",
       "        <td>8200</td>\n",
       "        <td>13100100190</td>\n",
       "        <td>Pest Control (Incl Termite Insp, birds, rodent)</td>\n",
       "        <td>$48.00</td>\n",
       "        <td>2014</td>\n",
       "        <td>9</td>\n",
       "        <td>2014-09-10</td>\n",
       "    </tr>\n",
       "    <tr>\n",
       "        <td>2014</td>\n",
       "        <td>11</td>\n",
       "        <td>22</td>\n",
       "        <td>Austin Water Utility</td>\n",
       "        <td>4480</td>\n",
       "        <td>S-Wastewater Improvements</td>\n",
       "        <td>3118</td>\n",
       "        <td>Wastewater Collection 4480 Parent</td>\n",
       "        <td>8425      </td>\n",
       "        <td>Southern Walnut Creek Trail Wastewater Improvements</td>\n",
       "        <td>152</td>\n",
       "        <td>Contractual Services</td>\n",
       "        <td>5590</td>\n",
       "        <td>Services-engineering</td>\n",
       "        <td>HALFF ASSOCIATES INC</td>\n",
       "        <td>HAL7038625</td>\n",
       "        <td>PRM</td>\n",
       "        <td>6100</td>\n",
       "        <td>14081333389</td>\n",
       "        <td>Paid</td>\n",
       "        <td>1</td>\n",
       "        <td>2</td>\n",
       "        <td>1</td>\n",
       "        <td>CT</td>\n",
       "        <td>6100</td>\n",
       "        <td>09031801107</td>\n",
       "        <td>Civil Engineering</td>\n",
       "        <td>$1,712.42</td>\n",
       "        <td>2014</td>\n",
       "        <td>8</td>\n",
       "        <td>2014-08-16</td>\n",
       "    </tr>\n",
       "</table>"
      ],
      "text/plain": [
       "[(2014, 11, 93, 'Emergency Medical Services', '1000', 'General Fund', '5BSV', 'Billing Services', '5BLS      ', 'Billing Services', 152, 'Contractual Services', '5860', 'Services-other', 'GMSL CONSULTING LLC', 'VC0000102791', 'PRM', 9300, '14082134394', 'Paid', 1, 2, 1, 'DO', 9300, '14081818973', 'Paper Cutting, Drilling, Folding, Punching, Shredd', '$306.00', 2014, 8, datetime.date(2014, 8, 24)),\n",
       " (2014, 8, 22, 'Austin Water Utility', '5220', 'Water Inventory Fund', 'ZZZZ', 'Miscellaneous', 'ZZZZ      ', 'Miscellaneous', 154, 'Commodities/Other', '7730', 'Inventory purchases', 'W W GRAINGER INC', 'WWG2097000', 'PRM', 2200, '14051923636', 'Paid', 1, 22, 1, 'DO', 2200, '14042312106', 'GLOVES WORK RBR NEOPRENE COATED 14\"LONG GAUNTLET', '$93.60', 2014, 5, datetime.date(2014, 5, 22)),\n",
       " (2014, 8, 63, 'Watershed', '5100', 'Drainage Utility Fund', '63FC', 'Flood Hazard Mitigation', '52WM      ', 'Watershed Management', 152, 'Contractual Services', '6406', 'Telephone equipment', 'USA MOBILITY WIRELESS INC', 'VC0000100379', 'PRM', 6300, '14052023824', 'Paid', 1, 1, 14, 'DO', 6300, '14051213114', 'Answering/Paging Services', '$14.32', 2014, 5, datetime.date(2014, 5, 23)),\n",
       " (2014, 11, 63, 'Watershed', '5100', 'Drainage Utility Fund', '63WM', 'Infrastructure & Waterway Maintenance', '42SM      ', 'Storm Water Management', 152, 'Contractual Services', '6175', 'Garbage/refuse collection', '973 MATERIALS LLC', 'VC0000102565', 'PRM', 6300, '14080732787', 'Paid', 1, 1, 1, 'DO', 6300, '14080518158', 'Solid or Liquid Waste Disposal (Including Manageme', '$42.00', 2014, 8, datetime.date(2014, 8, 10)),\n",
       " (2014, 11, 22, 'Austin Water Utility', '5220', 'Water Inventory Fund', 'ZZZZ', 'Miscellaneous', 'ZZZZ      ', 'Miscellaneous', 154, 'Commodities/Other', '7730', 'Inventory purchases', 'W W GRAINGER INC', 'WWG2097000', 'PRM', 2200, '14081933852', 'Paid', 1, 30, 1, 'PO', 2200, '14073104820', 'WRENCH PIPE OFFSET 90DEG 14 INCH', '$169.89', 2014, 8, datetime.date(2014, 8, 22)),\n",
       " (2014, 8, 63, 'Watershed', '4850', 'Drainage Cip', '6400', 'Flood Control Improvements', '6443      ', 'Northwest Park ID 1454', 152, 'Contractual Services', '5590', 'Services-engineering', 'FREESE & NICHOLS INC', 'FRE1930500', 'PRM', 6100, '14050522003', 'Paid', 1, 2, 1, 'DO', 6100, '13061916054', 'Dam Engineering', '$5,936.00', 2014, 5, datetime.date(2014, 5, 8)),\n",
       " (2014, 11, 91, 'Health & Human Services', '1000', 'General Fund', '5DPH', 'Disease Prevention & Health Promotion', '5CDA      ', 'Communicable Disease', 152, 'Contractual Services', '6126', 'Rental-other equipment', 'SPOK INC', 'VC0000100379', 'PRM', 9100, '14082134373', 'Paid', 1, 2, 1, 'DO', 9100, '14061615149', 'Answering/Paging Services', '$7.75', 2014, 8, datetime.date(2014, 8, 24)),\n",
       " (2014, 8, 11, 'Austin Energy', '5540', 'Electric Inventory Fund', 'ZZZZ', 'Miscellaneous', 'ZZZZ      ', 'Miscellaneous', 154, 'Commodities/Other', '7730', 'Inventory purchases', 'POWER SUPPLY INC', 'VC0000100372', 'PRC', 1100, 'MAX28848', 'Paid', 1, 3, 1, 'DOM', 1100, 'MAX39425', 'INSULATORS AND PARTS, POLE LINE', '$222.02', 2014, 5, datetime.date(2014, 5, 23)),\n",
       " (2014, 12, 82, 'Convention Center', '5430', 'Convention Center Palmer Events Center Operating Fund', '2EVT', 'Event Operations', '2FAC      ', 'Facility Operations & Maintenance', 152, 'Contractual Services', '6389', 'Maintenance-other equipment', 'Pest Management, Inc.', 'VS0000034047', 'PRM', 8200, '14090536000', 'Paid', 1, 2, 1, 'DO', 8200, '13100100190', 'Pest Control (Incl Termite Insp, birds, rodent)', '$48.00', 2014, 9, datetime.date(2014, 9, 10)),\n",
       " (2014, 11, 22, 'Austin Water Utility', '4480', 'S-Wastewater Improvements', '3118', 'Wastewater Collection 4480 Parent', '8425      ', 'Southern Walnut Creek Trail Wastewater Improvements', 152, 'Contractual Services', '5590', 'Services-engineering', 'HALFF ASSOCIATES INC', 'HAL7038625', 'PRM', 6100, '14081333389', 'Paid', 1, 2, 1, 'CT', 6100, '09031801107', 'Civil Engineering', '$1,712.42', 2014, 8, datetime.date(2014, 8, 16))]"
      ]
     },
     "execution_count": 49,
     "metadata": {},
     "output_type": "execute_result"
    }
   ],
   "source": [
    "%%sql\n",
    "\n",
    "SELECT * FROM austin\n",
    "LIMIT 10"
   ]
  },
  {
   "cell_type": "markdown",
   "metadata": {
    "slideshow": {
     "slide_type": "skip"
    }
   },
   "source": [
    "After wrangling our data, we are ready to set up the star schema for our analysis."
   ]
  },
  {
   "cell_type": "code",
   "execution_count": 58,
   "metadata": {
    "collapsed": false,
    "slideshow": {
     "slide_type": "skip"
    }
   },
   "outputs": [
    {
     "data": {
      "text/html": [
       "<img src=\"https://raw.githubusercontent.com/gwsb-istm-6212-fall-2016/Rongchu-Zhao/master/DM/STARSCHEMA.png\"/>"
      ],
      "text/plain": [
       "<IPython.core.display.Image object>"
      ]
     },
     "execution_count": 58,
     "metadata": {},
     "output_type": "execute_result"
    }
   ],
   "source": [
    "from IPython.display import Image\n",
    "from IPython.core.display import HTML\n",
    "Image(url = \"https://raw.githubusercontent.com/gwsb-istm-6212-fall-2016/Rongchu-Zhao/master/DM/STARSCHEMA.png\")"
   ]
  },
  {
   "cell_type": "code",
   "execution_count": 114,
   "metadata": {
    "collapsed": false,
    "slideshow": {
     "slide_type": "slide"
    }
   },
   "outputs": [
    {
     "data": {
      "text/html": [
       "<img src=\"https://raw.githubusercontent.com/gwsb-istm-6212-fall-2016/Rongchu-Zhao/master/DM/STARSCHEMA.png\"/>"
      ],
      "text/plain": [
       "<IPython.core.display.Image object>"
      ]
     },
     "execution_count": 114,
     "metadata": {},
     "output_type": "execute_result"
    }
   ],
   "source": [
    "Image(url = \"https://raw.githubusercontent.com/gwsb-istm-6212-fall-2016/Rongchu-Zhao/master/DM/STARSCHEMA.png\")"
   ]
  },
  {
   "cell_type": "markdown",
   "metadata": {
    "slideshow": {
     "slide_type": "skip"
    }
   },
   "source": [
    "First, there are 8 columns that we feel not so useful in our analysis, which are 'rfed_doc_cd','rfed_doc_dept_cd'  'rfed_doc_id','rfed_vend_ln_no','rfed_comm_ln_no','rfed_actg_ln_no','rf_doc_cd','rf_doc_dept_cd' and 'rf_doc_id'. These columns include the information about referenced document and the department of the referenced document, which we think is unrelated to our analysis and there is no further description about what were code of document and department imply, hence we decide to keep thoes columns into junk dimension table. Although at this point, it is not useful, we did not simply delete it because we feel once we get more information about those code and ID, these columns may tell some interesting insights of spending. "
   ]
  },
  {
   "cell_type": "markdown",
   "metadata": {
    "slideshow": {
     "slide_type": "skip"
    }
   },
   "source": [
    "Create a Junk dimension table to store information that is not our interest at this point, but could be possibly used for referencing purpose in the future."
   ]
  },
  {
   "cell_type": "code",
   "execution_count": 52,
   "metadata": {
    "collapsed": false,
    "slideshow": {
     "slide_type": "skip"
    }
   },
   "outputs": [
    {
     "name": "stdout",
     "output_type": "stream",
     "text": [
      "Done.\n",
      "390287 rows affected.\n"
     ]
    },
    {
     "data": {
      "text/plain": [
       "[]"
      ]
     },
     "execution_count": 52,
     "metadata": {},
     "output_type": "execute_result"
    }
   ],
   "source": [
    "%%sql\n",
    "\n",
    "DROP TABLE IF EXISTS DIM_junkdata;\n",
    "CREATE TABLE DIM_junkdata AS\n",
    "SELECT DISTINCT\n",
    "     rfed_doc_cd\n",
    "    ,rfed_doc_dept_cd\n",
    "    ,rfed_doc_id\n",
    "    ,rfed_vend_ln_no\n",
    "    ,rfed_comm_ln_no\n",
    "    ,rfed_actg_ln_no\n",
    "    ,rf_doc_cd\n",
    "    ,rf_doc_dept_cd\n",
    "    ,rf_doc_id\n",
    "FROM austin;"
   ]
  },
  {
   "cell_type": "code",
   "execution_count": 53,
   "metadata": {
    "collapsed": false,
    "slideshow": {
     "slide_type": "skip"
    }
   },
   "outputs": [
    {
     "name": "stdout",
     "output_type": "stream",
     "text": [
      "Done.\n"
     ]
    },
    {
     "data": {
      "text/plain": [
       "[]"
      ]
     },
     "execution_count": 53,
     "metadata": {},
     "output_type": "execute_result"
    }
   ],
   "source": [
    "%%sql\n",
    "\n",
    "ALTER TABLE DIM_junkdata\n",
    "ADD COLUMN junk_key SERIAL PRIMARY KEY;"
   ]
  },
  {
   "cell_type": "markdown",
   "metadata": {
    "slideshow": {
     "slide_type": "skip"
    }
   },
   "source": [
    "Now checking the data in the Junk dimension table"
   ]
  },
  {
   "cell_type": "code",
   "execution_count": 54,
   "metadata": {
    "collapsed": false,
    "slideshow": {
     "slide_type": "skip"
    }
   },
   "outputs": [
    {
     "name": "stdout",
     "output_type": "stream",
     "text": [
      "10 rows affected.\n"
     ]
    },
    {
     "data": {
      "text/html": [
       "<table>\n",
       "    <tr>\n",
       "        <th>rfed_doc_cd</th>\n",
       "        <th>rfed_doc_dept_cd</th>\n",
       "        <th>rfed_doc_id</th>\n",
       "        <th>rfed_vend_ln_no</th>\n",
       "        <th>rfed_comm_ln_no</th>\n",
       "        <th>rfed_actg_ln_no</th>\n",
       "        <th>rf_doc_cd</th>\n",
       "        <th>rf_doc_dept_cd</th>\n",
       "        <th>rf_doc_id</th>\n",
       "        <th>junk_key</th>\n",
       "    </tr>\n",
       "    <tr>\n",
       "        <td>PRM</td>\n",
       "        <td>1500</td>\n",
       "        <td>16041321479</td>\n",
       "        <td>1</td>\n",
       "        <td>2</td>\n",
       "        <td>1</td>\n",
       "        <td>DO</td>\n",
       "        <td>1500</td>\n",
       "        <td>16010605843</td>\n",
       "        <td>1</td>\n",
       "    </tr>\n",
       "    <tr>\n",
       "        <td>GAX</td>\n",
       "        <td>1100</td>\n",
       "        <td>16060713411</td>\n",
       "        <td>1</td>\n",
       "        <td>0</td>\n",
       "        <td>3</td>\n",
       "        <td>999</td>\n",
       "        <td>999</td>\n",
       "        <td>N/A</td>\n",
       "        <td>2</td>\n",
       "    </tr>\n",
       "    <tr>\n",
       "        <td>PRM</td>\n",
       "        <td>1100</td>\n",
       "        <td>14121207414</td>\n",
       "        <td>1</td>\n",
       "        <td>1</td>\n",
       "        <td>21</td>\n",
       "        <td>DO</td>\n",
       "        <td>1100</td>\n",
       "        <td>14120504472</td>\n",
       "        <td>3</td>\n",
       "    </tr>\n",
       "    <tr>\n",
       "        <td>PRM</td>\n",
       "        <td>2200</td>\n",
       "        <td>16020513450</td>\n",
       "        <td>1</td>\n",
       "        <td>1</td>\n",
       "        <td>1</td>\n",
       "        <td>DO</td>\n",
       "        <td>2200</td>\n",
       "        <td>16010605797</td>\n",
       "        <td>4</td>\n",
       "    </tr>\n",
       "    <tr>\n",
       "        <td>GAX</td>\n",
       "        <td>6800</td>\n",
       "        <td>14050913192</td>\n",
       "        <td>1</td>\n",
       "        <td>0</td>\n",
       "        <td>1</td>\n",
       "        <td>999</td>\n",
       "        <td>999</td>\n",
       "        <td>N/A</td>\n",
       "        <td>5</td>\n",
       "    </tr>\n",
       "    <tr>\n",
       "        <td>PRM</td>\n",
       "        <td>2200</td>\n",
       "        <td>16080533027</td>\n",
       "        <td>1</td>\n",
       "        <td>3</td>\n",
       "        <td>3</td>\n",
       "        <td>PO</td>\n",
       "        <td>2200</td>\n",
       "        <td>16072103826</td>\n",
       "        <td>6</td>\n",
       "    </tr>\n",
       "    <tr>\n",
       "        <td>PRM</td>\n",
       "        <td>1100</td>\n",
       "        <td>14062727749</td>\n",
       "        <td>1</td>\n",
       "        <td>1</td>\n",
       "        <td>23</td>\n",
       "        <td>DO</td>\n",
       "        <td>1100</td>\n",
       "        <td>14061815323</td>\n",
       "        <td>7</td>\n",
       "    </tr>\n",
       "    <tr>\n",
       "        <td>PRM</td>\n",
       "        <td>5800</td>\n",
       "        <td>14041820497</td>\n",
       "        <td>1</td>\n",
       "        <td>1</td>\n",
       "        <td>1</td>\n",
       "        <td>DO</td>\n",
       "        <td>5800</td>\n",
       "        <td>14041011388</td>\n",
       "        <td>8</td>\n",
       "    </tr>\n",
       "    <tr>\n",
       "        <td>PRM</td>\n",
       "        <td>2200</td>\n",
       "        <td>14102002375</td>\n",
       "        <td>1</td>\n",
       "        <td>2</td>\n",
       "        <td>1</td>\n",
       "        <td>DO</td>\n",
       "        <td>2200</td>\n",
       "        <td>14093021823</td>\n",
       "        <td>9</td>\n",
       "    </tr>\n",
       "    <tr>\n",
       "        <td>PRM</td>\n",
       "        <td>5700</td>\n",
       "        <td>16042022297</td>\n",
       "        <td>1</td>\n",
       "        <td>1</td>\n",
       "        <td>1</td>\n",
       "        <td>DO</td>\n",
       "        <td>5700</td>\n",
       "        <td>15110902819</td>\n",
       "        <td>10</td>\n",
       "    </tr>\n",
       "</table>"
      ],
      "text/plain": [
       "[('PRM', 1500, '16041321479', 1, 2, 1, 'DO', 1500, '16010605843', 1),\n",
       " ('GAX', 1100, '16060713411', 1, 0, 3, '999', 999, 'N/A', 2),\n",
       " ('PRM', 1100, '14121207414', 1, 1, 21, 'DO', 1100, '14120504472', 3),\n",
       " ('PRM', 2200, '16020513450', 1, 1, 1, 'DO', 2200, '16010605797', 4),\n",
       " ('GAX', 6800, '14050913192', 1, 0, 1, '999', 999, 'N/A', 5),\n",
       " ('PRM', 2200, '16080533027', 1, 3, 3, 'PO', 2200, '16072103826', 6),\n",
       " ('PRM', 1100, '14062727749', 1, 1, 23, 'DO', 1100, '14061815323', 7),\n",
       " ('PRM', 5800, '14041820497', 1, 1, 1, 'DO', 5800, '14041011388', 8),\n",
       " ('PRM', 2200, '14102002375', 1, 2, 1, 'DO', 2200, '14093021823', 9),\n",
       " ('PRM', 5700, '16042022297', 1, 1, 1, 'DO', 5700, '15110902819', 10)]"
      ]
     },
     "execution_count": 54,
     "metadata": {},
     "output_type": "execute_result"
    }
   ],
   "source": [
    "%%sql\n",
    "SELECT * FROM dim_junkdata\n",
    "LIMIT 10;"
   ]
  },
  {
   "cell_type": "markdown",
   "metadata": {
    "slideshow": {
     "slide_type": "skip"
    }
   },
   "source": [
    "Now exploring the 'chk_eft_iss_dt' "
   ]
  },
  {
   "cell_type": "code",
   "execution_count": 55,
   "metadata": {
    "collapsed": false,
    "slideshow": {
     "slide_type": "skip"
    }
   },
   "outputs": [
    {
     "name": "stdout",
     "output_type": "stream",
     "text": [
      "10 rows affected.\n"
     ]
    },
    {
     "data": {
      "text/html": [
       "<table>\n",
       "    <tr>\n",
       "        <th>chk_eft_iss_dt</th>\n",
       "    </tr>\n",
       "    <tr>\n",
       "        <td>0014-08-24</td>\n",
       "    </tr>\n",
       "    <tr>\n",
       "        <td>0014-05-22</td>\n",
       "    </tr>\n",
       "    <tr>\n",
       "        <td>0014-05-23</td>\n",
       "    </tr>\n",
       "    <tr>\n",
       "        <td>0014-08-10</td>\n",
       "    </tr>\n",
       "    <tr>\n",
       "        <td>0014-08-22</td>\n",
       "    </tr>\n",
       "    <tr>\n",
       "        <td>0014-05-08</td>\n",
       "    </tr>\n",
       "    <tr>\n",
       "        <td>0014-07-05</td>\n",
       "    </tr>\n",
       "    <tr>\n",
       "        <td>0014-08-28</td>\n",
       "    </tr>\n",
       "    <tr>\n",
       "        <td>0014-08-03</td>\n",
       "    </tr>\n",
       "    <tr>\n",
       "        <td>0014-09-04</td>\n",
       "    </tr>\n",
       "</table>"
      ],
      "text/plain": [
       "[(datetime.date(14, 8, 24),),\n",
       " (datetime.date(14, 5, 22),),\n",
       " (datetime.date(14, 5, 23),),\n",
       " (datetime.date(14, 8, 10),),\n",
       " (datetime.date(14, 8, 22),),\n",
       " (datetime.date(14, 5, 8),),\n",
       " (datetime.date(14, 7, 5),),\n",
       " (datetime.date(14, 8, 28),),\n",
       " (datetime.date(14, 8, 3),),\n",
       " (datetime.date(14, 9, 4),)]"
      ]
     },
     "execution_count": 55,
     "metadata": {},
     "output_type": "execute_result"
    }
   ],
   "source": [
    "%%sql\n",
    "\n",
    "SELECT chk_eft_iss_dt\n",
    "FROM austin\n",
    "LIMIT 10;"
   ]
  },
  {
   "cell_type": "markdown",
   "metadata": {
    "collapsed": true,
    "slideshow": {
     "slide_type": "skip"
    }
   },
   "source": [
    "The year values in the column 'chk_eft_iss_dt' are messy and hence we plan to clean them"
   ]
  },
  {
   "cell_type": "markdown",
   "metadata": {
    "slideshow": {
     "slide_type": "skip"
    }
   },
   "source": [
    "Now we add a new column to the austin table inorder to store the new date column"
   ]
  },
  {
   "cell_type": "code",
   "execution_count": 56,
   "metadata": {
    "collapsed": false,
    "slideshow": {
     "slide_type": "skip"
    }
   },
   "outputs": [
    {
     "name": "stdout",
     "output_type": "stream",
     "text": [
      "Done.\n"
     ]
    },
    {
     "data": {
      "text/plain": [
       "[]"
      ]
     },
     "execution_count": 56,
     "metadata": {},
     "output_type": "execute_result"
    }
   ],
   "source": [
    "%%sql \n",
    "\n",
    "ALTER TABLE austin\n",
    "ADD COLUMN check_date DATE;"
   ]
  },
  {
   "cell_type": "code",
   "execution_count": 57,
   "metadata": {
    "collapsed": false,
    "slideshow": {
     "slide_type": "skip"
    }
   },
   "outputs": [
    {
     "name": "stdout",
     "output_type": "stream",
     "text": [
      "390287 rows affected.\n"
     ]
    },
    {
     "data": {
      "text/plain": [
       "[]"
      ]
     },
     "execution_count": 57,
     "metadata": {},
     "output_type": "execute_result"
    }
   ],
   "source": [
    "%%sql\n",
    "\n",
    "UPDATE austin\n",
    "SET check_date = CAST('20'|| EXTRACT(year from chk_eft_iss_dt)||'-'||EXTRACT(month from chk_eft_iss_dt)||'-'||EXTRACT(day from chk_eft_iss_dt) AS DATE)"
   ]
  },
  {
   "cell_type": "code",
   "execution_count": 58,
   "metadata": {
    "collapsed": false,
    "slideshow": {
     "slide_type": "skip"
    }
   },
   "outputs": [
    {
     "name": "stdout",
     "output_type": "stream",
     "text": [
      "10 rows affected.\n"
     ]
    },
    {
     "data": {
      "text/html": [
       "<table>\n",
       "    <tr>\n",
       "        <th>check_date</th>\n",
       "    </tr>\n",
       "    <tr>\n",
       "        <td>2014-08-24</td>\n",
       "    </tr>\n",
       "    <tr>\n",
       "        <td>2014-05-22</td>\n",
       "    </tr>\n",
       "    <tr>\n",
       "        <td>2014-05-23</td>\n",
       "    </tr>\n",
       "    <tr>\n",
       "        <td>2014-08-10</td>\n",
       "    </tr>\n",
       "    <tr>\n",
       "        <td>2014-08-22</td>\n",
       "    </tr>\n",
       "    <tr>\n",
       "        <td>2014-05-08</td>\n",
       "    </tr>\n",
       "    <tr>\n",
       "        <td>2014-08-24</td>\n",
       "    </tr>\n",
       "    <tr>\n",
       "        <td>2014-05-23</td>\n",
       "    </tr>\n",
       "    <tr>\n",
       "        <td>2014-09-10</td>\n",
       "    </tr>\n",
       "    <tr>\n",
       "        <td>2014-08-16</td>\n",
       "    </tr>\n",
       "</table>"
      ],
      "text/plain": [
       "[(datetime.date(2014, 8, 24),),\n",
       " (datetime.date(2014, 5, 22),),\n",
       " (datetime.date(2014, 5, 23),),\n",
       " (datetime.date(2014, 8, 10),),\n",
       " (datetime.date(2014, 8, 22),),\n",
       " (datetime.date(2014, 5, 8),),\n",
       " (datetime.date(2014, 8, 24),),\n",
       " (datetime.date(2014, 5, 23),),\n",
       " (datetime.date(2014, 9, 10),),\n",
       " (datetime.date(2014, 8, 16),)]"
      ]
     },
     "execution_count": 58,
     "metadata": {},
     "output_type": "execute_result"
    }
   ],
   "source": [
    "%%sql\n",
    "\n",
    "SELECT check_date\n",
    "FROM austin\n",
    "limit 10;"
   ]
  },
  {
   "cell_type": "markdown",
   "metadata": {
    "slideshow": {
     "slide_type": "skip"
    }
   },
   "source": [
    "Now we will delete the old column 'chk_eft_iss_dt' from the table austin"
   ]
  },
  {
   "cell_type": "code",
   "execution_count": 59,
   "metadata": {
    "collapsed": false,
    "slideshow": {
     "slide_type": "skip"
    }
   },
   "outputs": [
    {
     "name": "stdout",
     "output_type": "stream",
     "text": [
      "Done.\n"
     ]
    },
    {
     "data": {
      "text/plain": [
       "[]"
      ]
     },
     "execution_count": 59,
     "metadata": {},
     "output_type": "execute_result"
    }
   ],
   "source": [
    "%%sql\n",
    "\n",
    "ALTER TABLE austin\n",
    "DROP COLUMN chk_eft_iss_dt;"
   ]
  },
  {
   "cell_type": "markdown",
   "metadata": {
    "slideshow": {
     "slide_type": "skip"
    }
   },
   "source": [
    "Now creating the time Dimension table"
   ]
  },
  {
   "cell_type": "code",
   "execution_count": 125,
   "metadata": {
    "collapsed": false
   },
   "outputs": [
    {
     "name": "stdout",
     "output_type": "stream",
     "text": [
      "Done.\n",
      "735 rows affected.\n"
     ]
    },
    {
     "data": {
      "text/plain": [
       "[]"
      ]
     },
     "execution_count": 125,
     "metadata": {},
     "output_type": "execute_result"
    }
   ],
   "source": [
    "%%sql\n",
    "\n",
    "DROP TABLE IF EXISTS DIM_date CASCADE;\n",
    "CREATE TABLE DIM_date AS\n",
    "SELECT DISTINCT check_date\n",
    "       ,cal_year\n",
    "       ,cal_month\n",
    "       ,CAST(EXTRACT(day from check_date) AS INTEGER) AS cal_day \n",
    "       ,fy_dc\n",
    "       ,per_cd\n",
    "       ,case WHEN per_cd=1 THEN 'OCT'\n",
    "             WHEN per_cd=2 THEN 'NOV'\n",
    "             WHEN per_cd=3 THEN 'DEC'\n",
    "             WHEN per_cd=4 THEN 'JAN'\n",
    "             WHEN per_cd=5 THEN 'FEB'\n",
    "             WHEN per_cd=6 THEN 'MAR'\n",
    "             WHEN per_cd=7 THEN 'APR'\n",
    "             WHEN per_cd=8 THEN 'MAY'\n",
    "             WHEN per_cd=9 THEN 'JUN'\n",
    "             WHEN per_cd=10 THEN 'JUL'\n",
    "             WHEN per_cd=11 THEN 'AUG'\n",
    "             WHEN per_cd=12 THEN 'SEP'\n",
    "        END AS \"fy_month\"\n",
    "       ,case WHEN PER_CD=1 OR PER_CD=2 OR PER_CD=3 THEN 'Q1'\n",
    "             WHEN PER_CD=4 OR PER_CD=5 OR PER_CD=6 THEN 'Q2'\n",
    "             WHEN PER_CD=7 OR PER_CD=8 OR PER_CD=9 THEN 'Q3'\n",
    "            else 'Q4'\n",
    "        END AS \"fy_quarter\"\n",
    "        ,case WHEN fy_dc=2014 THEN 'FY14'\n",
    "              WHEN fy_dc=2015 THEN 'FY15'\n",
    "              WHEN fy_dc=2016 THEN 'FY16'\n",
    "        END AS \"fy\"\n",
    "       \n",
    "FROM AUSTIN;"
   ]
  },
  {
   "cell_type": "markdown",
   "metadata": {},
   "source": [
    "In the date table we converted the 'per_cd' column to make it more informative in actually showing the month names and we also created a new column called 'fy_quarter' which helps us in analyzing spending data based on financial quarters and finally we created a column 'fy' which clearly distinguishes the financial year from the calender year."
   ]
  },
  {
   "cell_type": "code",
   "execution_count": 126,
   "metadata": {
    "collapsed": false,
    "slideshow": {
     "slide_type": "skip"
    }
   },
   "outputs": [
    {
     "name": "stdout",
     "output_type": "stream",
     "text": [
      "10 rows affected.\n"
     ]
    },
    {
     "data": {
      "text/html": [
       "<table>\n",
       "    <tr>\n",
       "        <th>check_date</th>\n",
       "        <th>cal_year</th>\n",
       "        <th>cal_month</th>\n",
       "        <th>cal_day</th>\n",
       "        <th>fy_dc</th>\n",
       "        <th>per_cd</th>\n",
       "        <th>fy_month</th>\n",
       "        <th>fy_quarter</th>\n",
       "        <th>fy</th>\n",
       "    </tr>\n",
       "    <tr>\n",
       "        <td>2013-10-03</td>\n",
       "        <td>2013</td>\n",
       "        <td>10</td>\n",
       "        <td>3</td>\n",
       "        <td>2014</td>\n",
       "        <td>1</td>\n",
       "        <td>OCT</td>\n",
       "        <td>Q1</td>\n",
       "        <td>FY14</td>\n",
       "    </tr>\n",
       "    <tr>\n",
       "        <td>2013-10-04</td>\n",
       "        <td>2013</td>\n",
       "        <td>10</td>\n",
       "        <td>4</td>\n",
       "        <td>2014</td>\n",
       "        <td>1</td>\n",
       "        <td>OCT</td>\n",
       "        <td>Q1</td>\n",
       "        <td>FY14</td>\n",
       "    </tr>\n",
       "    <tr>\n",
       "        <td>2013-10-05</td>\n",
       "        <td>2013</td>\n",
       "        <td>10</td>\n",
       "        <td>5</td>\n",
       "        <td>2014</td>\n",
       "        <td>1</td>\n",
       "        <td>OCT</td>\n",
       "        <td>Q1</td>\n",
       "        <td>FY14</td>\n",
       "    </tr>\n",
       "    <tr>\n",
       "        <td>2013-10-06</td>\n",
       "        <td>2013</td>\n",
       "        <td>10</td>\n",
       "        <td>6</td>\n",
       "        <td>2014</td>\n",
       "        <td>1</td>\n",
       "        <td>OCT</td>\n",
       "        <td>Q1</td>\n",
       "        <td>FY14</td>\n",
       "    </tr>\n",
       "    <tr>\n",
       "        <td>2013-10-09</td>\n",
       "        <td>2013</td>\n",
       "        <td>10</td>\n",
       "        <td>9</td>\n",
       "        <td>2014</td>\n",
       "        <td>1</td>\n",
       "        <td>OCT</td>\n",
       "        <td>Q1</td>\n",
       "        <td>FY14</td>\n",
       "    </tr>\n",
       "    <tr>\n",
       "        <td>2013-10-10</td>\n",
       "        <td>2013</td>\n",
       "        <td>10</td>\n",
       "        <td>10</td>\n",
       "        <td>2014</td>\n",
       "        <td>1</td>\n",
       "        <td>OCT</td>\n",
       "        <td>Q1</td>\n",
       "        <td>FY14</td>\n",
       "    </tr>\n",
       "    <tr>\n",
       "        <td>2013-10-11</td>\n",
       "        <td>2013</td>\n",
       "        <td>10</td>\n",
       "        <td>11</td>\n",
       "        <td>2014</td>\n",
       "        <td>1</td>\n",
       "        <td>OCT</td>\n",
       "        <td>Q1</td>\n",
       "        <td>FY14</td>\n",
       "    </tr>\n",
       "    <tr>\n",
       "        <td>2013-10-12</td>\n",
       "        <td>2013</td>\n",
       "        <td>10</td>\n",
       "        <td>12</td>\n",
       "        <td>2014</td>\n",
       "        <td>1</td>\n",
       "        <td>OCT</td>\n",
       "        <td>Q1</td>\n",
       "        <td>FY14</td>\n",
       "    </tr>\n",
       "    <tr>\n",
       "        <td>2013-10-13</td>\n",
       "        <td>2013</td>\n",
       "        <td>10</td>\n",
       "        <td>13</td>\n",
       "        <td>2014</td>\n",
       "        <td>1</td>\n",
       "        <td>OCT</td>\n",
       "        <td>Q1</td>\n",
       "        <td>FY14</td>\n",
       "    </tr>\n",
       "    <tr>\n",
       "        <td>2013-10-16</td>\n",
       "        <td>2013</td>\n",
       "        <td>10</td>\n",
       "        <td>16</td>\n",
       "        <td>2014</td>\n",
       "        <td>1</td>\n",
       "        <td>OCT</td>\n",
       "        <td>Q1</td>\n",
       "        <td>FY14</td>\n",
       "    </tr>\n",
       "</table>"
      ],
      "text/plain": [
       "[(datetime.date(2013, 10, 3), 2013, 10, 3, 2014, 1, 'OCT', 'Q1', 'FY14'),\n",
       " (datetime.date(2013, 10, 4), 2013, 10, 4, 2014, 1, 'OCT', 'Q1', 'FY14'),\n",
       " (datetime.date(2013, 10, 5), 2013, 10, 5, 2014, 1, 'OCT', 'Q1', 'FY14'),\n",
       " (datetime.date(2013, 10, 6), 2013, 10, 6, 2014, 1, 'OCT', 'Q1', 'FY14'),\n",
       " (datetime.date(2013, 10, 9), 2013, 10, 9, 2014, 1, 'OCT', 'Q1', 'FY14'),\n",
       " (datetime.date(2013, 10, 10), 2013, 10, 10, 2014, 1, 'OCT', 'Q1', 'FY14'),\n",
       " (datetime.date(2013, 10, 11), 2013, 10, 11, 2014, 1, 'OCT', 'Q1', 'FY14'),\n",
       " (datetime.date(2013, 10, 12), 2013, 10, 12, 2014, 1, 'OCT', 'Q1', 'FY14'),\n",
       " (datetime.date(2013, 10, 13), 2013, 10, 13, 2014, 1, 'OCT', 'Q1', 'FY14'),\n",
       " (datetime.date(2013, 10, 16), 2013, 10, 16, 2014, 1, 'OCT', 'Q1', 'FY14')]"
      ]
     },
     "execution_count": 126,
     "metadata": {},
     "output_type": "execute_result"
    }
   ],
   "source": [
    "%%sql\n",
    "\n",
    "SELECT * FROM dim_date\n",
    "LIMIT 10;"
   ]
  },
  {
   "cell_type": "code",
   "execution_count": 127,
   "metadata": {
    "collapsed": false,
    "slideshow": {
     "slide_type": "skip"
    }
   },
   "outputs": [
    {
     "name": "stdout",
     "output_type": "stream",
     "text": [
      "Done.\n"
     ]
    },
    {
     "data": {
      "text/plain": [
       "[]"
      ]
     },
     "execution_count": 127,
     "metadata": {},
     "output_type": "execute_result"
    }
   ],
   "source": [
    "%%sql\n",
    "\n",
    "ALTER TABLE DIM_date\n",
    "ADD COLUMN date_key SERIAL PRIMARY KEY;"
   ]
  },
  {
   "cell_type": "code",
   "execution_count": 128,
   "metadata": {
    "collapsed": false,
    "slideshow": {
     "slide_type": "skip"
    }
   },
   "outputs": [
    {
     "name": "stdout",
     "output_type": "stream",
     "text": [
      "10 rows affected.\n"
     ]
    },
    {
     "data": {
      "text/html": [
       "<table>\n",
       "    <tr>\n",
       "        <th>check_date</th>\n",
       "        <th>cal_year</th>\n",
       "        <th>cal_month</th>\n",
       "        <th>cal_day</th>\n",
       "        <th>fy_dc</th>\n",
       "        <th>per_cd</th>\n",
       "        <th>fy_month</th>\n",
       "        <th>fy_quarter</th>\n",
       "        <th>fy</th>\n",
       "        <th>date_key</th>\n",
       "    </tr>\n",
       "    <tr>\n",
       "        <td>2013-10-03</td>\n",
       "        <td>2013</td>\n",
       "        <td>10</td>\n",
       "        <td>3</td>\n",
       "        <td>2014</td>\n",
       "        <td>1</td>\n",
       "        <td>OCT</td>\n",
       "        <td>Q1</td>\n",
       "        <td>FY14</td>\n",
       "        <td>1</td>\n",
       "    </tr>\n",
       "    <tr>\n",
       "        <td>2013-10-04</td>\n",
       "        <td>2013</td>\n",
       "        <td>10</td>\n",
       "        <td>4</td>\n",
       "        <td>2014</td>\n",
       "        <td>1</td>\n",
       "        <td>OCT</td>\n",
       "        <td>Q1</td>\n",
       "        <td>FY14</td>\n",
       "        <td>2</td>\n",
       "    </tr>\n",
       "    <tr>\n",
       "        <td>2013-10-05</td>\n",
       "        <td>2013</td>\n",
       "        <td>10</td>\n",
       "        <td>5</td>\n",
       "        <td>2014</td>\n",
       "        <td>1</td>\n",
       "        <td>OCT</td>\n",
       "        <td>Q1</td>\n",
       "        <td>FY14</td>\n",
       "        <td>3</td>\n",
       "    </tr>\n",
       "    <tr>\n",
       "        <td>2013-10-06</td>\n",
       "        <td>2013</td>\n",
       "        <td>10</td>\n",
       "        <td>6</td>\n",
       "        <td>2014</td>\n",
       "        <td>1</td>\n",
       "        <td>OCT</td>\n",
       "        <td>Q1</td>\n",
       "        <td>FY14</td>\n",
       "        <td>4</td>\n",
       "    </tr>\n",
       "    <tr>\n",
       "        <td>2013-10-09</td>\n",
       "        <td>2013</td>\n",
       "        <td>10</td>\n",
       "        <td>9</td>\n",
       "        <td>2014</td>\n",
       "        <td>1</td>\n",
       "        <td>OCT</td>\n",
       "        <td>Q1</td>\n",
       "        <td>FY14</td>\n",
       "        <td>5</td>\n",
       "    </tr>\n",
       "    <tr>\n",
       "        <td>2013-10-10</td>\n",
       "        <td>2013</td>\n",
       "        <td>10</td>\n",
       "        <td>10</td>\n",
       "        <td>2014</td>\n",
       "        <td>1</td>\n",
       "        <td>OCT</td>\n",
       "        <td>Q1</td>\n",
       "        <td>FY14</td>\n",
       "        <td>6</td>\n",
       "    </tr>\n",
       "    <tr>\n",
       "        <td>2013-10-11</td>\n",
       "        <td>2013</td>\n",
       "        <td>10</td>\n",
       "        <td>11</td>\n",
       "        <td>2014</td>\n",
       "        <td>1</td>\n",
       "        <td>OCT</td>\n",
       "        <td>Q1</td>\n",
       "        <td>FY14</td>\n",
       "        <td>7</td>\n",
       "    </tr>\n",
       "    <tr>\n",
       "        <td>2013-10-12</td>\n",
       "        <td>2013</td>\n",
       "        <td>10</td>\n",
       "        <td>12</td>\n",
       "        <td>2014</td>\n",
       "        <td>1</td>\n",
       "        <td>OCT</td>\n",
       "        <td>Q1</td>\n",
       "        <td>FY14</td>\n",
       "        <td>8</td>\n",
       "    </tr>\n",
       "    <tr>\n",
       "        <td>2013-10-13</td>\n",
       "        <td>2013</td>\n",
       "        <td>10</td>\n",
       "        <td>13</td>\n",
       "        <td>2014</td>\n",
       "        <td>1</td>\n",
       "        <td>OCT</td>\n",
       "        <td>Q1</td>\n",
       "        <td>FY14</td>\n",
       "        <td>9</td>\n",
       "    </tr>\n",
       "    <tr>\n",
       "        <td>2013-10-16</td>\n",
       "        <td>2013</td>\n",
       "        <td>10</td>\n",
       "        <td>16</td>\n",
       "        <td>2014</td>\n",
       "        <td>1</td>\n",
       "        <td>OCT</td>\n",
       "        <td>Q1</td>\n",
       "        <td>FY14</td>\n",
       "        <td>10</td>\n",
       "    </tr>\n",
       "</table>"
      ],
      "text/plain": [
       "[(datetime.date(2013, 10, 3), 2013, 10, 3, 2014, 1, 'OCT', 'Q1', 'FY14', 1),\n",
       " (datetime.date(2013, 10, 4), 2013, 10, 4, 2014, 1, 'OCT', 'Q1', 'FY14', 2),\n",
       " (datetime.date(2013, 10, 5), 2013, 10, 5, 2014, 1, 'OCT', 'Q1', 'FY14', 3),\n",
       " (datetime.date(2013, 10, 6), 2013, 10, 6, 2014, 1, 'OCT', 'Q1', 'FY14', 4),\n",
       " (datetime.date(2013, 10, 9), 2013, 10, 9, 2014, 1, 'OCT', 'Q1', 'FY14', 5),\n",
       " (datetime.date(2013, 10, 10), 2013, 10, 10, 2014, 1, 'OCT', 'Q1', 'FY14', 6),\n",
       " (datetime.date(2013, 10, 11), 2013, 10, 11, 2014, 1, 'OCT', 'Q1', 'FY14', 7),\n",
       " (datetime.date(2013, 10, 12), 2013, 10, 12, 2014, 1, 'OCT', 'Q1', 'FY14', 8),\n",
       " (datetime.date(2013, 10, 13), 2013, 10, 13, 2014, 1, 'OCT', 'Q1', 'FY14', 9),\n",
       " (datetime.date(2013, 10, 16), 2013, 10, 16, 2014, 1, 'OCT', 'Q1', 'FY14', 10)]"
      ]
     },
     "execution_count": 128,
     "metadata": {},
     "output_type": "execute_result"
    }
   ],
   "source": [
    "%%sql \n",
    "\n",
    "SELECT * FROM DIM_date\n",
    "limit 10;"
   ]
  },
  {
   "cell_type": "markdown",
   "metadata": {
    "slideshow": {
     "slide_type": "skip"
    }
   },
   "source": [
    "Now we are creating the object dimension table "
   ]
  },
  {
   "cell_type": "code",
   "execution_count": 64,
   "metadata": {
    "collapsed": false,
    "slideshow": {
     "slide_type": "skip"
    }
   },
   "outputs": [
    {
     "name": "stdout",
     "output_type": "stream",
     "text": [
      "Done.\n",
      "300 rows affected.\n"
     ]
    },
    {
     "data": {
      "text/plain": [
       "[]"
      ]
     },
     "execution_count": 64,
     "metadata": {},
     "output_type": "execute_result"
    }
   ],
   "source": [
    "%%sql\n",
    "\n",
    "DROP TABLE IF EXISTS DIM_obj;\n",
    "CREATE TABLE DIM_obj AS\n",
    "SELECT DISTINCT \n",
    "        ocat_cd\n",
    "       ,ocat_nm\n",
    "       ,obj_cd\n",
    "       ,obj_nm\n",
    "FROM austin;"
   ]
  },
  {
   "cell_type": "code",
   "execution_count": 65,
   "metadata": {
    "collapsed": false,
    "slideshow": {
     "slide_type": "skip"
    }
   },
   "outputs": [
    {
     "name": "stdout",
     "output_type": "stream",
     "text": [
      "Done.\n"
     ]
    },
    {
     "data": {
      "text/plain": [
       "[]"
      ]
     },
     "execution_count": 65,
     "metadata": {},
     "output_type": "execute_result"
    }
   ],
   "source": [
    "%%sql\n",
    "\n",
    "ALTER TABLE DIM_obj\n",
    "ADD COLUMN obj_key SERIAL PRIMARY KEY;"
   ]
  },
  {
   "cell_type": "code",
   "execution_count": 66,
   "metadata": {
    "collapsed": false,
    "slideshow": {
     "slide_type": "skip"
    }
   },
   "outputs": [
    {
     "name": "stdout",
     "output_type": "stream",
     "text": [
      "10 rows affected.\n"
     ]
    },
    {
     "data": {
      "text/html": [
       "<table>\n",
       "    <tr>\n",
       "        <th>ocat_cd</th>\n",
       "        <th>ocat_nm</th>\n",
       "        <th>obj_cd</th>\n",
       "        <th>obj_nm</th>\n",
       "        <th>obj_key</th>\n",
       "    </tr>\n",
       "    <tr>\n",
       "        <td>0</td>\n",
       "        <td>Other</td>\n",
       "        <td>8502</td>\n",
       "        <td>Interdepartmental reimbursements</td>\n",
       "        <td>1</td>\n",
       "    </tr>\n",
       "    <tr>\n",
       "        <td>0</td>\n",
       "        <td>Other</td>\n",
       "        <td>8503</td>\n",
       "        <td>Grant reimbursement</td>\n",
       "        <td>2</td>\n",
       "    </tr>\n",
       "    <tr>\n",
       "        <td>0</td>\n",
       "        <td>Other</td>\n",
       "        <td>8505</td>\n",
       "        <td>Expense refunds</td>\n",
       "        <td>3</td>\n",
       "    </tr>\n",
       "    <tr>\n",
       "        <td>0</td>\n",
       "        <td>Other</td>\n",
       "        <td>8508</td>\n",
       "        <td>Other 3rd party billings</td>\n",
       "        <td>4</td>\n",
       "    </tr>\n",
       "    <tr>\n",
       "        <td>0</td>\n",
       "        <td>Other</td>\n",
       "        <td>8509</td>\n",
       "        <td>Reimbursed overtime</td>\n",
       "        <td>5</td>\n",
       "    </tr>\n",
       "    <tr>\n",
       "        <td>0</td>\n",
       "        <td>Other</td>\n",
       "        <td>9775</td>\n",
       "        <td>Trf to ABIA D/S-Serial A Notes</td>\n",
       "        <td>6</td>\n",
       "    </tr>\n",
       "    <tr>\n",
       "        <td>0</td>\n",
       "        <td>Other</td>\n",
       "        <td>9885</td>\n",
       "        <td>Capital lease principal</td>\n",
       "        <td>7</td>\n",
       "    </tr>\n",
       "    <tr>\n",
       "        <td>0</td>\n",
       "        <td>Other</td>\n",
       "        <td>9892</td>\n",
       "        <td>TRF CRF to Debt Defeasance</td>\n",
       "        <td>8</td>\n",
       "    </tr>\n",
       "    <tr>\n",
       "        <td>152</td>\n",
       "        <td>Contractual Services</td>\n",
       "        <td>5220</td>\n",
       "        <td>Consultant-benefits/compensat</td>\n",
       "        <td>9</td>\n",
       "    </tr>\n",
       "    <tr>\n",
       "        <td>152</td>\n",
       "        <td>Contractual Services</td>\n",
       "        <td>5230</td>\n",
       "        <td>Consultant-engineering</td>\n",
       "        <td>10</td>\n",
       "    </tr>\n",
       "</table>"
      ],
      "text/plain": [
       "[(0, 'Other', '8502', 'Interdepartmental reimbursements', 1),\n",
       " (0, 'Other', '8503', 'Grant reimbursement', 2),\n",
       " (0, 'Other', '8505', 'Expense refunds', 3),\n",
       " (0, 'Other', '8508', 'Other 3rd party billings', 4),\n",
       " (0, 'Other', '8509', 'Reimbursed overtime', 5),\n",
       " (0, 'Other', '9775', 'Trf to ABIA D/S-Serial A Notes', 6),\n",
       " (0, 'Other', '9885', 'Capital lease principal', 7),\n",
       " (0, 'Other', '9892', 'TRF CRF to Debt Defeasance', 8),\n",
       " (152, 'Contractual Services', '5220', 'Consultant-benefits/compensat', 9),\n",
       " (152, 'Contractual Services', '5230', 'Consultant-engineering', 10)]"
      ]
     },
     "execution_count": 66,
     "metadata": {},
     "output_type": "execute_result"
    }
   ],
   "source": [
    "%%sql\n",
    "\n",
    "SELECT * FROM DIM_obj\n",
    "LIMIT 10;"
   ]
  },
  {
   "cell_type": "markdown",
   "metadata": {
    "slideshow": {
     "slide_type": "skip"
    }
   },
   "source": [
    "Now, we go ahead and create a Fund dimension table"
   ]
  },
  {
   "cell_type": "markdown",
   "metadata": {
    "slideshow": {
     "slide_type": "skip"
    }
   },
   "source": [
    "Our assumption was that Fund_cd will be the unique value that corresponding to each fun_nm. If our assumption was right, we could have assigned Fund_cd as the primary key to the fund dimension. Now we write an SQL query to test our assumption and result showed that they are not completely different."
   ]
  },
  {
   "cell_type": "code",
   "execution_count": 67,
   "metadata": {
    "collapsed": false,
    "slideshow": {
     "slide_type": "skip"
    }
   },
   "outputs": [
    {
     "name": "stdout",
     "output_type": "stream",
     "text": [
      "5 rows affected.\n"
     ]
    },
    {
     "data": {
      "text/html": [
       "<table>\n",
       "    <tr>\n",
       "        <th>fund_cd</th>\n",
       "        <th>count</th>\n",
       "    </tr>\n",
       "    <tr>\n",
       "        <td>7911</td>\n",
       "        <td>2</td>\n",
       "    </tr>\n",
       "    <tr>\n",
       "        <td>7910</td>\n",
       "        <td>2</td>\n",
       "    </tr>\n",
       "    <tr>\n",
       "        <td>1005</td>\n",
       "        <td>1</td>\n",
       "    </tr>\n",
       "    <tr>\n",
       "        <td>1007</td>\n",
       "        <td>1</td>\n",
       "    </tr>\n",
       "    <tr>\n",
       "        <td>1004</td>\n",
       "        <td>1</td>\n",
       "    </tr>\n",
       "</table>"
      ],
      "text/plain": [
       "[('7911', 2), ('7910', 2), ('1005', 1), ('1007', 1), ('1004', 1)]"
      ]
     },
     "execution_count": 67,
     "metadata": {},
     "output_type": "execute_result"
    }
   ],
   "source": [
    "%%sql\n",
    "\n",
    "SELECT fund_cd, COUNT(DISTINCT fund_nm) as Count\n",
    "FROM austin\n",
    "GROUP BY fund_cd\n",
    "ORDER BY Count DESC\n",
    "LIMIT 5;"
   ]
  },
  {
   "cell_type": "markdown",
   "metadata": {
    "slideshow": {
     "slide_type": "skip"
    }
   },
   "source": [
    "Here we see that the code is not unique for each of the fund names, hence when we are creating a dimension table for fund we need to create a unique key identifier."
   ]
  },
  {
   "cell_type": "code",
   "execution_count": 68,
   "metadata": {
    "collapsed": false,
    "slideshow": {
     "slide_type": "skip"
    }
   },
   "outputs": [
    {
     "name": "stdout",
     "output_type": "stream",
     "text": [
      "Done.\n",
      "239 rows affected.\n"
     ]
    },
    {
     "data": {
      "text/plain": [
       "[]"
      ]
     },
     "execution_count": 68,
     "metadata": {},
     "output_type": "execute_result"
    }
   ],
   "source": [
    "%%sql\n",
    "\n",
    "DROP TABLE IF EXISTS DIM_fund;\n",
    "CREATE TABLE DIM_fund AS\n",
    "SELECT DISTINCT\n",
    "     fund_nm\n",
    "    ,fund_cd\n",
    "FROM austin;"
   ]
  },
  {
   "cell_type": "code",
   "execution_count": 69,
   "metadata": {
    "collapsed": false,
    "slideshow": {
     "slide_type": "skip"
    }
   },
   "outputs": [
    {
     "name": "stdout",
     "output_type": "stream",
     "text": [
      "Done.\n"
     ]
    },
    {
     "data": {
      "text/plain": [
       "[]"
      ]
     },
     "execution_count": 69,
     "metadata": {},
     "output_type": "execute_result"
    }
   ],
   "source": [
    "%%sql \n",
    "\n",
    "ALTER TABLE DIM_fund\n",
    "ADD COLUMN fund_key SERIAL PRIMARY KEY;"
   ]
  },
  {
   "cell_type": "markdown",
   "metadata": {
    "slideshow": {
     "slide_type": "skip"
    }
   },
   "source": [
    "Now checking the data in the fund dimension table."
   ]
  },
  {
   "cell_type": "code",
   "execution_count": 70,
   "metadata": {
    "collapsed": false,
    "slideshow": {
     "slide_type": "skip"
    }
   },
   "outputs": [
    {
     "name": "stdout",
     "output_type": "stream",
     "text": [
      "10 rows affected.\n"
     ]
    },
    {
     "data": {
      "text/html": [
       "<table>\n",
       "    <tr>\n",
       "        <th>fund_nm</th>\n",
       "        <th>fund_cd</th>\n",
       "        <th>fund_key</th>\n",
       "    </tr>\n",
       "    <tr>\n",
       "        <td>1115 Medicaid Waiver</td>\n",
       "        <td>1115</td>\n",
       "        <td>1</td>\n",
       "    </tr>\n",
       "    <tr>\n",
       "        <td>2013ABIA Construction RevBonds</td>\n",
       "        <td>4911</td>\n",
       "        <td>2</td>\n",
       "    </tr>\n",
       "    <tr>\n",
       "        <td>2013ABIA Terminal East Infill RevBonds</td>\n",
       "        <td>4912</td>\n",
       "        <td>3</td>\n",
       "    </tr>\n",
       "    <tr>\n",
       "        <td>ABIA Improvements</td>\n",
       "        <td>4910</td>\n",
       "        <td>4</td>\n",
       "    </tr>\n",
       "    <tr>\n",
       "        <td>AE Debt Service Fund</td>\n",
       "        <td>9761</td>\n",
       "        <td>5</td>\n",
       "    </tr>\n",
       "    <tr>\n",
       "        <td>ARIC Sustainability</td>\n",
       "        <td>7860</td>\n",
       "        <td>6</td>\n",
       "    </tr>\n",
       "    <tr>\n",
       "        <td>ARR-Austin Resource Recovery Cip</td>\n",
       "        <td>4800</td>\n",
       "        <td>7</td>\n",
       "    </tr>\n",
       "    <tr>\n",
       "        <td>ARRA - Tobacco Prevention</td>\n",
       "        <td>6241</td>\n",
       "        <td>8</td>\n",
       "    </tr>\n",
       "    <tr>\n",
       "        <td>ARRA Wastewater Improvements--Nva</td>\n",
       "        <td>4600</td>\n",
       "        <td>9</td>\n",
       "    </tr>\n",
       "    <tr>\n",
       "        <td>ATD Transportation CIP</td>\n",
       "        <td>4720</td>\n",
       "        <td>10</td>\n",
       "    </tr>\n",
       "</table>"
      ],
      "text/plain": [
       "[('1115 Medicaid Waiver', '1115', 1),\n",
       " ('2013ABIA Construction RevBonds', '4911', 2),\n",
       " ('2013ABIA Terminal East Infill RevBonds', '4912', 3),\n",
       " ('ABIA Improvements', '4910', 4),\n",
       " ('AE Debt Service Fund', '9761', 5),\n",
       " ('ARIC Sustainability', '7860', 6),\n",
       " ('ARR-Austin Resource Recovery Cip', '4800', 7),\n",
       " ('ARRA - Tobacco Prevention', '6241', 8),\n",
       " ('ARRA Wastewater Improvements--Nva', '4600', 9),\n",
       " ('ATD Transportation CIP', '4720', 10)]"
      ]
     },
     "execution_count": 70,
     "metadata": {},
     "output_type": "execute_result"
    }
   ],
   "source": [
    "%%sql\n",
    "\n",
    "SELECT * \n",
    "FROM DIM_fund\n",
    "LIMIT 10;"
   ]
  },
  {
   "cell_type": "markdown",
   "metadata": {
    "slideshow": {
     "slide_type": "skip"
    }
   },
   "source": [
    "Then creat the vendor dimension table. \n",
    "\n",
    "First we did the same test to see wether the 'vendor_cust_cd' can be used as primary key in vendor dimention table."
   ]
  },
  {
   "cell_type": "code",
   "execution_count": 71,
   "metadata": {
    "collapsed": false,
    "slideshow": {
     "slide_type": "skip"
    }
   },
   "outputs": [
    {
     "name": "stdout",
     "output_type": "stream",
     "text": [
      "5 rows affected.\n"
     ]
    },
    {
     "data": {
      "text/html": [
       "<table>\n",
       "    <tr>\n",
       "        <th>vend_cust_cd</th>\n",
       "        <th>count</th>\n",
       "    </tr>\n",
       "    <tr>\n",
       "        <td>MIS0000024</td>\n",
       "        <td>5588</td>\n",
       "    </tr>\n",
       "    <tr>\n",
       "        <td>MIS0000222</td>\n",
       "        <td>2376</td>\n",
       "    </tr>\n",
       "    <tr>\n",
       "        <td>MIS0000004</td>\n",
       "        <td>2165</td>\n",
       "    </tr>\n",
       "    <tr>\n",
       "        <td>MIS0000025</td>\n",
       "        <td>699</td>\n",
       "    </tr>\n",
       "    <tr>\n",
       "        <td>MIS0000572</td>\n",
       "        <td>693</td>\n",
       "    </tr>\n",
       "</table>"
      ],
      "text/plain": [
       "[('MIS0000024', 5588),\n",
       " ('MIS0000222', 2376),\n",
       " ('MIS0000004', 2165),\n",
       " ('MIS0000025', 699),\n",
       " ('MIS0000572', 693)]"
      ]
     },
     "execution_count": 71,
     "metadata": {},
     "output_type": "execute_result"
    }
   ],
   "source": [
    "%%sql\n",
    "\n",
    "SELECT vend_cust_Cd, COUNT(DISTINCT lgl_nm) as Count\n",
    "FROM austin\n",
    "GROUP BY vend_cust_cd\n",
    "ORDER BY Count DESC\n",
    "LIMIT 5;"
   ]
  },
  {
   "cell_type": "markdown",
   "metadata": {
    "slideshow": {
     "slide_type": "skip"
    }
   },
   "source": [
    "Here we see that the vend_cust_cd is not unique for each of the Company/Individual names, hence when we are creating a dimension table for vendor we need to create a unique key identifier.\n"
   ]
  },
  {
   "cell_type": "code",
   "execution_count": 72,
   "metadata": {
    "collapsed": false,
    "slideshow": {
     "slide_type": "skip"
    }
   },
   "outputs": [
    {
     "name": "stdout",
     "output_type": "stream",
     "text": [
      "Done.\n",
      "18739 rows affected.\n"
     ]
    },
    {
     "data": {
      "text/plain": [
       "[]"
      ]
     },
     "execution_count": 72,
     "metadata": {},
     "output_type": "execute_result"
    }
   ],
   "source": [
    "%%sql\n",
    "\n",
    "DROP TABLE IF EXISTS DIM_Vendor;\n",
    "CREATE TABLE DIM_Vendor AS\n",
    "SELECT DISTINCT\n",
    "     vend_cust_cd \n",
    "    ,lgl_nm    \n",
    "FROM austin;"
   ]
  },
  {
   "cell_type": "code",
   "execution_count": 73,
   "metadata": {
    "collapsed": false,
    "slideshow": {
     "slide_type": "skip"
    }
   },
   "outputs": [
    {
     "name": "stdout",
     "output_type": "stream",
     "text": [
      "Done.\n"
     ]
    },
    {
     "data": {
      "text/plain": [
       "[]"
      ]
     },
     "execution_count": 73,
     "metadata": {},
     "output_type": "execute_result"
    }
   ],
   "source": [
    "%%sql \n",
    "\n",
    "ALTER TABLE DIM_VENDOR\n",
    "ADD COLUMN vendor_key SERIAL PRIMARY KEY;"
   ]
  },
  {
   "cell_type": "code",
   "execution_count": 74,
   "metadata": {
    "collapsed": false,
    "slideshow": {
     "slide_type": "skip"
    }
   },
   "outputs": [
    {
     "name": "stdout",
     "output_type": "stream",
     "text": [
      "10 rows affected.\n"
     ]
    },
    {
     "data": {
      "text/html": [
       "<table>\n",
       "    <tr>\n",
       "        <th>vend_cust_cd</th>\n",
       "        <th>lgl_nm</th>\n",
       "        <th>vendor_key</th>\n",
       "    </tr>\n",
       "    <tr>\n",
       "        <td>AAA0002500</td>\n",
       "        <td>AAA FIRE &amp; SAFETY EQUIPMENT CO INC</td>\n",
       "        <td>1</td>\n",
       "    </tr>\n",
       "    <tr>\n",
       "        <td>AAA7061200</td>\n",
       "        <td>AAA MILL INC</td>\n",
       "        <td>2</td>\n",
       "    </tr>\n",
       "    <tr>\n",
       "        <td>AAA7166780</td>\n",
       "        <td>AAA COOPER TRANSPORTATION</td>\n",
       "        <td>3</td>\n",
       "    </tr>\n",
       "    <tr>\n",
       "        <td>AAR0007200</td>\n",
       "        <td>AARON CONCRETE CONTRACTORS LP</td>\n",
       "        <td>4</td>\n",
       "    </tr>\n",
       "    <tr>\n",
       "        <td>AAR7005170</td>\n",
       "        <td>AAR INC</td>\n",
       "        <td>5</td>\n",
       "    </tr>\n",
       "    <tr>\n",
       "        <td>ABB0011500</td>\n",
       "        <td>JRE ENTERPRISES INC</td>\n",
       "        <td>6</td>\n",
       "    </tr>\n",
       "    <tr>\n",
       "        <td>ABB6010930</td>\n",
       "        <td>ABB INC</td>\n",
       "        <td>7</td>\n",
       "    </tr>\n",
       "    <tr>\n",
       "        <td>ABC0013000</td>\n",
       "        <td>DELTA QUEEN INC</td>\n",
       "        <td>8</td>\n",
       "    </tr>\n",
       "    <tr>\n",
       "        <td>ABC0014300</td>\n",
       "        <td>ABC HOTEL &amp; RESTAURANT SUPPLY INC</td>\n",
       "        <td>9</td>\n",
       "    </tr>\n",
       "    <tr>\n",
       "        <td>ABC0014750</td>\n",
       "        <td>ABC PEST CONTROL OF AUSTIN INC</td>\n",
       "        <td>10</td>\n",
       "    </tr>\n",
       "</table>"
      ],
      "text/plain": [
       "[('AAA0002500', 'AAA FIRE & SAFETY EQUIPMENT CO INC', 1),\n",
       " ('AAA7061200', 'AAA MILL INC', 2),\n",
       " ('AAA7166780', 'AAA COOPER TRANSPORTATION', 3),\n",
       " ('AAR0007200', 'AARON CONCRETE CONTRACTORS LP', 4),\n",
       " ('AAR7005170', 'AAR INC', 5),\n",
       " ('ABB0011500', 'JRE ENTERPRISES INC', 6),\n",
       " ('ABB6010930', 'ABB INC', 7),\n",
       " ('ABC0013000', 'DELTA QUEEN INC', 8),\n",
       " ('ABC0014300', 'ABC HOTEL & RESTAURANT SUPPLY INC', 9),\n",
       " ('ABC0014750', 'ABC PEST CONTROL OF AUSTIN INC', 10)]"
      ]
     },
     "execution_count": 74,
     "metadata": {},
     "output_type": "execute_result"
    }
   ],
   "source": [
    "%%sql\n",
    "\n",
    "SELECT * \n",
    "FROM dim_vendor\n",
    "LIMIT 10;"
   ]
  },
  {
   "cell_type": "markdown",
   "metadata": {
    "slideshow": {
     "slide_type": "skip"
    }
   },
   "source": [
    "Checking the Vendor dimention table. \n",
    "Next creating the organization dimention table to include the information about the different level organization that made the transaction."
   ]
  },
  {
   "cell_type": "code",
   "execution_count": 75,
   "metadata": {
    "collapsed": false,
    "slideshow": {
     "slide_type": "skip"
    }
   },
   "outputs": [
    {
     "name": "stdout",
     "output_type": "stream",
     "text": [
      "Done.\n",
      "2151 rows affected.\n"
     ]
    },
    {
     "data": {
      "text/plain": [
       "[]"
      ]
     },
     "execution_count": 75,
     "metadata": {},
     "output_type": "execute_result"
    }
   ],
   "source": [
    "%%sql\n",
    "\n",
    "DROP TABLE IF EXISTS dim_org;\n",
    "CREATE TABLE dim_org AS\n",
    "SELECT DISTINCT\n",
    "     dept_cd\n",
    "    ,dept_nm\n",
    "    ,div_cd\n",
    "    ,div_nm\n",
    "    ,gp_cd\n",
    "    ,gp_nm\n",
    "FROM austin;"
   ]
  },
  {
   "cell_type": "code",
   "execution_count": 76,
   "metadata": {
    "collapsed": false,
    "slideshow": {
     "slide_type": "skip"
    }
   },
   "outputs": [
    {
     "name": "stdout",
     "output_type": "stream",
     "text": [
      "Done.\n"
     ]
    },
    {
     "data": {
      "text/plain": [
       "[]"
      ]
     },
     "execution_count": 76,
     "metadata": {},
     "output_type": "execute_result"
    }
   ],
   "source": [
    "%%sql\n",
    "ALTER TABLE dim_org\n",
    "ADD COLUMN org_key SERIAL PRIMARY KEY;"
   ]
  },
  {
   "cell_type": "code",
   "execution_count": 78,
   "metadata": {
    "collapsed": false,
    "slideshow": {
     "slide_type": "skip"
    }
   },
   "outputs": [
    {
     "name": "stdout",
     "output_type": "stream",
     "text": [
      "10 rows affected.\n"
     ]
    },
    {
     "data": {
      "text/html": [
       "<table>\n",
       "    <tr>\n",
       "        <th>dept_cd</th>\n",
       "        <th>dept_nm</th>\n",
       "        <th>div_cd</th>\n",
       "        <th>div_nm</th>\n",
       "        <th>gp_cd</th>\n",
       "        <th>gp_nm</th>\n",
       "        <th>org_key</th>\n",
       "    </tr>\n",
       "    <tr>\n",
       "        <td>11</td>\n",
       "        <td>Austin Energy</td>\n",
       "        <td>0100</td>\n",
       "        <td>Chilled Water Parent Acct</td>\n",
       "        <td>NEPA      </td>\n",
       "        <td>Non Electric Plant Assets</td>\n",
       "        <td>1</td>\n",
       "    </tr>\n",
       "    <tr>\n",
       "        <td>11</td>\n",
       "        <td>Austin Energy</td>\n",
       "        <td>1171</td>\n",
       "        <td>Alternate Energy Projects</td>\n",
       "        <td>ALTP      </td>\n",
       "        <td>Alternate Energy Project</td>\n",
       "        <td>2</td>\n",
       "    </tr>\n",
       "    <tr>\n",
       "        <td>11</td>\n",
       "        <td>Austin Energy</td>\n",
       "        <td>1PSM</td>\n",
       "        <td>Power Supply &amp; Market Operations</td>\n",
       "        <td>1GEN      </td>\n",
       "        <td>Power Production</td>\n",
       "        <td>3</td>\n",
       "    </tr>\n",
       "    <tr>\n",
       "        <td>11</td>\n",
       "        <td>Austin Energy</td>\n",
       "        <td>2900</td>\n",
       "        <td>Fy2001 Transmission Parent</td>\n",
       "        <td>DSUB      </td>\n",
       "        <td>Distribution Substation</td>\n",
       "        <td>4</td>\n",
       "    </tr>\n",
       "    <tr>\n",
       "        <td>11</td>\n",
       "        <td>Austin Energy</td>\n",
       "        <td>2900</td>\n",
       "        <td>Fy2001 Transmission Parent</td>\n",
       "        <td>FPPP      </td>\n",
       "        <td>Fayette Capital Additions-</td>\n",
       "        <td>5</td>\n",
       "    </tr>\n",
       "    <tr>\n",
       "        <td>11</td>\n",
       "        <td>Austin Energy</td>\n",
       "        <td>2900</td>\n",
       "        <td>Fy2001 Transmission Parent</td>\n",
       "        <td>TRAN      </td>\n",
       "        <td>Transmission</td>\n",
       "        <td>6</td>\n",
       "    </tr>\n",
       "    <tr>\n",
       "        <td>11</td>\n",
       "        <td>Austin Energy</td>\n",
       "        <td>2900</td>\n",
       "        <td>Fy2001 Transmission Parent</td>\n",
       "        <td>TSUB      </td>\n",
       "        <td>Transmission Substation</td>\n",
       "        <td>7</td>\n",
       "    </tr>\n",
       "    <tr>\n",
       "        <td>11</td>\n",
       "        <td>Austin Energy</td>\n",
       "        <td>2ESD</td>\n",
       "        <td>Electric Service Delivery</td>\n",
       "        <td>2DST      </td>\n",
       "        <td>Distribution Services</td>\n",
       "        <td>8</td>\n",
       "    </tr>\n",
       "    <tr>\n",
       "        <td>11</td>\n",
       "        <td>Austin Energy</td>\n",
       "        <td>2ESD</td>\n",
       "        <td>Electric Service Delivery</td>\n",
       "        <td>2PDL      </td>\n",
       "        <td>Power Delivery Support</td>\n",
       "        <td>9</td>\n",
       "    </tr>\n",
       "    <tr>\n",
       "        <td>11</td>\n",
       "        <td>Austin Energy</td>\n",
       "        <td>2ESD</td>\n",
       "        <td>Electric Service Delivery</td>\n",
       "        <td>2TRN      </td>\n",
       "        <td>Transmission Services</td>\n",
       "        <td>10</td>\n",
       "    </tr>\n",
       "</table>"
      ],
      "text/plain": [
       "[(11, 'Austin Energy', '0100', 'Chilled Water Parent Acct', 'NEPA      ', 'Non Electric Plant Assets', 1),\n",
       " (11, 'Austin Energy', '1171', 'Alternate Energy Projects', 'ALTP      ', 'Alternate Energy Project', 2),\n",
       " (11, 'Austin Energy', '1PSM', 'Power Supply & Market Operations', '1GEN      ', 'Power Production', 3),\n",
       " (11, 'Austin Energy', '2900', 'Fy2001 Transmission Parent', 'DSUB      ', 'Distribution Substation', 4),\n",
       " (11, 'Austin Energy', '2900', 'Fy2001 Transmission Parent', 'FPPP      ', 'Fayette Capital Additions-', 5),\n",
       " (11, 'Austin Energy', '2900', 'Fy2001 Transmission Parent', 'TRAN      ', 'Transmission', 6),\n",
       " (11, 'Austin Energy', '2900', 'Fy2001 Transmission Parent', 'TSUB      ', 'Transmission Substation', 7),\n",
       " (11, 'Austin Energy', '2ESD', 'Electric Service Delivery', '2DST      ', 'Distribution Services', 8),\n",
       " (11, 'Austin Energy', '2ESD', 'Electric Service Delivery', '2PDL      ', 'Power Delivery Support', 9),\n",
       " (11, 'Austin Energy', '2ESD', 'Electric Service Delivery', '2TRN      ', 'Transmission Services', 10)]"
      ]
     },
     "execution_count": 78,
     "metadata": {},
     "output_type": "execute_result"
    }
   ],
   "source": [
    "%%sql\n",
    "\n",
    "SELECT * FROM dim_org LIMIT 10;"
   ]
  },
  {
   "cell_type": "markdown",
   "metadata": {
    "slideshow": {
     "slide_type": "skip"
    }
   },
   "source": [
    "Checking the organization dimention table. "
   ]
  },
  {
   "cell_type": "markdown",
   "metadata": {
    "slideshow": {
     "slide_type": "skip"
    }
   },
   "source": [
    "Now creating the Fact table. This table will involve 6 surrogate keys that refer to each dimension table, 2 degenerate dimensions of accounting line description and check_status that do not fit in to any neat dimension but store important information that are not numerical, and 1 numeric data, which is the payment amount. "
   ]
  },
  {
   "cell_type": "markdown",
   "metadata": {
    "slideshow": {
     "slide_type": "skip"
    }
   },
   "source": [
    "Now Inserting data into the fact table. This is the part we select information that matches between the original table –austin and the dimension tables by left joining the austin table to the dimension tables with proper foreign keys and put those matching records into the fact table."
   ]
  },
  {
   "cell_type": "code",
   "execution_count": 129,
   "metadata": {
    "collapsed": false,
    "slideshow": {
     "slide_type": "skip"
    }
   },
   "outputs": [
    {
     "name": "stdout",
     "output_type": "stream",
     "text": [
      "Done.\n",
      "Done.\n"
     ]
    },
    {
     "data": {
      "text/plain": [
       "[]"
      ]
     },
     "execution_count": 129,
     "metadata": {},
     "output_type": "execute_result"
    }
   ],
   "source": [
    "%%sql\n",
    "\n",
    "DROP TABLE IF EXISTS FACT_spending;\n",
    "CREATE TABLE FACT_spending(\n",
    "serial_id SERIAL PRIMARY KEY,\n",
    "fund_id INTEGER,\n",
    "org_id INTEGER,\n",
    "obj_id INTEGER,\n",
    "vendor_id INTEGER,\n",
    "date_id INTEGER,\n",
    "junk_id INTEGER,\n",
    "description VARCHAR(60),\n",
    "check_status VARCHAR(15),\n",
    "amount NUMERIC\n",
    ");"
   ]
  },
  {
   "cell_type": "code",
   "execution_count": 130,
   "metadata": {
    "collapsed": false,
    "slideshow": {
     "slide_type": "skip"
    }
   },
   "outputs": [
    {
     "name": "stdout",
     "output_type": "stream",
     "text": [
      "390287 rows affected.\n"
     ]
    },
    {
     "data": {
      "text/plain": [
       "[]"
      ]
     },
     "execution_count": 130,
     "metadata": {},
     "output_type": "execute_result"
    }
   ],
   "source": [
    "%%sql\n",
    "\n",
    "INSERT INTO FACT_spending (fund_id,org_id,obj_id,vendor_id,date_id,junk_id,description,check_status,amount)\n",
    "SELECT f.fund_key\n",
    "        ,o.org_key\n",
    "        ,b.obj_key\n",
    "        ,v.vendor_key\n",
    "        ,d.date_key\n",
    "        ,j.junk_key\n",
    "        ,a.actg_ln_dscr\n",
    "        ,a.cvl_chk_sta_dv\n",
    "        ,a.amount\n",
    "FROM austin a \n",
    "LEFT JOIN DIM_fund f ON a.fund_cd=f.fund_cd AND a.fund_nm=f.fund_nm\n",
    "LEFT JOIN DIM_org o ON a.dept_cd=o.dept_cd AND a.dept_nm=o.dept_nm AND a.div_cd=o.div_cd\n",
    "        AND a.div_nm=o.div_nm AND a.gp_cd=o.gp_cd AND a.gp_nm=o.gp_nm\n",
    "LEFT JOIN DIM_obj b ON a.obj_nm=b.obj_nm\n",
    "LEFT JOIN DIM_vendor v ON a.lgl_nm=v.lgl_nm AND a.vend_cust_cd=v.vend_cust_cd\n",
    "LEFT JOIN DIM_date d ON a.check_date=d.check_date\n",
    "LEFT JOIN DIM_junkdata j ON a.rfed_doc_cd=j.rfed_doc_cd AND a.rfed_doc_dept_cd=j.rfed_doc_dept_cd AND a.rfed_doc_id=j.rfed_doc_id \n",
    "        AND a.rfed_vend_ln_no=j.rfed_vend_ln_no AND a.rfed_comm_ln_no=j.rfed_comm_ln_no AND a.rfed_actg_ln_no=j.rfed_actg_ln_no\n",
    "        AND a.rf_doc_cd=j.rf_doc_cd AND a.rf_doc_dept_cd=j.rf_doc_dept_cd AND a.rf_doc_id=j.rf_doc_id;"
   ]
  },
  {
   "cell_type": "code",
   "execution_count": 131,
   "metadata": {
    "collapsed": false,
    "slideshow": {
     "slide_type": "slide"
    }
   },
   "outputs": [
    {
     "name": "stdout",
     "output_type": "stream",
     "text": [
      "10 rows affected.\n"
     ]
    },
    {
     "data": {
      "text/html": [
       "<table>\n",
       "    <tr>\n",
       "        <th>serial_id</th>\n",
       "        <th>fund_id</th>\n",
       "        <th>org_id</th>\n",
       "        <th>obj_id</th>\n",
       "        <th>vendor_id</th>\n",
       "        <th>date_id</th>\n",
       "        <th>junk_id</th>\n",
       "        <th>description</th>\n",
       "        <th>check_status</th>\n",
       "        <th>amount</th>\n",
       "    </tr>\n",
       "    <tr>\n",
       "        <td>1</td>\n",
       "        <td>19</td>\n",
       "        <td>17</td>\n",
       "        <td>178</td>\n",
       "        <td>12908</td>\n",
       "        <td>432</td>\n",
       "        <td>110511</td>\n",
       "        <td>Grants to others/subrecipients</td>\n",
       "        <td>Paid</td>\n",
       "        <td>1421.54</td>\n",
       "    </tr>\n",
       "    <tr>\n",
       "        <td>2</td>\n",
       "        <td>19</td>\n",
       "        <td>17</td>\n",
       "        <td>178</td>\n",
       "        <td>12837</td>\n",
       "        <td>433</td>\n",
       "        <td>257256</td>\n",
       "        <td>Grants to others/subrecipients</td>\n",
       "        <td>Paid</td>\n",
       "        <td>1200.53</td>\n",
       "    </tr>\n",
       "    <tr>\n",
       "        <td>3</td>\n",
       "        <td>177</td>\n",
       "        <td>34</td>\n",
       "        <td>246</td>\n",
       "        <td>257</td>\n",
       "        <td>677</td>\n",
       "        <td>313930</td>\n",
       "        <td>Educational/promotional</td>\n",
       "        <td>Paid</td>\n",
       "        <td>1000.00</td>\n",
       "    </tr>\n",
       "    <tr>\n",
       "        <td>4</td>\n",
       "        <td>19</td>\n",
       "        <td>31</td>\n",
       "        <td>161</td>\n",
       "        <td>927</td>\n",
       "        <td>131</td>\n",
       "        <td>155804</td>\n",
       "        <td>Memberships</td>\n",
       "        <td>Paid</td>\n",
       "        <td>2000.00</td>\n",
       "    </tr>\n",
       "    <tr>\n",
       "        <td>5</td>\n",
       "        <td>19</td>\n",
       "        <td>18</td>\n",
       "        <td>178</td>\n",
       "        <td>13001</td>\n",
       "        <td>85</td>\n",
       "        <td>255446</td>\n",
       "        <td>Grants to others/subrecipients</td>\n",
       "        <td>Paid</td>\n",
       "        <td>590.00</td>\n",
       "    </tr>\n",
       "    <tr>\n",
       "        <td>6</td>\n",
       "        <td>19</td>\n",
       "        <td>19</td>\n",
       "        <td>145</td>\n",
       "        <td>339</td>\n",
       "        <td>4</td>\n",
       "        <td>69406</td>\n",
       "        <td>Advertising/publication</td>\n",
       "        <td>Paid</td>\n",
       "        <td>2645.40</td>\n",
       "    </tr>\n",
       "    <tr>\n",
       "        <td>7</td>\n",
       "        <td>19</td>\n",
       "        <td>9</td>\n",
       "        <td>151</td>\n",
       "        <td>7476</td>\n",
       "        <td>1</td>\n",
       "        <td>67904</td>\n",
       "        <td>Employee recruiting</td>\n",
       "        <td>Paid</td>\n",
       "        <td>4368.81</td>\n",
       "    </tr>\n",
       "    <tr>\n",
       "        <td>8</td>\n",
       "        <td>19</td>\n",
       "        <td>19</td>\n",
       "        <td>145</td>\n",
       "        <td>14975</td>\n",
       "        <td>1</td>\n",
       "        <td>128089</td>\n",
       "        <td>Advertising/publication</td>\n",
       "        <td>Outstanding</td>\n",
       "        <td>1850.00</td>\n",
       "    </tr>\n",
       "    <tr>\n",
       "        <td>9</td>\n",
       "        <td>19</td>\n",
       "        <td>19</td>\n",
       "        <td>178</td>\n",
       "        <td>12792</td>\n",
       "        <td>1</td>\n",
       "        <td>165712</td>\n",
       "        <td>Grants to others/subrecipients</td>\n",
       "        <td>Paid</td>\n",
       "        <td>904.00</td>\n",
       "    </tr>\n",
       "    <tr>\n",
       "        <td>10</td>\n",
       "        <td>19</td>\n",
       "        <td>19</td>\n",
       "        <td>145</td>\n",
       "        <td>246</td>\n",
       "        <td>4</td>\n",
       "        <td>242226</td>\n",
       "        <td>Advertising/publication</td>\n",
       "        <td>Paid</td>\n",
       "        <td>825.00</td>\n",
       "    </tr>\n",
       "</table>"
      ],
      "text/plain": [
       "[(1, 19, 17, 178, 12908, 432, 110511, 'Grants to others/subrecipients', 'Paid', Decimal('1421.54')),\n",
       " (2, 19, 17, 178, 12837, 433, 257256, 'Grants to others/subrecipients', 'Paid', Decimal('1200.53')),\n",
       " (3, 177, 34, 246, 257, 677, 313930, 'Educational/promotional', 'Paid', Decimal('1000.00')),\n",
       " (4, 19, 31, 161, 927, 131, 155804, 'Memberships', 'Paid', Decimal('2000.00')),\n",
       " (5, 19, 18, 178, 13001, 85, 255446, 'Grants to others/subrecipients', 'Paid', Decimal('590.00')),\n",
       " (6, 19, 19, 145, 339, 4, 69406, 'Advertising/publication', 'Paid', Decimal('2645.40')),\n",
       " (7, 19, 9, 151, 7476, 1, 67904, 'Employee recruiting', 'Paid', Decimal('4368.81')),\n",
       " (8, 19, 19, 145, 14975, 1, 128089, 'Advertising/publication', 'Outstanding', Decimal('1850.00')),\n",
       " (9, 19, 19, 178, 12792, 1, 165712, 'Grants to others/subrecipients', 'Paid', Decimal('904.00')),\n",
       " (10, 19, 19, 145, 246, 4, 242226, 'Advertising/publication', 'Paid', Decimal('825.00'))]"
      ]
     },
     "execution_count": 131,
     "metadata": {},
     "output_type": "execute_result"
    }
   ],
   "source": [
    "%%sql\n",
    "\n",
    "SELECT * FROM FACT_SPENDING\n",
    "LIMIT 10;"
   ]
  },
  {
   "cell_type": "markdown",
   "metadata": {},
   "source": [
    "Now we need to verify whether the FACT_spending tables contains the same number of records as the original data table"
   ]
  },
  {
   "cell_type": "code",
   "execution_count": 132,
   "metadata": {
    "collapsed": false
   },
   "outputs": [
    {
     "name": "stdout",
     "output_type": "stream",
     "text": [
      "1 rows affected.\n"
     ]
    },
    {
     "data": {
      "text/html": [
       "<table>\n",
       "    <tr>\n",
       "        <th>count</th>\n",
       "    </tr>\n",
       "    <tr>\n",
       "        <td>390287</td>\n",
       "    </tr>\n",
       "</table>"
      ],
      "text/plain": [
       "[(390287,)]"
      ]
     },
     "execution_count": 132,
     "metadata": {},
     "output_type": "execute_result"
    }
   ],
   "source": [
    "%%sql\n",
    "\n",
    "SELECT COUNT(*) FROM austin;"
   ]
  },
  {
   "cell_type": "markdown",
   "metadata": {},
   "source": [
    "Hence we verify that our fact table contains the same number of rows as our original data."
   ]
  },
  {
   "cell_type": "markdown",
   "metadata": {},
   "source": [
    "Now adding the Foreign Key references to the dimension table keys (Surrogate Keys) which are being referenced in the FACT_spending table."
   ]
  },
  {
   "cell_type": "code",
   "execution_count": 133,
   "metadata": {
    "collapsed": false
   },
   "outputs": [
    {
     "name": "stdout",
     "output_type": "stream",
     "text": [
      "Done.\n"
     ]
    },
    {
     "data": {
      "text/plain": [
       "[]"
      ]
     },
     "execution_count": 133,
     "metadata": {},
     "output_type": "execute_result"
    }
   ],
   "source": [
    "%%sql\n",
    "\n",
    "ALTER TABLE FACT_spending\n",
    "ADD CONSTRAINT fund_fk\n",
    "FOREIGN KEY (fund_id) REFERENCES DIM_fund\n",
    "ON DELETE CASCADE;"
   ]
  },
  {
   "cell_type": "code",
   "execution_count": 134,
   "metadata": {
    "collapsed": false
   },
   "outputs": [
    {
     "name": "stdout",
     "output_type": "stream",
     "text": [
      "Done.\n"
     ]
    },
    {
     "data": {
      "text/plain": [
       "[]"
      ]
     },
     "execution_count": 134,
     "metadata": {},
     "output_type": "execute_result"
    }
   ],
   "source": [
    "%%sql\n",
    "\n",
    "ALTER TABLE FACT_spending\n",
    "ADD CONSTRAINT org_fk\n",
    "FOREIGN KEY (org_id) REFERENCES DIM_org\n",
    "ON DELETE CASCADE;"
   ]
  },
  {
   "cell_type": "code",
   "execution_count": 135,
   "metadata": {
    "collapsed": false
   },
   "outputs": [
    {
     "name": "stdout",
     "output_type": "stream",
     "text": [
      "Done.\n"
     ]
    },
    {
     "data": {
      "text/plain": [
       "[]"
      ]
     },
     "execution_count": 135,
     "metadata": {},
     "output_type": "execute_result"
    }
   ],
   "source": [
    "%%sql\n",
    "\n",
    "ALTER TABLE FACT_spending\n",
    "ADD CONSTRAINT obj_fk\n",
    "FOREIGN KEY (obj_id) REFERENCES DIM_obj\n",
    "ON DELETE CASCADE;"
   ]
  },
  {
   "cell_type": "code",
   "execution_count": 136,
   "metadata": {
    "collapsed": false
   },
   "outputs": [
    {
     "name": "stdout",
     "output_type": "stream",
     "text": [
      "Done.\n"
     ]
    },
    {
     "data": {
      "text/plain": [
       "[]"
      ]
     },
     "execution_count": 136,
     "metadata": {},
     "output_type": "execute_result"
    }
   ],
   "source": [
    "%%sql\n",
    "\n",
    "ALTER TABLE FACT_spending\n",
    "ADD CONSTRAINT date_fk\n",
    "FOREIGN KEY (date_id) REFERENCES DIM_date\n",
    "ON DELETE CASCADE;"
   ]
  },
  {
   "cell_type": "code",
   "execution_count": 137,
   "metadata": {
    "collapsed": false
   },
   "outputs": [
    {
     "name": "stdout",
     "output_type": "stream",
     "text": [
      "Done.\n"
     ]
    },
    {
     "data": {
      "text/plain": [
       "[]"
      ]
     },
     "execution_count": 137,
     "metadata": {},
     "output_type": "execute_result"
    }
   ],
   "source": [
    "%%sql\n",
    "\n",
    "ALTER TABLE FACT_spending\n",
    "ADD CONSTRAINT vendor_fk\n",
    "FOREIGN KEY (vendor_id) REFERENCES DIM_vendor\n",
    "ON DELETE CASCADE;"
   ]
  },
  {
   "cell_type": "code",
   "execution_count": 138,
   "metadata": {
    "collapsed": false
   },
   "outputs": [
    {
     "name": "stdout",
     "output_type": "stream",
     "text": [
      "Done.\n"
     ]
    },
    {
     "data": {
      "text/plain": [
       "[]"
      ]
     },
     "execution_count": 138,
     "metadata": {},
     "output_type": "execute_result"
    }
   ],
   "source": [
    "%%sql\n",
    "\n",
    "ALTER TABLE FACT_spending\n",
    "ADD CONSTRAINT junk_fk\n",
    "FOREIGN KEY (junk_id) REFERENCES DIM_junkdata\n",
    "ON DELETE CASCADE;"
   ]
  },
  {
   "cell_type": "markdown",
   "metadata": {
    "slideshow": {
     "slide_type": "slide"
    }
   },
   "source": [
    "# PART 3 - ANALYSIS\n"
   ]
  },
  {
   "cell_type": "code",
   "execution_count": 53,
   "metadata": {
    "collapsed": false,
    "slideshow": {
     "slide_type": "skip"
    }
   },
   "outputs": [
    {
     "name": "stdout",
     "output_type": "stream",
     "text": [
      "46 rows affected.\n"
     ]
    },
    {
     "data": {
      "text/html": [
       "<table>\n",
       "    <tr>\n",
       "        <th>dept_nm</th>\n",
       "        <th>sum_2014</th>\n",
       "        <th>sum_2015</th>\n",
       "        <th>sum_2016</th>\n",
       "    </tr>\n",
       "    <tr>\n",
       "        <td>Enterprise Debt Service</td>\n",
       "        <td>396986784.29</td>\n",
       "        <td>378731720.96</td>\n",
       "        <td>389685656.40</td>\n",
       "    </tr>\n",
       "    <tr>\n",
       "        <td>Austin Energy</td>\n",
       "        <td>187801805.69</td>\n",
       "        <td>204958031.27</td>\n",
       "        <td>189611570.42</td>\n",
       "    </tr>\n",
       "    <tr>\n",
       "        <td>Austin Water Utility</td>\n",
       "        <td>233396631.51</td>\n",
       "        <td>143013038.71</td>\n",
       "        <td>128804161.59</td>\n",
       "    </tr>\n",
       "    <tr>\n",
       "        <td>General Obligation Debt Service</td>\n",
       "        <td>141624150.31</td>\n",
       "        <td>147350005.19</td>\n",
       "        <td>126723709.38</td>\n",
       "    </tr>\n",
       "    <tr>\n",
       "        <td>Watershed</td>\n",
       "        <td>89332410.93</td>\n",
       "        <td>69959938.54</td>\n",
       "        <td>80861203.03</td>\n",
       "    </tr>\n",
       "    <tr>\n",
       "        <td>Aviation</td>\n",
       "        <td>63209915.39</td>\n",
       "        <td>71439828.92</td>\n",
       "        <td>73974291.80</td>\n",
       "    </tr>\n",
       "    <tr>\n",
       "        <td>Public Works - Transportation</td>\n",
       "        <td>92702907.37</td>\n",
       "        <td>59709392.87</td>\n",
       "        <td>52415779.76</td>\n",
       "    </tr>\n",
       "    <tr>\n",
       "        <td>Library</td>\n",
       "        <td>25643158.72</td>\n",
       "        <td>42455081.89</td>\n",
       "        <td>43741166.93</td>\n",
       "    </tr>\n",
       "    <tr>\n",
       "        <td>Communications &amp; Technology Management</td>\n",
       "        <td>44638562.88</td>\n",
       "        <td>44424583.28</td>\n",
       "        <td>43601529.84</td>\n",
       "    </tr>\n",
       "    <tr>\n",
       "        <td>Financial Services</td>\n",
       "        <td>38888185.19</td>\n",
       "        <td>44709562.41</td>\n",
       "        <td>43502497.07</td>\n",
       "    </tr>\n",
       "    <tr>\n",
       "        <td>Economic Growth &amp; Redevelopment Services</td>\n",
       "        <td>58544443.96</td>\n",
       "        <td>48081773.16</td>\n",
       "        <td>43026937.27</td>\n",
       "    </tr>\n",
       "    <tr>\n",
       "        <td>Fleet Services</td>\n",
       "        <td>40626208.95</td>\n",
       "        <td>38068937.92</td>\n",
       "        <td>35397586.74</td>\n",
       "    </tr>\n",
       "    <tr>\n",
       "        <td>Neighborhood Housing</td>\n",
       "        <td>27023029.75</td>\n",
       "        <td>18919747.81</td>\n",
       "        <td>28985200.36</td>\n",
       "    </tr>\n",
       "    <tr>\n",
       "        <td>Human Resources</td>\n",
       "        <td>24411670.09</td>\n",
       "        <td>27340595.96</td>\n",
       "        <td>28127696.27</td>\n",
       "    </tr>\n",
       "    <tr>\n",
       "        <td>Social Services</td>\n",
       "        <td>20649892.81</td>\n",
       "        <td>22592404.56</td>\n",
       "        <td>23509328.89</td>\n",
       "    </tr>\n",
       "    <tr>\n",
       "        <td>Health &amp; Human Services</td>\n",
       "        <td>13129256.27</td>\n",
       "        <td>16120320.40</td>\n",
       "        <td>18784892.01</td>\n",
       "    </tr>\n",
       "    <tr>\n",
       "        <td>Parks &amp; Recreation</td>\n",
       "        <td>43873811.49</td>\n",
       "        <td>24670826.98</td>\n",
       "        <td>18113734.30</td>\n",
       "    </tr>\n",
       "    <tr>\n",
       "        <td>Solid Waste Services</td>\n",
       "        <td>24242559.39</td>\n",
       "        <td>24834631.39</td>\n",
       "        <td>15986445.11</td>\n",
       "    </tr>\n",
       "    <tr>\n",
       "        <td>Police</td>\n",
       "        <td>16574669.33</td>\n",
       "        <td>19281751.25</td>\n",
       "        <td>14766775.07</td>\n",
       "    </tr>\n",
       "    <tr>\n",
       "        <td>Austin Conv &amp; Visitors Bureau</td>\n",
       "        <td>11176560.00</td>\n",
       "        <td>12112125.00</td>\n",
       "        <td>13930047.00</td>\n",
       "    </tr>\n",
       "    <tr>\n",
       "        <td>Convention Center</td>\n",
       "        <td>8828751.62</td>\n",
       "        <td>16229787.12</td>\n",
       "        <td>10948828.22</td>\n",
       "    </tr>\n",
       "    <tr>\n",
       "        <td>Transportation</td>\n",
       "        <td>4966749.87</td>\n",
       "        <td>5680870.78</td>\n",
       "        <td>7179501.79</td>\n",
       "    </tr>\n",
       "    <tr>\n",
       "        <td>Building Services</td>\n",
       "        <td>5429884.34</td>\n",
       "        <td>7483534.91</td>\n",
       "        <td>6638098.28</td>\n",
       "    </tr>\n",
       "    <tr>\n",
       "        <td>Emergency Medical Services</td>\n",
       "        <td>6434631.84</td>\n",
       "        <td>6156283.14</td>\n",
       "        <td>5376828.59</td>\n",
       "    </tr>\n",
       "    <tr>\n",
       "        <td>Fire</td>\n",
       "        <td>6527391.88</td>\n",
       "        <td>4633118.92</td>\n",
       "        <td>4713851.31</td>\n",
       "    </tr>\n",
       "    <tr>\n",
       "        <td>Law</td>\n",
       "        <td>4253812.66</td>\n",
       "        <td>7774276.56</td>\n",
       "        <td>4499196.87</td>\n",
       "    </tr>\n",
       "    <tr>\n",
       "        <td>Planning &amp; Zoning</td>\n",
       "        <td>6246803.78</td>\n",
       "        <td>6029527.11</td>\n",
       "        <td>4456414.82</td>\n",
       "    </tr>\n",
       "    <tr>\n",
       "        <td>Wireless</td>\n",
       "        <td>5025915.07</td>\n",
       "        <td>5144604.47</td>\n",
       "        <td>4288310.92</td>\n",
       "    </tr>\n",
       "    <tr>\n",
       "        <td>Municipal Court</td>\n",
       "        <td>4755273.82</td>\n",
       "        <td>3907434.54</td>\n",
       "        <td>4072022.93</td>\n",
       "    </tr>\n",
       "    <tr>\n",
       "        <td>Management Services</td>\n",
       "        <td>2854796.12</td>\n",
       "        <td>3238126.56</td>\n",
       "        <td>2714906.38</td>\n",
       "    </tr>\n",
       "    <tr>\n",
       "        <td>Development Services</td>\n",
       "        <td>0</td>\n",
       "        <td>0</td>\n",
       "        <td>2263140.60</td>\n",
       "    </tr>\n",
       "    <tr>\n",
       "        <td>Animal Services</td>\n",
       "        <td>1495746.02</td>\n",
       "        <td>1661052.15</td>\n",
       "        <td>1778959.96</td>\n",
       "    </tr>\n",
       "    <tr>\n",
       "        <td>Code Compliance</td>\n",
       "        <td>1691688.23</td>\n",
       "        <td>2454433.70</td>\n",
       "        <td>1641918.49</td>\n",
       "    </tr>\n",
       "    <tr>\n",
       "        <td>Public Works</td>\n",
       "        <td>1196946.07</td>\n",
       "        <td>1518466.97</td>\n",
       "        <td>1387425.83</td>\n",
       "    </tr>\n",
       "    <tr>\n",
       "        <td>Telecommunications &amp; Regulatory Affairs</td>\n",
       "        <td>0</td>\n",
       "        <td>0</td>\n",
       "        <td>1147863.61</td>\n",
       "    </tr>\n",
       "    <tr>\n",
       "        <td>Office of the City Clerk</td>\n",
       "        <td>1033441.02</td>\n",
       "        <td>1201144.97</td>\n",
       "        <td>1058292.70</td>\n",
       "    </tr>\n",
       "    <tr>\n",
       "        <td>Government Relations</td>\n",
       "        <td>749190.71</td>\n",
       "        <td>884637.75</td>\n",
       "        <td>728333.87</td>\n",
       "    </tr>\n",
       "    <tr>\n",
       "        <td>Office of Real Estate Services</td>\n",
       "        <td>454070.45</td>\n",
       "        <td>544218.57</td>\n",
       "        <td>678635.69</td>\n",
       "    </tr>\n",
       "    <tr>\n",
       "        <td>Small Minority Business Resources</td>\n",
       "        <td>718076.45</td>\n",
       "        <td>951777.56</td>\n",
       "        <td>440645.24</td>\n",
       "    </tr>\n",
       "    <tr>\n",
       "        <td>Communications &amp; Public Information</td>\n",
       "        <td>251347.83</td>\n",
       "        <td>318558.60</td>\n",
       "        <td>336370.63</td>\n",
       "    </tr>\n",
       "    <tr>\n",
       "        <td>Mayor &amp; Council</td>\n",
       "        <td>151912.64</td>\n",
       "        <td>130965.41</td>\n",
       "        <td>123399.81</td>\n",
       "    </tr>\n",
       "    <tr>\n",
       "        <td>Office of the City Auditor</td>\n",
       "        <td>52599.41</td>\n",
       "        <td>61312.47</td>\n",
       "        <td>53948.84</td>\n",
       "    </tr>\n",
       "    <tr>\n",
       "        <td>Medical Director</td>\n",
       "        <td>0</td>\n",
       "        <td>0</td>\n",
       "        <td>40690.39</td>\n",
       "    </tr>\n",
       "    <tr>\n",
       "        <td>Office of Contract and Land Management</td>\n",
       "        <td>283944.21</td>\n",
       "        <td>301844.66</td>\n",
       "        <td>10965.47</td>\n",
       "    </tr>\n",
       "    <tr>\n",
       "        <td>Labor Relations</td>\n",
       "        <td>0</td>\n",
       "        <td>0</td>\n",
       "        <td>8651.04</td>\n",
       "    </tr>\n",
       "    <tr>\n",
       "        <td>Nondepartmental</td>\n",
       "        <td>6520.00</td>\n",
       "        <td>336.50</td>\n",
       "        <td>0</td>\n",
       "    </tr>\n",
       "</table>"
      ],
      "text/plain": [
       "[('Enterprise Debt Service', Decimal('396986784.29'), Decimal('378731720.96'), Decimal('389685656.40')),\n",
       " ('Austin Energy', Decimal('187801805.69'), Decimal('204958031.27'), Decimal('189611570.42')),\n",
       " ('Austin Water Utility', Decimal('233396631.51'), Decimal('143013038.71'), Decimal('128804161.59')),\n",
       " ('General Obligation Debt Service', Decimal('141624150.31'), Decimal('147350005.19'), Decimal('126723709.38')),\n",
       " ('Watershed', Decimal('89332410.93'), Decimal('69959938.54'), Decimal('80861203.03')),\n",
       " ('Aviation', Decimal('63209915.39'), Decimal('71439828.92'), Decimal('73974291.80')),\n",
       " ('Public Works - Transportation', Decimal('92702907.37'), Decimal('59709392.87'), Decimal('52415779.76')),\n",
       " ('Library', Decimal('25643158.72'), Decimal('42455081.89'), Decimal('43741166.93')),\n",
       " ('Communications & Technology Management', Decimal('44638562.88'), Decimal('44424583.28'), Decimal('43601529.84')),\n",
       " ('Financial Services', Decimal('38888185.19'), Decimal('44709562.41'), Decimal('43502497.07')),\n",
       " ('Economic Growth & Redevelopment Services', Decimal('58544443.96'), Decimal('48081773.16'), Decimal('43026937.27')),\n",
       " ('Fleet Services', Decimal('40626208.95'), Decimal('38068937.92'), Decimal('35397586.74')),\n",
       " ('Neighborhood Housing', Decimal('27023029.75'), Decimal('18919747.81'), Decimal('28985200.36')),\n",
       " ('Human Resources', Decimal('24411670.09'), Decimal('27340595.96'), Decimal('28127696.27')),\n",
       " ('Social Services', Decimal('20649892.81'), Decimal('22592404.56'), Decimal('23509328.89')),\n",
       " ('Health & Human Services', Decimal('13129256.27'), Decimal('16120320.40'), Decimal('18784892.01')),\n",
       " ('Parks & Recreation', Decimal('43873811.49'), Decimal('24670826.98'), Decimal('18113734.30')),\n",
       " ('Solid Waste Services', Decimal('24242559.39'), Decimal('24834631.39'), Decimal('15986445.11')),\n",
       " ('Police', Decimal('16574669.33'), Decimal('19281751.25'), Decimal('14766775.07')),\n",
       " ('Austin Conv & Visitors Bureau', Decimal('11176560.00'), Decimal('12112125.00'), Decimal('13930047.00')),\n",
       " ('Convention Center', Decimal('8828751.62'), Decimal('16229787.12'), Decimal('10948828.22')),\n",
       " ('Transportation', Decimal('4966749.87'), Decimal('5680870.78'), Decimal('7179501.79')),\n",
       " ('Building Services', Decimal('5429884.34'), Decimal('7483534.91'), Decimal('6638098.28')),\n",
       " ('Emergency Medical Services', Decimal('6434631.84'), Decimal('6156283.14'), Decimal('5376828.59')),\n",
       " ('Fire', Decimal('6527391.88'), Decimal('4633118.92'), Decimal('4713851.31')),\n",
       " ('Law', Decimal('4253812.66'), Decimal('7774276.56'), Decimal('4499196.87')),\n",
       " ('Planning & Zoning', Decimal('6246803.78'), Decimal('6029527.11'), Decimal('4456414.82')),\n",
       " ('Wireless', Decimal('5025915.07'), Decimal('5144604.47'), Decimal('4288310.92')),\n",
       " ('Municipal Court', Decimal('4755273.82'), Decimal('3907434.54'), Decimal('4072022.93')),\n",
       " ('Management Services', Decimal('2854796.12'), Decimal('3238126.56'), Decimal('2714906.38')),\n",
       " ('Development Services', Decimal('0'), Decimal('0'), Decimal('2263140.60')),\n",
       " ('Animal Services', Decimal('1495746.02'), Decimal('1661052.15'), Decimal('1778959.96')),\n",
       " ('Code Compliance', Decimal('1691688.23'), Decimal('2454433.70'), Decimal('1641918.49')),\n",
       " ('Public Works', Decimal('1196946.07'), Decimal('1518466.97'), Decimal('1387425.83')),\n",
       " ('Telecommunications & Regulatory Affairs', Decimal('0'), Decimal('0'), Decimal('1147863.61')),\n",
       " ('Office of the City Clerk', Decimal('1033441.02'), Decimal('1201144.97'), Decimal('1058292.70')),\n",
       " ('Government Relations', Decimal('749190.71'), Decimal('884637.75'), Decimal('728333.87')),\n",
       " ('Office of Real Estate Services', Decimal('454070.45'), Decimal('544218.57'), Decimal('678635.69')),\n",
       " ('Small Minority Business Resources', Decimal('718076.45'), Decimal('951777.56'), Decimal('440645.24')),\n",
       " ('Communications & Public Information', Decimal('251347.83'), Decimal('318558.60'), Decimal('336370.63')),\n",
       " ('Mayor & Council', Decimal('151912.64'), Decimal('130965.41'), Decimal('123399.81')),\n",
       " ('Office of the City Auditor', Decimal('52599.41'), Decimal('61312.47'), Decimal('53948.84')),\n",
       " ('Medical Director', Decimal('0'), Decimal('0'), Decimal('40690.39')),\n",
       " ('Office of Contract and Land Management', Decimal('283944.21'), Decimal('301844.66'), Decimal('10965.47')),\n",
       " ('Labor Relations', Decimal('0'), Decimal('0'), Decimal('8651.04')),\n",
       " ('Nondepartmental', Decimal('6520.00'), Decimal('336.50'), Decimal('0'))]"
      ]
     },
     "execution_count": 53,
     "metadata": {},
     "output_type": "execute_result"
    }
   ],
   "source": [
    "%%sql\n",
    "select distinct o.dept_nm, coalesce(a.sum_amount,0) as sum_2014, coalesce(b.sum_amount,0) as sum_2015, coalesce(c.sum_amount,0)  as sum_2016 \n",
    "From dim_org o\n",
    "    LEFT JOIN (select o.dept_cd, sum(f.amount) as sum_amount\n",
    "    From fact_spending f, dim_org o, dim_date d\n",
    "    where f.org_id=o.org_key and f.date_id=d.date_key and d.fy_dc = '2014'\n",
    "    group by d.fy_dc, o.dept_cd, o.dept_nm) a ON a.dept_cd=o.dept_cd\n",
    "    \n",
    "    LEFT JOIN (select o.dept_cd, sum(f.amount) as sum_amount\n",
    "    From fact_spending f, dim_org o, dim_date d\n",
    "    where f.org_id=o.org_key and f.date_id=d.date_key and d.fy_dc = '2015'\n",
    "    group by d.fy_dc, o.dept_cd, o.dept_nm) b ON b.dept_cd=o.dept_cd\n",
    "    \n",
    "    LEFT JOIN (select o.dept_cd, sum(f.amount) as sum_amount\n",
    "    From fact_spending f, dim_org o, dim_date d\n",
    "    where f.org_id=o.org_key and f.date_id=d.date_key and d.fy_dc = '2016'\n",
    "    group by d.fy_dc, o.dept_cd, o.dept_nm) c ON c.dept_cd=o.dept_cd\n",
    "    \n",
    "order by sum_2016 desc\n",
    ";"
   ]
  },
  {
   "cell_type": "code",
   "execution_count": 54,
   "metadata": {
    "collapsed": true,
    "slideshow": {
     "slide_type": "skip"
    }
   },
   "outputs": [],
   "source": [
    "result = _\n",
    "df = result.DataFrame()\n",
    "df.sum_2014 = df.sum_2014.astype(float)\n",
    "df.sum_2015 = df.sum_2015.astype(float)\n",
    "df.sum_2016 = df.sum_2016.astype(float)"
   ]
  },
  {
   "cell_type": "code",
   "execution_count": 55,
   "metadata": {
    "collapsed": false,
    "slideshow": {
     "slide_type": "skip"
    }
   },
   "outputs": [
    {
     "name": "stderr",
     "output_type": "stream",
     "text": [
      "//anaconda/lib/python3.5/site-packages/pandas/core/indexing.py:465: SettingWithCopyWarning:\n",
      "\n",
      "\n",
      "A value is trying to be set on a copy of a slice from a DataFrame.\n",
      "Try using .loc[row_indexer,col_indexer] = value instead\n",
      "\n",
      "See the caveats in the documentation: http://pandas.pydata.org/pandas-docs/stable/indexing.html#indexing-view-versus-copy\n",
      "\n"
     ]
    }
   ],
   "source": [
    "df2 = df[:11]\n",
    "df2.iloc[10, 0]='etc.'\n",
    "df2.iloc[10, 1]= df[10:]['sum_2014'].sum()\n",
    "df2.iloc[10, 2]= df[10:]['sum_2015'].sum()\n",
    "df2.iloc[10, 3]= df[10:]['sum_2016'].sum()"
   ]
  },
  {
   "cell_type": "code",
   "execution_count": 56,
   "metadata": {
    "collapsed": true,
    "slideshow": {
     "slide_type": "skip"
    }
   },
   "outputs": [],
   "source": [
    "fig = {\n",
    "    'data': [\n",
    "        {'labels': list(df2['dept_nm']),\n",
    "        'values': list(df2['sum_2014']),\n",
    "        'type': 'pie',\n",
    "        'name': '2014',\n",
    "        'domain': {'x': [0,.3]\n",
    "                   #,'y': [0, 5]\n",
    "                  }\n",
    "        }, \n",
    "        {'labels': list(df2['dept_nm']),\n",
    "        'values': list(df2['sum_2015']),\n",
    "        'type': 'pie',\n",
    "        'name': '2015',\n",
    "        'domain': {'x': [.35,.65]\n",
    "                   #,'y': [0, 5]\n",
    "                  }\n",
    "        }, \n",
    "        {'labels': list(df2['dept_nm']),\n",
    "        'values': list(df2['sum_2016']),\n",
    "        'type': 'pie', \n",
    "        'name': '2016',\n",
    "        'domain': {'x': [.7,1]\n",
    "                   #,'y': [0, 5]\n",
    "                  }\n",
    "        }, \n",
    "    ],\n",
    "    'layout': {'title': 'Yearly Spending proportion by department (2014~2016)'}\n",
    "     }"
   ]
  },
  {
   "cell_type": "code",
   "execution_count": 57,
   "metadata": {
    "collapsed": false,
    "slideshow": {
     "slide_type": "slide"
    }
   },
   "outputs": [
    {
     "data": {
      "text/html": [
       "<iframe id=\"igraph\" scrolling=\"no\" style=\"border:none;\" seamless=\"seamless\" src=\"https://plot.ly/~zoeyxrz/14.embed\" height=\"525px\" width=\"100%\"></iframe>"
      ],
      "text/plain": [
       "<plotly.tools.PlotlyDisplay object>"
      ]
     },
     "execution_count": 57,
     "metadata": {},
     "output_type": "execute_result"
    }
   ],
   "source": [
    "py.iplot(fig)"
   ]
  },
  {
   "cell_type": "code",
   "execution_count": 45,
   "metadata": {
    "collapsed": false,
    "slideshow": {
     "slide_type": "skip"
    }
   },
   "outputs": [
    {
     "name": "stdout",
     "output_type": "stream",
     "text": [
      "30 rows affected.\n"
     ]
    },
    {
     "data": {
      "text/html": [
       "<table>\n",
       "    <tr>\n",
       "        <th>lgl_nm</th>\n",
       "        <th>fy_dc</th>\n",
       "        <th>sum_amount</th>\n",
       "    </tr>\n",
       "    <tr>\n",
       "        <td>BANK OF NEW YORK-EFT</td>\n",
       "        <td>2014</td>\n",
       "        <td>143067422.68</td>\n",
       "    </tr>\n",
       "    <tr>\n",
       "        <td>BANK OF OKLAHOMA NA</td>\n",
       "        <td>2014</td>\n",
       "        <td>63920807.97</td>\n",
       "    </tr>\n",
       "    <tr>\n",
       "        <td>HENSEL PHELPS CONSTRUCTION CO</td>\n",
       "        <td>2014</td>\n",
       "        <td>48213777.02</td>\n",
       "    </tr>\n",
       "    <tr>\n",
       "        <td>HERITAGE TITLE CO OF AUSTIN INC</td>\n",
       "        <td>2014</td>\n",
       "        <td>29614436.26</td>\n",
       "    </tr>\n",
       "    <tr>\n",
       "        <td>MWH CONSTRUCTORS INC</td>\n",
       "        <td>2014</td>\n",
       "        <td>82432845.60</td>\n",
       "    </tr>\n",
       "    <tr>\n",
       "        <td>REGIONS BANK</td>\n",
       "        <td>2014</td>\n",
       "        <td>25906769.35</td>\n",
       "    </tr>\n",
       "    <tr>\n",
       "        <td>TRAVIS COUNTY</td>\n",
       "        <td>2014</td>\n",
       "        <td>23903897.87</td>\n",
       "    </tr>\n",
       "    <tr>\n",
       "        <td>U S BANK TRUST N A</td>\n",
       "        <td>2014</td>\n",
       "        <td>138037884.37</td>\n",
       "    </tr>\n",
       "    <tr>\n",
       "        <td>WELLS FARGO BANK NA</td>\n",
       "        <td>2014</td>\n",
       "        <td>84662697.26</td>\n",
       "    </tr>\n",
       "    <tr>\n",
       "        <td>Wilmington Trust, National Association</td>\n",
       "        <td>2014</td>\n",
       "        <td>49126571.22</td>\n",
       "    </tr>\n",
       "    <tr>\n",
       "        <td>BANK OF AMERICA-EFT</td>\n",
       "        <td>2015</td>\n",
       "        <td>23206234.01</td>\n",
       "    </tr>\n",
       "    <tr>\n",
       "        <td>BANK OF NEW YORK-EFT</td>\n",
       "        <td>2015</td>\n",
       "        <td>95866050.85</td>\n",
       "    </tr>\n",
       "    <tr>\n",
       "        <td>BANK OF OKLAHOMA NA</td>\n",
       "        <td>2015</td>\n",
       "        <td>61272941.92</td>\n",
       "    </tr>\n",
       "    <tr>\n",
       "        <td>HENSEL PHELPS CONSTRUCTION CO</td>\n",
       "        <td>2015</td>\n",
       "        <td>72793928.06</td>\n",
       "    </tr>\n",
       "    <tr>\n",
       "        <td>REGIONS BANK</td>\n",
       "        <td>2015</td>\n",
       "        <td>26346797.49</td>\n",
       "    </tr>\n",
       "    <tr>\n",
       "        <td>SURETEC INFORMATION SYSTEMS INC</td>\n",
       "        <td>2015</td>\n",
       "        <td>19403339.89</td>\n",
       "    </tr>\n",
       "    <tr>\n",
       "        <td>The Bank of New York Mellon Trust Co., N.A.</td>\n",
       "        <td>2015</td>\n",
       "        <td>19121375.00</td>\n",
       "    </tr>\n",
       "    <tr>\n",
       "        <td>U S BANK TRUST N A</td>\n",
       "        <td>2015</td>\n",
       "        <td>146027533.38</td>\n",
       "    </tr>\n",
       "    <tr>\n",
       "        <td>WELLS FARGO BANK NA</td>\n",
       "        <td>2015</td>\n",
       "        <td>78397992.04</td>\n",
       "    </tr>\n",
       "    <tr>\n",
       "        <td>Wilmington Trust, National Association</td>\n",
       "        <td>2015</td>\n",
       "        <td>66128502.58</td>\n",
       "    </tr>\n",
       "    <tr>\n",
       "        <td>BANK OF AMERICA-EFT</td>\n",
       "        <td>2016</td>\n",
       "        <td>20377714.44</td>\n",
       "    </tr>\n",
       "    <tr>\n",
       "        <td>BANK OF OKLAHOMA NA</td>\n",
       "        <td>2016</td>\n",
       "        <td>83635671.62</td>\n",
       "    </tr>\n",
       "    <tr>\n",
       "        <td>HENSEL PHELPS CONSTRUCTION CO</td>\n",
       "        <td>2016</td>\n",
       "        <td>66952454.54</td>\n",
       "    </tr>\n",
       "    <tr>\n",
       "        <td>ITCOA LLC</td>\n",
       "        <td>2016</td>\n",
       "        <td>33552941.18</td>\n",
       "    </tr>\n",
       "    <tr>\n",
       "        <td>M. Arthur Gensler, Jr., and Associates, Inc.</td>\n",
       "        <td>2016</td>\n",
       "        <td>14411024.77</td>\n",
       "    </tr>\n",
       "    <tr>\n",
       "        <td>REGIONS BANK</td>\n",
       "        <td>2016</td>\n",
       "        <td>20556200.61</td>\n",
       "    </tr>\n",
       "    <tr>\n",
       "        <td>The Bank of New York Mellon Trust Co., N.A.</td>\n",
       "        <td>2016</td>\n",
       "        <td>70536724.78</td>\n",
       "    </tr>\n",
       "    <tr>\n",
       "        <td>U S BANK TRUST N A</td>\n",
       "        <td>2016</td>\n",
       "        <td>166706353.62</td>\n",
       "    </tr>\n",
       "    <tr>\n",
       "        <td>WELLS FARGO BANK NA</td>\n",
       "        <td>2016</td>\n",
       "        <td>54656477.48</td>\n",
       "    </tr>\n",
       "    <tr>\n",
       "        <td>Wilmington Trust, National Association</td>\n",
       "        <td>2016</td>\n",
       "        <td>90989202.35</td>\n",
       "    </tr>\n",
       "</table>"
      ],
      "text/plain": [
       "[('BANK OF NEW YORK-EFT', 2014, Decimal('143067422.68')),\n",
       " ('BANK OF OKLAHOMA NA', 2014, Decimal('63920807.97')),\n",
       " ('HENSEL PHELPS CONSTRUCTION CO', 2014, Decimal('48213777.02')),\n",
       " ('HERITAGE TITLE CO OF AUSTIN INC', 2014, Decimal('29614436.26')),\n",
       " ('MWH CONSTRUCTORS INC', 2014, Decimal('82432845.60')),\n",
       " ('REGIONS BANK', 2014, Decimal('25906769.35')),\n",
       " ('TRAVIS COUNTY', 2014, Decimal('23903897.87')),\n",
       " ('U S BANK TRUST N A', 2014, Decimal('138037884.37')),\n",
       " ('WELLS FARGO BANK NA', 2014, Decimal('84662697.26')),\n",
       " ('Wilmington Trust, National Association', 2014, Decimal('49126571.22')),\n",
       " ('BANK OF AMERICA-EFT', 2015, Decimal('23206234.01')),\n",
       " ('BANK OF NEW YORK-EFT', 2015, Decimal('95866050.85')),\n",
       " ('BANK OF OKLAHOMA NA', 2015, Decimal('61272941.92')),\n",
       " ('HENSEL PHELPS CONSTRUCTION CO', 2015, Decimal('72793928.06')),\n",
       " ('REGIONS BANK', 2015, Decimal('26346797.49')),\n",
       " ('SURETEC INFORMATION SYSTEMS INC', 2015, Decimal('19403339.89')),\n",
       " ('The Bank of New York Mellon Trust Co., N.A.', 2015, Decimal('19121375.00')),\n",
       " ('U S BANK TRUST N A', 2015, Decimal('146027533.38')),\n",
       " ('WELLS FARGO BANK NA', 2015, Decimal('78397992.04')),\n",
       " ('Wilmington Trust, National Association', 2015, Decimal('66128502.58')),\n",
       " ('BANK OF AMERICA-EFT', 2016, Decimal('20377714.44')),\n",
       " ('BANK OF OKLAHOMA NA', 2016, Decimal('83635671.62')),\n",
       " ('HENSEL PHELPS CONSTRUCTION CO', 2016, Decimal('66952454.54')),\n",
       " ('ITCOA LLC', 2016, Decimal('33552941.18')),\n",
       " ('M. Arthur Gensler, Jr., and Associates, Inc.', 2016, Decimal('14411024.77')),\n",
       " ('REGIONS BANK', 2016, Decimal('20556200.61')),\n",
       " ('The Bank of New York Mellon Trust Co., N.A.', 2016, Decimal('70536724.78')),\n",
       " ('U S BANK TRUST N A', 2016, Decimal('166706353.62')),\n",
       " ('WELLS FARGO BANK NA', 2016, Decimal('54656477.48')),\n",
       " ('Wilmington Trust, National Association', 2016, Decimal('90989202.35'))]"
      ]
     },
     "execution_count": 45,
     "metadata": {},
     "output_type": "execute_result"
    }
   ],
   "source": [
    "%%sql\n",
    "\n",
    "WITH FST AS(\n",
    "    SELECT DISTINCT v.lgl_nm, SUM(a.amount) as sum_amount_2014, d.fy_dc\n",
    "    FROM fact_spending a, dim_date d, dim_vendor v\n",
    "    WHERE a.date_id = d.date_key AND a.vendor_id =v.vendor_key AND d.fy_dc = '2014'\n",
    "    GROUP BY v.lgl_nm,d.fy_dc\n",
    "    ORDER BY sum_amount_2014 DESC\n",
    "    LIMIT 10\n",
    "    ), SEC AS(\n",
    "    SELECT DISTINCT v.lgl_nm, SUM(a.amount) as sum_amount_2015,d.fy_dc\n",
    "    FROM fact_spending a, dim_date d, dim_vendor v\n",
    "    WHERE a.date_id = d.date_key AND a.vendor_id =v.vendor_key AND d.fy_dc = '2015'\n",
    "    GROUP BY v.lgl_nm,d.fy_dc\n",
    "    ORDER BY sum_amount_2015 DESC\n",
    "    LIMIT 10\n",
    "    ), THR AS(\n",
    "    SELECT DISTINCT v.lgl_nm, SUM(a.amount) as sum_amount_2016,d.fy_dc\n",
    "    FROM fact_spending a, dim_date d, dim_vendor v\n",
    "    WHERE a.date_id = d.date_key AND a.vendor_id =v.vendor_key AND d.fy_dc = '2016'\n",
    "    GROUP BY v.lgl_nm,d.fy_dc\n",
    "    ORDER BY sum_amount_2016 DESC\n",
    "    LIMIT 10\n",
    "    ), final AS(\n",
    "    SELECT f.lgl_nm\n",
    "        ,f.fy_dc\n",
    "        ,f.sum_amount_2014\n",
    "    FROM FST f\n",
    "    UNION\n",
    "    SELECT s.lgl_nm\n",
    "        ,s.fy_dc\n",
    "        ,s.sum_amount_2015\n",
    "    FROM SEC s\n",
    "    UNION \n",
    "    SELECT t.lgl_nm\n",
    "        ,t.fy_dc\n",
    "        ,t.sum_amount_2016 \n",
    "    FROM THR t\n",
    "    )\n",
    "SELECT \n",
    "    n.lgl_nm\n",
    "    ,n.fy_dc\n",
    "    ,n.sum_amount_2014 as sum_amount\n",
    "FROM final n\n",
    "GROUP BY n.fy_dc,n.lgl_nm,sum_amount\n",
    "ORDER BY n.fy_dc"
   ]
  },
  {
   "cell_type": "markdown",
   "metadata": {
    "slideshow": {
     "slide_type": "skip"
    }
   },
   "source": [
    "Basically, we created four temporary table to hold three years top 10 vendors and keep 30 vendors to another temporary table. Then, select all reacords and group them by year from the last temporary table to show the result. "
   ]
  },
  {
   "cell_type": "markdown",
   "metadata": {
    "slideshow": {
     "slide_type": "skip"
    }
   },
   "source": [
    "For each year we want to see the top 10 vendors that received most money from goverment. "
   ]
  },
  {
   "cell_type": "code",
   "execution_count": 46,
   "metadata": {
    "collapsed": false,
    "slideshow": {
     "slide_type": "skip"
    }
   },
   "outputs": [],
   "source": [
    "result=_"
   ]
  },
  {
   "cell_type": "code",
   "execution_count": 47,
   "metadata": {
    "collapsed": false,
    "slideshow": {
     "slide_type": "skip"
    }
   },
   "outputs": [
    {
     "data": {
      "text/html": [
       "<div>\n",
       "<table border=\"1\" class=\"dataframe\">\n",
       "  <thead>\n",
       "    <tr style=\"text-align: right;\">\n",
       "      <th></th>\n",
       "      <th>name</th>\n",
       "      <th>year</th>\n",
       "      <th>amount</th>\n",
       "    </tr>\n",
       "  </thead>\n",
       "  <tbody>\n",
       "    <tr>\n",
       "      <th>0</th>\n",
       "      <td>BANK OF NEW YORK-EFT</td>\n",
       "      <td>2014</td>\n",
       "      <td>143067422.68</td>\n",
       "    </tr>\n",
       "    <tr>\n",
       "      <th>1</th>\n",
       "      <td>BANK OF OKLAHOMA NA</td>\n",
       "      <td>2014</td>\n",
       "      <td>63920807.97</td>\n",
       "    </tr>\n",
       "    <tr>\n",
       "      <th>2</th>\n",
       "      <td>HENSEL PHELPS CONSTRUCTION CO</td>\n",
       "      <td>2014</td>\n",
       "      <td>48213777.02</td>\n",
       "    </tr>\n",
       "    <tr>\n",
       "      <th>3</th>\n",
       "      <td>HERITAGE TITLE CO OF AUSTIN INC</td>\n",
       "      <td>2014</td>\n",
       "      <td>29614436.26</td>\n",
       "    </tr>\n",
       "    <tr>\n",
       "      <th>4</th>\n",
       "      <td>MWH CONSTRUCTORS INC</td>\n",
       "      <td>2014</td>\n",
       "      <td>82432845.60</td>\n",
       "    </tr>\n",
       "  </tbody>\n",
       "</table>\n",
       "</div>"
      ],
      "text/plain": [
       "                              name  year        amount\n",
       "0             BANK OF NEW YORK-EFT  2014  143067422.68\n",
       "1              BANK OF OKLAHOMA NA  2014   63920807.97\n",
       "2    HENSEL PHELPS CONSTRUCTION CO  2014   48213777.02\n",
       "3  HERITAGE TITLE CO OF AUSTIN INC  2014   29614436.26\n",
       "4             MWH CONSTRUCTORS INC  2014   82432845.60"
      ]
     },
     "execution_count": 47,
     "metadata": {},
     "output_type": "execute_result"
    }
   ],
   "source": [
    "import seaborn as sns\n",
    "import pandas as pd\n",
    "import matplotlib.pyplot as plt\n",
    "%matplotlib inline\n",
    "df = pd.DataFrame(result,columns = ['name','year','amount'])\n",
    "df.head()"
   ]
  },
  {
   "cell_type": "code",
   "execution_count": 48,
   "metadata": {
    "collapsed": false,
    "slideshow": {
     "slide_type": "slide"
    }
   },
   "outputs": [
    {
     "data": {
      "text/plain": [
       "<seaborn.axisgrid.FacetGrid at 0x11b6f56a0>"
      ]
     },
     "execution_count": 48,
     "metadata": {},
     "output_type": "execute_result"
    },
    {
     "data": {
      "image/png": "[encoded data removed]",
      "text/plain": [
       "<matplotlib.figure.Figure at 0x11b6f55c0>"
      ]
     },
     "metadata": {},
     "output_type": "display_data"
    }
   ],
   "source": [
    "sns.set(style=\"whitegrid\")\n",
    "g = sns.factorplot(x=\"year\", y=\"amount\", hue=\"name\", data=df,\n",
    "                   size=8, kind=\"bar\", palette=\"coolwarm\")\n",
    "g.despine(left=True)\n",
    "g.set_ylabels(\"top 10 vendor each year\")"
   ]
  },
  {
   "cell_type": "markdown",
   "metadata": {
    "collapsed": true,
    "slideshow": {
     "slide_type": "skip"
    }
   },
   "source": [
    "Here we are using seaborn package to see the top 10 vendors across three years. We are foucusing on fiscal year, which starts from Oct1 to Sept 30.\n",
    "\n",
    "We found that, most vendors in top 10 list are bank and trusting company, which indicates bank and trusting company may be one of the major sources of fund. \n",
    "\n",
    "Other than that, we can see from the chart, vendor 'BANK OF NEW YORK-EFT' is the top 3 vendors in 2014 and 2015, but suddenly disapper from the top 10 ranking in 2016. \n",
    "\n",
    "Furthermore, generally the top 10 vendors in 2014 and 2015 are similar, we can tell from the color coded bar, but in  \n",
    "year 2016 'M.Arthur Gensler' and 'UMB BANK N A' are two new vendors that in top 10 ranking."
   ]
  },
  {
   "cell_type": "markdown",
   "metadata": {
    "slideshow": {
     "slide_type": "skip"
    }
   },
   "source": [
    "In this query, we want to find out the ranking of fund_type government spend on throughout the 3 years.\n",
    "Here we use a subquery to select the unique type of fund and then sum up the amount for each type. To show our result in a much more meaningful way, we put it to a pie chart that shows us the composition of fund expenditure."
   ]
  },
  {
   "cell_type": "code",
   "execution_count": 16,
   "metadata": {
    "collapsed": false,
    "scrolled": true,
    "slideshow": {
     "slide_type": "skip"
    }
   },
   "outputs": [
    {
     "name": "stdout",
     "output_type": "stream",
     "text": [
      "239 rows affected.\n"
     ]
    },
    {
     "data": {
      "text/html": [
       "<table>\n",
       "    <tr>\n",
       "        <th>fund_nm</th>\n",
       "        <th>spending_sum</th>\n",
       "    </tr>\n",
       "    <tr>\n",
       "        <td>AWU Debt Service Fund</td>\n",
       "        <td>579158367.00</td>\n",
       "    </tr>\n",
       "    <tr>\n",
       "        <td>General Obligation Debt Service Fund</td>\n",
       "        <td>412482215.04</td>\n",
       "    </tr>\n",
       "    <tr>\n",
       "        <td>AE Debt Service Fund</td>\n",
       "        <td>339709606.91</td>\n",
       "    </tr>\n",
       "    <tr>\n",
       "        <td>Austin Energy Fund</td>\n",
       "        <td>291069004.85</td>\n",
       "    </tr>\n",
       "    <tr>\n",
       "        <td>Water Improvements--Nva</td>\n",
       "        <td>249391761.49</td>\n",
       "    </tr>\n",
       "    <tr>\n",
       "        <td>General Fund</td>\n",
       "        <td>190813057.16</td>\n",
       "    </tr>\n",
       "    <tr>\n",
       "        <td>Support Services Fund</td>\n",
       "        <td>150034980.55</td>\n",
       "    </tr>\n",
       "    <tr>\n",
       "        <td>E-Distribution Capital</td>\n",
       "        <td>109721858.19</td>\n",
       "    </tr>\n",
       "    <tr>\n",
       "        <td>Electric Inventory Fund</td>\n",
       "        <td>92111682.97</td>\n",
       "    </tr>\n",
       "    <tr>\n",
       "        <td>Drainage Cip</td>\n",
       "        <td>89085122.27</td>\n",
       "    </tr>\n",
       "    <tr>\n",
       "        <td>2013ABIA Terminal East Infill RevBonds</td>\n",
       "        <td>84584512.31</td>\n",
       "    </tr>\n",
       "    <tr>\n",
       "        <td>Airport Variable Rate Bond Debt Service Fund</td>\n",
       "        <td>78911632.68</td>\n",
       "    </tr>\n",
       "    <tr>\n",
       "        <td>GCP-Central Library P6/2006</td>\n",
       "        <td>77400752.89</td>\n",
       "    </tr>\n",
       "    <tr>\n",
       "        <td>Utility Debt Service Fund-Subordinate Lien</td>\n",
       "        <td>70521563.03</td>\n",
       "    </tr>\n",
       "    <tr>\n",
       "        <td>Employee Benefits Fund</td>\n",
       "        <td>68631071.47</td>\n",
       "    </tr>\n",
       "    <tr>\n",
       "        <td>GGCIP - Communications and Technology Mgmt</td>\n",
       "        <td>66326297.03</td>\n",
       "    </tr>\n",
       "    <tr>\n",
       "        <td>S-Wastewater Improvements</td>\n",
       "        <td>62183623.37</td>\n",
       "    </tr>\n",
       "    <tr>\n",
       "        <td>ABIA Improvements</td>\n",
       "        <td>56735413.05</td>\n",
       "    </tr>\n",
       "    <tr>\n",
       "        <td>Water Utility Operating Fund</td>\n",
       "        <td>51414050.70</td>\n",
       "    </tr>\n",
       "    <tr>\n",
       "        <td>GCP-General Govt Proj</td>\n",
       "        <td>49655479.88</td>\n",
       "    </tr>\n",
       "    <tr>\n",
       "        <td>Wastewater Utility Operating Fund</td>\n",
       "        <td>49281203.59</td>\n",
       "    </tr>\n",
       "    <tr>\n",
       "        <td>Communications and Technology Management Fund</td>\n",
       "        <td>48447084.19</td>\n",
       "    </tr>\n",
       "    <tr>\n",
       "        <td>Airport Operating Fund</td>\n",
       "        <td>48427062.46</td>\n",
       "    </tr>\n",
       "    <tr>\n",
       "        <td>E-Support Services Capital</td>\n",
       "        <td>46103455.08</td>\n",
       "    </tr>\n",
       "    <tr>\n",
       "        <td>GCP-Transportation P12/2012</td>\n",
       "        <td>44326642.02</td>\n",
       "    </tr>\n",
       "    <tr>\n",
       "        <td>General Svc Inventories</td>\n",
       "        <td>44224222.54</td>\n",
       "    </tr>\n",
       "    <tr>\n",
       "        <td>Waller Creek Tunnel COs</td>\n",
       "        <td>44171663.42</td>\n",
       "    </tr>\n",
       "    <tr>\n",
       "        <td>Economic Incentives Reserve Fund</td>\n",
       "        <td>43605581.73</td>\n",
       "    </tr>\n",
       "    <tr>\n",
       "        <td>Transportation Fund</td>\n",
       "        <td>42939358.94</td>\n",
       "    </tr>\n",
       "    <tr>\n",
       "        <td>Wastewater Improvements--Nva</td>\n",
       "        <td>41739705.26</td>\n",
       "    </tr>\n",
       "    <tr>\n",
       "        <td>Floodplain Home Buyout Program</td>\n",
       "        <td>41686537.99</td>\n",
       "    </tr>\n",
       "    <tr>\n",
       "        <td>Tourism And Promotion Fund</td>\n",
       "        <td>37218732.00</td>\n",
       "    </tr>\n",
       "    <tr>\n",
       "        <td>ARR-Austin Resource Recovery Cip</td>\n",
       "        <td>35812866.06</td>\n",
       "    </tr>\n",
       "    <tr>\n",
       "        <td>Fleet Services Fund</td>\n",
       "        <td>33752004.97</td>\n",
       "    </tr>\n",
       "    <tr>\n",
       "        <td>GCP-Transp Mobility Impv P1/00</td>\n",
       "        <td>32496988.02</td>\n",
       "    </tr>\n",
       "    <tr>\n",
       "        <td>Austin Resource Recovery Fund</td>\n",
       "        <td>29250769.83</td>\n",
       "    </tr>\n",
       "    <tr>\n",
       "        <td>GCP-Mobility P1/2010</td>\n",
       "        <td>28780891.26</td>\n",
       "    </tr>\n",
       "    <tr>\n",
       "        <td>GCP-Open Space P13/2012</td>\n",
       "        <td>28377398.15</td>\n",
       "    </tr>\n",
       "    <tr>\n",
       "        <td>Convention Center HOT Debt Service Fund-Subordinate Lien</td>\n",
       "        <td>26491156.81</td>\n",
       "    </tr>\n",
       "    <tr>\n",
       "        <td>Housing P1/2013</td>\n",
       "        <td>25524772.15</td>\n",
       "    </tr>\n",
       "    <tr>\n",
       "        <td>Airport Revenue Bond Redemption Fund</td>\n",
       "        <td>25281960.95</td>\n",
       "    </tr>\n",
       "    <tr>\n",
       "        <td>Cultural Arts Fund</td>\n",
       "        <td>24284326.50</td>\n",
       "    </tr>\n",
       "    <tr>\n",
       "        <td>Vehicle Acquisition Fund</td>\n",
       "        <td>23462562.00</td>\n",
       "    </tr>\n",
       "    <tr>\n",
       "        <td>GCP-Tpsd General Improvements</td>\n",
       "        <td>21376915.24</td>\n",
       "    </tr>\n",
       "    <tr>\n",
       "        <td>W-Water Improvements</td>\n",
       "        <td>20142111.82</td>\n",
       "    </tr>\n",
       "    <tr>\n",
       "        <td>E-Transmission Capital</td>\n",
       "        <td>19710751.61</td>\n",
       "    </tr>\n",
       "    <tr>\n",
       "        <td>2013ABIA Construction RevBonds</td>\n",
       "        <td>18877048.29</td>\n",
       "    </tr>\n",
       "    <tr>\n",
       "        <td>Convention Center Operating Fund</td>\n",
       "        <td>18531754.11</td>\n",
       "    </tr>\n",
       "    <tr>\n",
       "        <td>Combined Transportation, Emergency &amp; Communications Ctr Fund</td>\n",
       "        <td>17858863.78</td>\n",
       "    </tr>\n",
       "    <tr>\n",
       "        <td>Drainage Utility Fund</td>\n",
       "        <td>17639911.97</td>\n",
       "    </tr>\n",
       "    <tr>\n",
       "        <td>US Housing/Urban Development-CDBG</td>\n",
       "        <td>17203807.36</td>\n",
       "    </tr>\n",
       "    <tr>\n",
       "        <td>Utility Debt Service Fund-Prior Lien</td>\n",
       "        <td>16207849.77</td>\n",
       "    </tr>\n",
       "    <tr>\n",
       "        <td>Convention Center HOT Debt Service Fund</td>\n",
       "        <td>15562649.50</td>\n",
       "    </tr>\n",
       "    <tr>\n",
       "        <td>GCP-Library Automation System</td>\n",
       "        <td>15297791.41</td>\n",
       "    </tr>\n",
       "    <tr>\n",
       "        <td>GCP-Parks P14/2012</td>\n",
       "        <td>14544832.88</td>\n",
       "    </tr>\n",
       "    <tr>\n",
       "        <td>Liability Reserve Fund</td>\n",
       "        <td>14399876.60</td>\n",
       "    </tr>\n",
       "    <tr>\n",
       "        <td>Economic Development Fund</td>\n",
       "        <td>14395850.13</td>\n",
       "    </tr>\n",
       "    <tr>\n",
       "        <td>Wireless Communication Services Fund</td>\n",
       "        <td>13302066.11</td>\n",
       "    </tr>\n",
       "    <tr>\n",
       "        <td>GGCIP - Parks and Recreation</td>\n",
       "        <td>12965277.75</td>\n",
       "    </tr>\n",
       "    <tr>\n",
       "        <td>GCP-CMTA Mobility</td>\n",
       "        <td>12921861.59</td>\n",
       "    </tr>\n",
       "    <tr>\n",
       "        <td>GCP-Drainage &amp; Open Space P2/2006</td>\n",
       "        <td>12880160.59</td>\n",
       "    </tr>\n",
       "    <tr>\n",
       "        <td>GCP-Fleet General Improvements</td>\n",
       "        <td>12650694.10</td>\n",
       "    </tr>\n",
       "    <tr>\n",
       "        <td>GCP-Auditorium</td>\n",
       "        <td>12018039.32</td>\n",
       "    </tr>\n",
       "    <tr>\n",
       "        <td>1115 Medicaid Waiver</td>\n",
       "        <td>11762187.66</td>\n",
       "    </tr>\n",
       "    <tr>\n",
       "        <td>Water Inventory Fund</td>\n",
       "        <td>11429227.37</td>\n",
       "    </tr>\n",
       "    <tr>\n",
       "        <td>GCP-Parks P3/2006</td>\n",
       "        <td>11423598.25</td>\n",
       "    </tr>\n",
       "    <tr>\n",
       "        <td>GCP-Golf</td>\n",
       "        <td>11295798.66</td>\n",
       "    </tr>\n",
       "    <tr>\n",
       "        <td>Ryan White Part A HIV/AIDS</td>\n",
       "        <td>10803389.52</td>\n",
       "    </tr>\n",
       "    <tr>\n",
       "        <td>Mueller Local Government Corp</td>\n",
       "        <td>10361070.06</td>\n",
       "    </tr>\n",
       "    <tr>\n",
       "        <td>US Housing/Urban Development-HOME</td>\n",
       "        <td>10355685.84</td>\n",
       "    </tr>\n",
       "    <tr>\n",
       "        <td>Water Reclamation Initv</td>\n",
       "        <td>9348635.66</td>\n",
       "    </tr>\n",
       "    <tr>\n",
       "        <td>Conv Ctr Town Lake Park Venue Project Bond Redemption Fund</td>\n",
       "        <td>9115525.00</td>\n",
       "    </tr>\n",
       "    <tr>\n",
       "        <td>Downtown Public Improvement District</td>\n",
       "        <td>8598397.50</td>\n",
       "    </tr>\n",
       "    <tr>\n",
       "        <td>General Fund Inventory Fund</td>\n",
       "        <td>8527965.33</td>\n",
       "    </tr>\n",
       "    <tr>\n",
       "        <td>Transportation Inventory Fund</td>\n",
       "        <td>8203422.04</td>\n",
       "    </tr>\n",
       "    <tr>\n",
       "        <td>General Fund One-Time Expenditure Fund</td>\n",
       "        <td>7570060.60</td>\n",
       "    </tr>\n",
       "    <tr>\n",
       "        <td>E-Distribution Substations Cap</td>\n",
       "        <td>7516227.49</td>\n",
       "    </tr>\n",
       "    <tr>\n",
       "        <td>GCP-Public Works-Grants</td>\n",
       "        <td>7346134.20</td>\n",
       "    </tr>\n",
       "    <tr>\n",
       "        <td>GCP-Transportation P1/2006</td>\n",
       "        <td>6939448.78</td>\n",
       "    </tr>\n",
       "    <tr>\n",
       "        <td>GCP-Housing Misc Projects</td>\n",
       "        <td>6634470.65</td>\n",
       "    </tr>\n",
       "    <tr>\n",
       "        <td>GCP-Parkland Dedication Improv</td>\n",
       "        <td>6497128.65</td>\n",
       "    </tr>\n",
       "    <tr>\n",
       "        <td>Austin Code Fund</td>\n",
       "        <td>5788040.42</td>\n",
       "    </tr>\n",
       "    <tr>\n",
       "        <td>E-Metering Capital</td>\n",
       "        <td>5722242.81</td>\n",
       "    </tr>\n",
       "    <tr>\n",
       "        <td>Mobility Fund</td>\n",
       "        <td>5405624.69</td>\n",
       "    </tr>\n",
       "    <tr>\n",
       "        <td>Workers&#x27; Compensation Fund</td>\n",
       "        <td>4853384.48</td>\n",
       "    </tr>\n",
       "    <tr>\n",
       "        <td>GCP-NPZ General</td>\n",
       "        <td>4520140.60</td>\n",
       "    </tr>\n",
       "    <tr>\n",
       "        <td>CAMPO (formerly ATS)</td>\n",
       "        <td>4511405.55</td>\n",
       "    </tr>\n",
       "    <tr>\n",
       "        <td>Convention Center Waller Creek Venue Debt Service Fund</td>\n",
       "        <td>4443850.00</td>\n",
       "    </tr>\n",
       "    <tr>\n",
       "        <td>E-Capital Equipment Additions</td>\n",
       "        <td>4347214.25</td>\n",
       "    </tr>\n",
       "    <tr>\n",
       "        <td>Performance Contracting Fund</td>\n",
       "        <td>4290585.96</td>\n",
       "    </tr>\n",
       "    <tr>\n",
       "        <td>Capital Projects Management Fund</td>\n",
       "        <td>4103358.87</td>\n",
       "    </tr>\n",
       "    <tr>\n",
       "        <td>GCP-Public Safety P16/2012</td>\n",
       "        <td>4064651.09</td>\n",
       "    </tr>\n",
       "    <tr>\n",
       "        <td>Parking Management Fund</td>\n",
       "        <td>4037086.18</td>\n",
       "    </tr>\n",
       "    <tr>\n",
       "        <td>Regional Stormwater Projects</td>\n",
       "        <td>3882448.18</td>\n",
       "    </tr>\n",
       "    <tr>\n",
       "        <td>S-Wastewater Acquisitions Co</td>\n",
       "        <td>3846561.99</td>\n",
       "    </tr>\n",
       "    <tr>\n",
       "        <td>HUD Section 108 Family Business Loan Program Fund</td>\n",
       "        <td>3817425.93</td>\n",
       "    </tr>\n",
       "    <tr>\n",
       "        <td>Austin Cable Access Fund</td>\n",
       "        <td>3626672.18</td>\n",
       "    </tr>\n",
       "    <tr>\n",
       "        <td>Public Improvement District</td>\n",
       "        <td>3506265.50</td>\n",
       "    </tr>\n",
       "    <tr>\n",
       "        <td>Public Works  Transportation CIP</td>\n",
       "        <td>3444152.79</td>\n",
       "    </tr>\n",
       "    <tr>\n",
       "        <td>Neighborhood Housing and Community Development Fund</td>\n",
       "        <td>3440664.38</td>\n",
       "    </tr>\n",
       "    <tr>\n",
       "        <td>GCP-PARD--Infrastructure</td>\n",
       "        <td>3224377.56</td>\n",
       "    </tr>\n",
       "    <tr>\n",
       "        <td>HUD Section 108 Debt Service Fund</td>\n",
       "        <td>3215649.84</td>\n",
       "    </tr>\n",
       "    <tr>\n",
       "        <td>GCP-Public Safety P7/2006</td>\n",
       "        <td>3091610.77</td>\n",
       "    </tr>\n",
       "    <tr>\n",
       "        <td>HOPWA- HUD 09</td>\n",
       "        <td>3038596.63</td>\n",
       "    </tr>\n",
       "    <tr>\n",
       "        <td>GCP-Affordable Housing P5/2006</td>\n",
       "        <td>3023756.97</td>\n",
       "    </tr>\n",
       "    <tr>\n",
       "        <td>Golf Fund</td>\n",
       "        <td>2813865.11</td>\n",
       "    </tr>\n",
       "    <tr>\n",
       "        <td>US Department of Justice</td>\n",
       "        <td>2722296.78</td>\n",
       "    </tr>\n",
       "    <tr>\n",
       "        <td>Neighborhood Housing-Housing Trust Fund</td>\n",
       "        <td>2636913.77</td>\n",
       "    </tr>\n",
       "    <tr>\n",
       "        <td>Convention Center Palmer Events Center Operating Fund</td>\n",
       "        <td>2568066.16</td>\n",
       "    </tr>\n",
       "    <tr>\n",
       "        <td>General Fund Budget Stabilization Reserve Fund</td>\n",
       "        <td>2409801.63</td>\n",
       "    </tr>\n",
       "    <tr>\n",
       "        <td>US HUD-Office of Sustainable Housing and Communities</td>\n",
       "        <td>2399789.38</td>\n",
       "    </tr>\n",
       "    <tr>\n",
       "        <td>S-Ww/Improve Upgrade Replace</td>\n",
       "        <td>2364176.37</td>\n",
       "    </tr>\n",
       "    <tr>\n",
       "        <td>GCP-Parks Land &amp; Fac P2/98</td>\n",
       "        <td>2349485.66</td>\n",
       "    </tr>\n",
       "    <tr>\n",
       "        <td>Waller Creek Tunnel</td>\n",
       "        <td>2325007.35</td>\n",
       "    </tr>\n",
       "    <tr>\n",
       "        <td>Ryan White Part C</td>\n",
       "        <td>2240454.94</td>\n",
       "    </tr>\n",
       "    <tr>\n",
       "        <td>W-Water Acquisitions - Cont Ob</td>\n",
       "        <td>2090083.22</td>\n",
       "    </tr>\n",
       "    <tr>\n",
       "        <td>Sustainability Fund</td>\n",
       "        <td>2069601.10</td>\n",
       "    </tr>\n",
       "    <tr>\n",
       "        <td>US Dept of Homeland Security</td>\n",
       "        <td>2000219.09</td>\n",
       "    </tr>\n",
       "    <tr>\n",
       "        <td>GCP-Health P17/2012</td>\n",
       "        <td>1989041.98</td>\n",
       "    </tr>\n",
       "    <tr>\n",
       "        <td>Municipal Court Traffic Safety Fund</td>\n",
       "        <td>1833738.08</td>\n",
       "    </tr>\n",
       "    <tr>\n",
       "        <td>E-Support Services Debt</td>\n",
       "        <td>1826168.41</td>\n",
       "    </tr>\n",
       "    <tr>\n",
       "        <td>GCP-Library &amp; Cultural P18/2012</td>\n",
       "        <td>1811149.07</td>\n",
       "    </tr>\n",
       "    <tr>\n",
       "        <td>City Hall Fund</td>\n",
       "        <td>1612092.16</td>\n",
       "    </tr>\n",
       "    <tr>\n",
       "        <td>Police Federal Department of Justice Asset Forfeiture Fund</td>\n",
       "        <td>1595577.02</td>\n",
       "    </tr>\n",
       "    <tr>\n",
       "        <td>Municipal Court Technology Fund</td>\n",
       "        <td>1595521.81</td>\n",
       "    </tr>\n",
       "    <tr>\n",
       "        <td>Rutherford Lane Facility Fund</td>\n",
       "        <td>1549968.43</td>\n",
       "    </tr>\n",
       "    <tr>\n",
       "        <td>Watershed Enterprise Grants</td>\n",
       "        <td>1522520.22</td>\n",
       "    </tr>\n",
       "    <tr>\n",
       "        <td>Texas Dept of Housing and Community Affairs</td>\n",
       "        <td>1511536.31</td>\n",
       "    </tr>\n",
       "    <tr>\n",
       "        <td>Refugee Health Services</td>\n",
       "        <td>1449080.90</td>\n",
       "    </tr>\n",
       "    <tr>\n",
       "        <td>US Housing/Urban Development-Lead</td>\n",
       "        <td>1274581.45</td>\n",
       "    </tr>\n",
       "    <tr>\n",
       "        <td>GCP-Drng/Fld Imp 84 Auth P19</td>\n",
       "        <td>1240325.17</td>\n",
       "    </tr>\n",
       "    <tr>\n",
       "        <td>Radio Inventory</td>\n",
       "        <td>1156764.35</td>\n",
       "    </tr>\n",
       "    <tr>\n",
       "        <td>Emergency Shelter Grant 2008-10</td>\n",
       "        <td>1146538.95</td>\n",
       "    </tr>\n",
       "    <tr>\n",
       "        <td>Convention Center Repair and Replacement Fund</td>\n",
       "        <td>1137573.37</td>\n",
       "    </tr>\n",
       "    <tr>\n",
       "        <td>Parking CIP</td>\n",
       "        <td>1091524.00</td>\n",
       "    </tr>\n",
       "    <tr>\n",
       "        <td>Women/Infants/Children</td>\n",
       "        <td>914577.22</td>\n",
       "    </tr>\n",
       "    <tr>\n",
       "        <td>Austin Energy Enterprise Grants</td>\n",
       "        <td>891100.27</td>\n",
       "    </tr>\n",
       "    <tr>\n",
       "        <td>Wildland Conservation Fund</td>\n",
       "        <td>854370.79</td>\n",
       "    </tr>\n",
       "    <tr>\n",
       "        <td>Police Federal Department of Treasury Asset Forfeiture Fund</td>\n",
       "        <td>845791.31</td>\n",
       "    </tr>\n",
       "    <tr>\n",
       "        <td>Police State Contraband Asset Forfeiture Fund</td>\n",
       "        <td>818296.02</td>\n",
       "    </tr>\n",
       "    <tr>\n",
       "        <td>ATD Transportation CIP</td>\n",
       "        <td>727538.30</td>\n",
       "    </tr>\n",
       "    <tr>\n",
       "        <td>ARIC Sustainability</td>\n",
       "        <td>677836.05</td>\n",
       "    </tr>\n",
       "    <tr>\n",
       "        <td>Youth of Promise Initiative</td>\n",
       "        <td>654133.51</td>\n",
       "    </tr>\n",
       "    <tr>\n",
       "        <td>GCP-Police/Courts Bond Fund</td>\n",
       "        <td>641850.53</td>\n",
       "    </tr>\n",
       "    <tr>\n",
       "        <td>GCP-Library &amp; Cul Ctr P4/98</td>\n",
       "        <td>634203.97</td>\n",
       "    </tr>\n",
       "    <tr>\n",
       "        <td>GCP-Trans, St, Signals P1/98</td>\n",
       "        <td>585023.21</td>\n",
       "    </tr>\n",
       "    <tr>\n",
       "        <td>GCP-Cultural Facilities P4/2006</td>\n",
       "        <td>539770.33</td>\n",
       "    </tr>\n",
       "    <tr>\n",
       "        <td>Housing Assistance Unrestricte</td>\n",
       "        <td>506675.77</td>\n",
       "    </tr>\n",
       "    <tr>\n",
       "        <td>Friends of APL</td>\n",
       "        <td>505090.41</td>\n",
       "    </tr>\n",
       "    <tr>\n",
       "        <td>Rainey Street District Fund</td>\n",
       "        <td>500000.00</td>\n",
       "    </tr>\n",
       "    <tr>\n",
       "        <td>Waller Creek Local Gov Corp</td>\n",
       "        <td>500000.00</td>\n",
       "    </tr>\n",
       "    <tr>\n",
       "        <td>Urban Forest Replenishment Fun</td>\n",
       "        <td>481906.47</td>\n",
       "    </tr>\n",
       "    <tr>\n",
       "        <td>Municipal Court Building Security Fund</td>\n",
       "        <td>469690.11</td>\n",
       "    </tr>\n",
       "    <tr>\n",
       "        <td>ARRA Wastewater Improvements--Nva</td>\n",
       "        <td>412589.64</td>\n",
       "    </tr>\n",
       "    <tr>\n",
       "        <td>Water Reclamation</td>\n",
       "        <td>411956.80</td>\n",
       "    </tr>\n",
       "    <tr>\n",
       "        <td>Public/Private Ventures</td>\n",
       "        <td>408390.50</td>\n",
       "    </tr>\n",
       "    <tr>\n",
       "        <td>HIV Prevention</td>\n",
       "        <td>405141.80</td>\n",
       "    </tr>\n",
       "    <tr>\n",
       "        <td>Community Transformation Grant</td>\n",
       "        <td>386429.75</td>\n",
       "    </tr>\n",
       "    <tr>\n",
       "        <td>Second Street Tax Increment Financing Fund</td>\n",
       "        <td>340482.92</td>\n",
       "    </tr>\n",
       "    <tr>\n",
       "        <td>GCP-Street Imp 84 Auth P18</td>\n",
       "        <td>322091.31</td>\n",
       "    </tr>\n",
       "    <tr>\n",
       "        <td>US Housing/Urban Development CDBG</td>\n",
       "        <td>314412.79</td>\n",
       "    </tr>\n",
       "    <tr>\n",
       "        <td>Long Center Capital Improvements Fund</td>\n",
       "        <td>300000.00</td>\n",
       "    </tr>\n",
       "    <tr>\n",
       "        <td>Community Services Block Grant</td>\n",
       "        <td>288913.54</td>\n",
       "    </tr>\n",
       "    <tr>\n",
       "        <td>GCP-Public Safety Fac P3/98</td>\n",
       "        <td>284953.90</td>\n",
       "    </tr>\n",
       "    <tr>\n",
       "        <td>Animal Services Fund</td>\n",
       "        <td>278308.39</td>\n",
       "    </tr>\n",
       "    <tr>\n",
       "        <td>US Department of Transportation</td>\n",
       "        <td>274868.96</td>\n",
       "    </tr>\n",
       "    <tr>\n",
       "        <td>E Sixth St Pub Impr Distr</td>\n",
       "        <td>249179.00</td>\n",
       "    </tr>\n",
       "    <tr>\n",
       "        <td>Municipal Court Juvenile Case Manager Fund</td>\n",
       "        <td>244479.68</td>\n",
       "    </tr>\n",
       "    <tr>\n",
       "        <td>W-Wtp #4 &amp; Facilities   P04/84</td>\n",
       "        <td>231463.78</td>\n",
       "    </tr>\n",
       "    <tr>\n",
       "        <td>Science Fest</td>\n",
       "        <td>230112.35</td>\n",
       "    </tr>\n",
       "    <tr>\n",
       "        <td>TX SHS-TB Prevention &amp; Control</td>\n",
       "        <td>226244.21</td>\n",
       "    </tr>\n",
       "    <tr>\n",
       "        <td>GCP-Fire-General</td>\n",
       "        <td>225296.91</td>\n",
       "    </tr>\n",
       "    <tr>\n",
       "        <td>Pard Miscellaneous T &amp; A</td>\n",
       "        <td>214920.10</td>\n",
       "    </tr>\n",
       "    <tr>\n",
       "        <td>Community Development Incentives Fund</td>\n",
       "        <td>161752.50</td>\n",
       "    </tr>\n",
       "    <tr>\n",
       "        <td>Music Venue Assistance Program Fund</td>\n",
       "        <td>158315.24</td>\n",
       "    </tr>\n",
       "    <tr>\n",
       "        <td>Town Lake/Comm Events P11/98</td>\n",
       "        <td>157916.26</td>\n",
       "    </tr>\n",
       "    <tr>\n",
       "        <td>GCP-Build Austin (Cap Metro)</td>\n",
       "        <td>156302.00</td>\n",
       "    </tr>\n",
       "    <tr>\n",
       "        <td>Public Health Emergency Preparedness</td>\n",
       "        <td>155366.56</td>\n",
       "    </tr>\n",
       "    <tr>\n",
       "        <td>Tuberculosis Outreach</td>\n",
       "        <td>150675.18</td>\n",
       "    </tr>\n",
       "    <tr>\n",
       "        <td>Convention Center Marketing and Promotion Fund</td>\n",
       "        <td>150046.45</td>\n",
       "    </tr>\n",
       "    <tr>\n",
       "        <td>Texas Department of Motor Vehicles</td>\n",
       "        <td>148522.85</td>\n",
       "    </tr>\n",
       "    <tr>\n",
       "        <td>US Housing/Urban Development-EDI</td>\n",
       "        <td>147000.00</td>\n",
       "    </tr>\n",
       "    <tr>\n",
       "        <td>Child Safety Fund</td>\n",
       "        <td>137598.56</td>\n",
       "    </tr>\n",
       "    <tr>\n",
       "        <td>Convention Center Palmer Events Center Garage Fund</td>\n",
       "        <td>129379.25</td>\n",
       "    </tr>\n",
       "    <tr>\n",
       "        <td>US Department of State</td>\n",
       "        <td>124643.93</td>\n",
       "    </tr>\n",
       "    <tr>\n",
       "        <td>Special Library</td>\n",
       "        <td>112973.86</td>\n",
       "    </tr>\n",
       "    <tr>\n",
       "        <td>South Congress Public Improvement District</td>\n",
       "        <td>107447.00</td>\n",
       "    </tr>\n",
       "    <tr>\n",
       "        <td>GCP-Capital Reserve</td>\n",
       "        <td>107370.57</td>\n",
       "    </tr>\n",
       "    <tr>\n",
       "        <td>East 6th Street Public Improvement District</td>\n",
       "        <td>103191.00</td>\n",
       "    </tr>\n",
       "    <tr>\n",
       "        <td>Summer Musical</td>\n",
       "        <td>98152.45</td>\n",
       "    </tr>\n",
       "    <tr>\n",
       "        <td>Healthy Adolescent-US HHS</td>\n",
       "        <td>97660.21</td>\n",
       "    </tr>\n",
       "    <tr>\n",
       "        <td>GCP-Health Misc Projects</td>\n",
       "        <td>97387.05</td>\n",
       "    </tr>\n",
       "    <tr>\n",
       "        <td>Dept of State Health Services</td>\n",
       "        <td>84118.21</td>\n",
       "    </tr>\n",
       "    <tr>\n",
       "        <td>Campaign Financing Fund</td>\n",
       "        <td>83965.74</td>\n",
       "    </tr>\n",
       "    <tr>\n",
       "        <td>Texas Commission of the Arts</td>\n",
       "        <td>81241.22</td>\n",
       "    </tr>\n",
       "    <tr>\n",
       "        <td>I-35 Parking Program Fund</td>\n",
       "        <td>78953.88</td>\n",
       "    </tr>\n",
       "    <tr>\n",
       "        <td>Police State Gambling Asset Forfeiture Fund</td>\n",
       "        <td>77756.42</td>\n",
       "    </tr>\n",
       "    <tr>\n",
       "        <td>Reclaimed Water Utility Operating Fund</td>\n",
       "        <td>71261.16</td>\n",
       "    </tr>\n",
       "    <tr>\n",
       "        <td>Planting For The Future Fund</td>\n",
       "        <td>67225.80</td>\n",
       "    </tr>\n",
       "    <tr>\n",
       "        <td>Music Loan Program Fund</td>\n",
       "        <td>58000.00</td>\n",
       "    </tr>\n",
       "    <tr>\n",
       "        <td>US Housing/Urban Development</td>\n",
       "        <td>56895.19</td>\n",
       "    </tr>\n",
       "    <tr>\n",
       "        <td>GCP-Interest Income Fund</td>\n",
       "        <td>55500.00</td>\n",
       "    </tr>\n",
       "    <tr>\n",
       "        <td>Institute of Museum and Library Services</td>\n",
       "        <td>53439.07</td>\n",
       "    </tr>\n",
       "    <tr>\n",
       "        <td>Public School Energy Asst</td>\n",
       "        <td>50869.04</td>\n",
       "    </tr>\n",
       "    <tr>\n",
       "        <td>Fund for Cities of Service, Inc</td>\n",
       "        <td>48571.56</td>\n",
       "    </tr>\n",
       "    <tr>\n",
       "        <td>US HHS-Immunization Outreach</td>\n",
       "        <td>47275.35</td>\n",
       "    </tr>\n",
       "    <tr>\n",
       "        <td>Police Benefit Fund</td>\n",
       "        <td>46650.49</td>\n",
       "    </tr>\n",
       "    <tr>\n",
       "        <td>US Health &amp; Human Services</td>\n",
       "        <td>42567.62</td>\n",
       "    </tr>\n",
       "    <tr>\n",
       "        <td>Zoonosis Control</td>\n",
       "        <td>38812.35</td>\n",
       "    </tr>\n",
       "    <tr>\n",
       "        <td>Environmental Remediation Fund</td>\n",
       "        <td>36509.66</td>\n",
       "    </tr>\n",
       "    <tr>\n",
       "        <td>Texas Governor&#x27;s Office</td>\n",
       "        <td>35273.58</td>\n",
       "    </tr>\n",
       "    <tr>\n",
       "        <td>PHEP - Discretionary Fund Projects</td>\n",
       "        <td>34201.16</td>\n",
       "    </tr>\n",
       "    <tr>\n",
       "        <td>STD Control</td>\n",
       "        <td>28934.71</td>\n",
       "    </tr>\n",
       "    <tr>\n",
       "        <td>Auto Theft Interdiction Seizur</td>\n",
       "        <td>23899.50</td>\n",
       "    </tr>\n",
       "    <tr>\n",
       "        <td>Community Diabetes Proj-FY08-09</td>\n",
       "        <td>23159.20</td>\n",
       "    </tr>\n",
       "    <tr>\n",
       "        <td>Texas Health and Human Services Commission</td>\n",
       "        <td>19649.40</td>\n",
       "    </tr>\n",
       "    <tr>\n",
       "        <td>Wtrshd Protectn Annexed Areas</td>\n",
       "        <td>18781.00</td>\n",
       "    </tr>\n",
       "    <tr>\n",
       "        <td>Influenza Incidence Surveillance Project</td>\n",
       "        <td>17621.57</td>\n",
       "    </tr>\n",
       "    <tr>\n",
       "        <td>Trustee-Ellis Library Fund</td>\n",
       "        <td>16685.38</td>\n",
       "    </tr>\n",
       "    <tr>\n",
       "        <td>City Manager/OEM Misc</td>\n",
       "        <td>15697.50</td>\n",
       "    </tr>\n",
       "    <tr>\n",
       "        <td>GCP-Police Substns      P03/92</td>\n",
       "        <td>12748.00</td>\n",
       "    </tr>\n",
       "    <tr>\n",
       "        <td>PARD Private Grant</td>\n",
       "        <td>11654.85</td>\n",
       "    </tr>\n",
       "    <tr>\n",
       "        <td>US Dept of Interior National Park Service</td>\n",
       "        <td>11043.75</td>\n",
       "    </tr>\n",
       "    <tr>\n",
       "        <td>Austin History Center</td>\n",
       "        <td>5803.00</td>\n",
       "    </tr>\n",
       "    <tr>\n",
       "        <td>GCP-Asbsts/Ada/Hlth Cln P04/92</td>\n",
       "        <td>3949.40</td>\n",
       "    </tr>\n",
       "    <tr>\n",
       "        <td>US Environmental Protection Agency</td>\n",
       "        <td>3250.00</td>\n",
       "    </tr>\n",
       "    <tr>\n",
       "        <td>Fire Miscellaneous</td>\n",
       "        <td>2706.54</td>\n",
       "    </tr>\n",
       "    <tr>\n",
       "        <td>Unclaimed Property</td>\n",
       "        <td>2326.60</td>\n",
       "    </tr>\n",
       "    <tr>\n",
       "        <td>US Housing/Urban Development HOME</td>\n",
       "        <td>2300.51</td>\n",
       "    </tr>\n",
       "    <tr>\n",
       "        <td>HIV Surveillance</td>\n",
       "        <td>2180.43</td>\n",
       "    </tr>\n",
       "    <tr>\n",
       "        <td>Tobacco Prevention and Control Coalition Program</td>\n",
       "        <td>2177.42</td>\n",
       "    </tr>\n",
       "    <tr>\n",
       "        <td>Parks and Wildlife</td>\n",
       "        <td>1506.07</td>\n",
       "    </tr>\n",
       "    <tr>\n",
       "        <td>Mueller Development Fund</td>\n",
       "        <td>1458.00</td>\n",
       "    </tr>\n",
       "    <tr>\n",
       "        <td>Grant Clearing</td>\n",
       "        <td>1020.07</td>\n",
       "    </tr>\n",
       "    <tr>\n",
       "        <td>Conservation Rebates and Incentives Fund</td>\n",
       "        <td>855.00</td>\n",
       "    </tr>\n",
       "    <tr>\n",
       "        <td>One Texas Center Fund</td>\n",
       "        <td>771.49</td>\n",
       "    </tr>\n",
       "    <tr>\n",
       "        <td>W-Water/Improv, Uprgrad P06/98</td>\n",
       "        <td>193.80</td>\n",
       "    </tr>\n",
       "    <tr>\n",
       "        <td>Citizen Corps Council Iniatives</td>\n",
       "        <td>133.78</td>\n",
       "    </tr>\n",
       "    <tr>\n",
       "        <td>ARRA - Tobacco Prevention</td>\n",
       "        <td>29.97</td>\n",
       "    </tr>\n",
       "</table>"
      ],
      "text/plain": [
       "[('AWU Debt Service Fund', Decimal('579158367.00')),\n",
       " ('General Obligation Debt Service Fund', Decimal('412482215.04')),\n",
       " ('AE Debt Service Fund', Decimal('339709606.91')),\n",
       " ('Austin Energy Fund', Decimal('291069004.85')),\n",
       " ('Water Improvements--Nva', Decimal('249391761.49')),\n",
       " ('General Fund', Decimal('190813057.16')),\n",
       " ('Support Services Fund', Decimal('150034980.55')),\n",
       " ('E-Distribution Capital', Decimal('109721858.19')),\n",
       " ('Electric Inventory Fund', Decimal('92111682.97')),\n",
       " ('Drainage Cip', Decimal('89085122.27')),\n",
       " ('2013ABIA Terminal East Infill RevBonds', Decimal('84584512.31')),\n",
       " ('Airport Variable Rate Bond Debt Service Fund', Decimal('78911632.68')),\n",
       " ('GCP-Central Library P6/2006', Decimal('77400752.89')),\n",
       " ('Utility Debt Service Fund-Subordinate Lien', Decimal('70521563.03')),\n",
       " ('Employee Benefits Fund', Decimal('68631071.47')),\n",
       " ('GGCIP - Communications and Technology Mgmt', Decimal('66326297.03')),\n",
       " ('S-Wastewater Improvements', Decimal('62183623.37')),\n",
       " ('ABIA Improvements', Decimal('56735413.05')),\n",
       " ('Water Utility Operating Fund', Decimal('51414050.70')),\n",
       " ('GCP-General Govt Proj', Decimal('49655479.88')),\n",
       " ('Wastewater Utility Operating Fund', Decimal('49281203.59')),\n",
       " ('Communications and Technology Management Fund', Decimal('48447084.19')),\n",
       " ('Airport Operating Fund', Decimal('48427062.46')),\n",
       " ('E-Support Services Capital', Decimal('46103455.08')),\n",
       " ('GCP-Transportation P12/2012', Decimal('44326642.02')),\n",
       " ('General Svc Inventories', Decimal('44224222.54')),\n",
       " ('Waller Creek Tunnel COs', Decimal('44171663.42')),\n",
       " ('Economic Incentives Reserve Fund', Decimal('43605581.73')),\n",
       " ('Transportation Fund', Decimal('42939358.94')),\n",
       " ('Wastewater Improvements--Nva', Decimal('41739705.26')),\n",
       " ('Floodplain Home Buyout Program', Decimal('41686537.99')),\n",
       " ('Tourism And Promotion Fund', Decimal('37218732.00')),\n",
       " ('ARR-Austin Resource Recovery Cip', Decimal('35812866.06')),\n",
       " ('Fleet Services Fund', Decimal('33752004.97')),\n",
       " ('GCP-Transp Mobility Impv P1/00', Decimal('32496988.02')),\n",
       " ('Austin Resource Recovery Fund', Decimal('29250769.83')),\n",
       " ('GCP-Mobility P1/2010', Decimal('28780891.26')),\n",
       " ('GCP-Open Space P13/2012', Decimal('28377398.15')),\n",
       " ('Convention Center HOT Debt Service Fund-Subordinate Lien', Decimal('26491156.81')),\n",
       " ('Housing P1/2013', Decimal('25524772.15')),\n",
       " ('Airport Revenue Bond Redemption Fund', Decimal('25281960.95')),\n",
       " ('Cultural Arts Fund', Decimal('24284326.50')),\n",
       " ('Vehicle Acquisition Fund', Decimal('23462562.00')),\n",
       " ('GCP-Tpsd General Improvements', Decimal('21376915.24')),\n",
       " ('W-Water Improvements', Decimal('20142111.82')),\n",
       " ('E-Transmission Capital', Decimal('19710751.61')),\n",
       " ('2013ABIA Construction RevBonds', Decimal('18877048.29')),\n",
       " ('Convention Center Operating Fund', Decimal('18531754.11')),\n",
       " ('Combined Transportation, Emergency & Communications Ctr Fund', Decimal('17858863.78')),\n",
       " ('Drainage Utility Fund', Decimal('17639911.97')),\n",
       " ('US Housing/Urban Development-CDBG', Decimal('17203807.36')),\n",
       " ('Utility Debt Service Fund-Prior Lien', Decimal('16207849.77')),\n",
       " ('Convention Center HOT Debt Service Fund', Decimal('15562649.50')),\n",
       " ('GCP-Library Automation System', Decimal('15297791.41')),\n",
       " ('GCP-Parks P14/2012', Decimal('14544832.88')),\n",
       " ('Liability Reserve Fund', Decimal('14399876.60')),\n",
       " ('Economic Development Fund', Decimal('14395850.13')),\n",
       " ('Wireless Communication Services Fund', Decimal('13302066.11')),\n",
       " ('GGCIP - Parks and Recreation', Decimal('12965277.75')),\n",
       " ('GCP-CMTA Mobility', Decimal('12921861.59')),\n",
       " ('GCP-Drainage & Open Space P2/2006', Decimal('12880160.59')),\n",
       " ('GCP-Fleet General Improvements', Decimal('12650694.10')),\n",
       " ('GCP-Auditorium', Decimal('12018039.32')),\n",
       " ('1115 Medicaid Waiver', Decimal('11762187.66')),\n",
       " ('Water Inventory Fund', Decimal('11429227.37')),\n",
       " ('GCP-Parks P3/2006', Decimal('11423598.25')),\n",
       " ('GCP-Golf', Decimal('11295798.66')),\n",
       " ('Ryan White Part A HIV/AIDS', Decimal('10803389.52')),\n",
       " ('Mueller Local Government Corp', Decimal('10361070.06')),\n",
       " ('US Housing/Urban Development-HOME', Decimal('10355685.84')),\n",
       " ('Water Reclamation Initv', Decimal('9348635.66')),\n",
       " ('Conv Ctr Town Lake Park Venue Project Bond Redemption Fund', Decimal('9115525.00')),\n",
       " ('Downtown Public Improvement District', Decimal('8598397.50')),\n",
       " ('General Fund Inventory Fund', Decimal('8527965.33')),\n",
       " ('Transportation Inventory Fund', Decimal('8203422.04')),\n",
       " ('General Fund One-Time Expenditure Fund', Decimal('7570060.60')),\n",
       " ('E-Distribution Substations Cap', Decimal('7516227.49')),\n",
       " ('GCP-Public Works-Grants', Decimal('7346134.20')),\n",
       " ('GCP-Transportation P1/2006', Decimal('6939448.78')),\n",
       " ('GCP-Housing Misc Projects', Decimal('6634470.65')),\n",
       " ('GCP-Parkland Dedication Improv', Decimal('6497128.65')),\n",
       " ('Austin Code Fund', Decimal('5788040.42')),\n",
       " ('E-Metering Capital', Decimal('5722242.81')),\n",
       " ('Mobility Fund', Decimal('5405624.69')),\n",
       " (\"Workers' Compensation Fund\", Decimal('4853384.48')),\n",
       " ('GCP-NPZ General', Decimal('4520140.60')),\n",
       " ('CAMPO (formerly ATS)', Decimal('4511405.55')),\n",
       " ('Convention Center Waller Creek Venue Debt Service Fund', Decimal('4443850.00')),\n",
       " ('E-Capital Equipment Additions', Decimal('4347214.25')),\n",
       " ('Performance Contracting Fund', Decimal('4290585.96')),\n",
       " ('Capital Projects Management Fund', Decimal('4103358.87')),\n",
       " ('GCP-Public Safety P16/2012', Decimal('4064651.09')),\n",
       " ('Parking Management Fund', Decimal('4037086.18')),\n",
       " ('Regional Stormwater Projects', Decimal('3882448.18')),\n",
       " ('S-Wastewater Acquisitions Co', Decimal('3846561.99')),\n",
       " ('HUD Section 108 Family Business Loan Program Fund', Decimal('3817425.93')),\n",
       " ('Austin Cable Access Fund', Decimal('3626672.18')),\n",
       " ('Public Improvement District', Decimal('3506265.50')),\n",
       " ('Public Works  Transportation CIP', Decimal('3444152.79')),\n",
       " ('Neighborhood Housing and Community Development Fund', Decimal('3440664.38')),\n",
       " ('GCP-PARD--Infrastructure', Decimal('3224377.56')),\n",
       " ('HUD Section 108 Debt Service Fund', Decimal('3215649.84')),\n",
       " ('GCP-Public Safety P7/2006', Decimal('3091610.77')),\n",
       " ('HOPWA- HUD 09', Decimal('3038596.63')),\n",
       " ('GCP-Affordable Housing P5/2006', Decimal('3023756.97')),\n",
       " ('Golf Fund', Decimal('2813865.11')),\n",
       " ('US Department of Justice', Decimal('2722296.78')),\n",
       " ('Neighborhood Housing-Housing Trust Fund', Decimal('2636913.77')),\n",
       " ('Convention Center Palmer Events Center Operating Fund', Decimal('2568066.16')),\n",
       " ('General Fund Budget Stabilization Reserve Fund', Decimal('2409801.63')),\n",
       " ('US HUD-Office of Sustainable Housing and Communities', Decimal('2399789.38')),\n",
       " ('S-Ww/Improve Upgrade Replace', Decimal('2364176.37')),\n",
       " ('GCP-Parks Land & Fac P2/98', Decimal('2349485.66')),\n",
       " ('Waller Creek Tunnel', Decimal('2325007.35')),\n",
       " ('Ryan White Part C', Decimal('2240454.94')),\n",
       " ('W-Water Acquisitions - Cont Ob', Decimal('2090083.22')),\n",
       " ('Sustainability Fund', Decimal('2069601.10')),\n",
       " ('US Dept of Homeland Security', Decimal('2000219.09')),\n",
       " ('GCP-Health P17/2012', Decimal('1989041.98')),\n",
       " ('Municipal Court Traffic Safety Fund', Decimal('1833738.08')),\n",
       " ('E-Support Services Debt', Decimal('1826168.41')),\n",
       " ('GCP-Library & Cultural P18/2012', Decimal('1811149.07')),\n",
       " ('City Hall Fund', Decimal('1612092.16')),\n",
       " ('Police Federal Department of Justice Asset Forfeiture Fund', Decimal('1595577.02')),\n",
       " ('Municipal Court Technology Fund', Decimal('1595521.81')),\n",
       " ('Rutherford Lane Facility Fund', Decimal('1549968.43')),\n",
       " ('Watershed Enterprise Grants', Decimal('1522520.22')),\n",
       " ('Texas Dept of Housing and Community Affairs', Decimal('1511536.31')),\n",
       " ('Refugee Health Services', Decimal('1449080.90')),\n",
       " ('US Housing/Urban Development-Lead', Decimal('1274581.45')),\n",
       " ('GCP-Drng/Fld Imp 84 Auth P19', Decimal('1240325.17')),\n",
       " ('Radio Inventory', Decimal('1156764.35')),\n",
       " ('Emergency Shelter Grant 2008-10', Decimal('1146538.95')),\n",
       " ('Convention Center Repair and Replacement Fund', Decimal('1137573.37')),\n",
       " ('Parking CIP', Decimal('1091524.00')),\n",
       " ('Women/Infants/Children', Decimal('914577.22')),\n",
       " ('Austin Energy Enterprise Grants', Decimal('891100.27')),\n",
       " ('Wildland Conservation Fund', Decimal('854370.79')),\n",
       " ('Police Federal Department of Treasury Asset Forfeiture Fund', Decimal('845791.31')),\n",
       " ('Police State Contraband Asset Forfeiture Fund', Decimal('818296.02')),\n",
       " ('ATD Transportation CIP', Decimal('727538.30')),\n",
       " ('ARIC Sustainability', Decimal('677836.05')),\n",
       " ('Youth of Promise Initiative', Decimal('654133.51')),\n",
       " ('GCP-Police/Courts Bond Fund', Decimal('641850.53')),\n",
       " ('GCP-Library & Cul Ctr P4/98', Decimal('634203.97')),\n",
       " ('GCP-Trans, St, Signals P1/98', Decimal('585023.21')),\n",
       " ('GCP-Cultural Facilities P4/2006', Decimal('539770.33')),\n",
       " ('Housing Assistance Unrestricte', Decimal('506675.77')),\n",
       " ('Friends of APL', Decimal('505090.41')),\n",
       " ('Rainey Street District Fund', Decimal('500000.00')),\n",
       " ('Waller Creek Local Gov Corp', Decimal('500000.00')),\n",
       " ('Urban Forest Replenishment Fun', Decimal('481906.47')),\n",
       " ('Municipal Court Building Security Fund', Decimal('469690.11')),\n",
       " ('ARRA Wastewater Improvements--Nva', Decimal('412589.64')),\n",
       " ('Water Reclamation', Decimal('411956.80')),\n",
       " ('Public/Private Ventures', Decimal('408390.50')),\n",
       " ('HIV Prevention', Decimal('405141.80')),\n",
       " ('Community Transformation Grant', Decimal('386429.75')),\n",
       " ('Second Street Tax Increment Financing Fund', Decimal('340482.92')),\n",
       " ('GCP-Street Imp 84 Auth P18', Decimal('322091.31')),\n",
       " ('US Housing/Urban Development CDBG', Decimal('314412.79')),\n",
       " ('Long Center Capital Improvements Fund', Decimal('300000.00')),\n",
       " ('Community Services Block Grant', Decimal('288913.54')),\n",
       " ('GCP-Public Safety Fac P3/98', Decimal('284953.90')),\n",
       " ('Animal Services Fund', Decimal('278308.39')),\n",
       " ('US Department of Transportation', Decimal('274868.96')),\n",
       " ('E Sixth St Pub Impr Distr', Decimal('249179.00')),\n",
       " ('Municipal Court Juvenile Case Manager Fund', Decimal('244479.68')),\n",
       " ('W-Wtp #4 & Facilities   P04/84', Decimal('231463.78')),\n",
       " ('Science Fest', Decimal('230112.35')),\n",
       " ('TX SHS-TB Prevention & Control', Decimal('226244.21')),\n",
       " ('GCP-Fire-General', Decimal('225296.91')),\n",
       " ('Pard Miscellaneous T & A', Decimal('214920.10')),\n",
       " ('Community Development Incentives Fund', Decimal('161752.50')),\n",
       " ('Music Venue Assistance Program Fund', Decimal('158315.24')),\n",
       " ('Town Lake/Comm Events P11/98', Decimal('157916.26')),\n",
       " ('GCP-Build Austin (Cap Metro)', Decimal('156302.00')),\n",
       " ('Public Health Emergency Preparedness', Decimal('155366.56')),\n",
       " ('Tuberculosis Outreach', Decimal('150675.18')),\n",
       " ('Convention Center Marketing and Promotion Fund', Decimal('150046.45')),\n",
       " ('Texas Department of Motor Vehicles', Decimal('148522.85')),\n",
       " ('US Housing/Urban Development-EDI', Decimal('147000.00')),\n",
       " ('Child Safety Fund', Decimal('137598.56')),\n",
       " ('Convention Center Palmer Events Center Garage Fund', Decimal('129379.25')),\n",
       " ('US Department of State', Decimal('124643.93')),\n",
       " ('Special Library', Decimal('112973.86')),\n",
       " ('South Congress Public Improvement District', Decimal('107447.00')),\n",
       " ('GCP-Capital Reserve', Decimal('107370.57')),\n",
       " ('East 6th Street Public Improvement District', Decimal('103191.00')),\n",
       " ('Summer Musical', Decimal('98152.45')),\n",
       " ('Healthy Adolescent-US HHS', Decimal('97660.21')),\n",
       " ('GCP-Health Misc Projects', Decimal('97387.05')),\n",
       " ('Dept of State Health Services', Decimal('84118.21')),\n",
       " ('Campaign Financing Fund', Decimal('83965.74')),\n",
       " ('Texas Commission of the Arts', Decimal('81241.22')),\n",
       " ('I-35 Parking Program Fund', Decimal('78953.88')),\n",
       " ('Police State Gambling Asset Forfeiture Fund', Decimal('77756.42')),\n",
       " ('Reclaimed Water Utility Operating Fund', Decimal('71261.16')),\n",
       " ('Planting For The Future Fund', Decimal('67225.80')),\n",
       " ('Music Loan Program Fund', Decimal('58000.00')),\n",
       " ('US Housing/Urban Development', Decimal('56895.19')),\n",
       " ('GCP-Interest Income Fund', Decimal('55500.00')),\n",
       " ('Institute of Museum and Library Services', Decimal('53439.07')),\n",
       " ('Public School Energy Asst', Decimal('50869.04')),\n",
       " ('Fund for Cities of Service, Inc', Decimal('48571.56')),\n",
       " ('US HHS-Immunization Outreach', Decimal('47275.35')),\n",
       " ('Police Benefit Fund', Decimal('46650.49')),\n",
       " ('US Health & Human Services', Decimal('42567.62')),\n",
       " ('Zoonosis Control', Decimal('38812.35')),\n",
       " ('Environmental Remediation Fund', Decimal('36509.66')),\n",
       " (\"Texas Governor's Office\", Decimal('35273.58')),\n",
       " ('PHEP - Discretionary Fund Projects', Decimal('34201.16')),\n",
       " ('STD Control', Decimal('28934.71')),\n",
       " ('Auto Theft Interdiction Seizur', Decimal('23899.50')),\n",
       " ('Community Diabetes Proj-FY08-09', Decimal('23159.20')),\n",
       " ('Texas Health and Human Services Commission', Decimal('19649.40')),\n",
       " ('Wtrshd Protectn Annexed Areas', Decimal('18781.00')),\n",
       " ('Influenza Incidence Surveillance Project', Decimal('17621.57')),\n",
       " ('Trustee-Ellis Library Fund', Decimal('16685.38')),\n",
       " ('City Manager/OEM Misc', Decimal('15697.50')),\n",
       " ('GCP-Police Substns      P03/92', Decimal('12748.00')),\n",
       " ('PARD Private Grant', Decimal('11654.85')),\n",
       " ('US Dept of Interior National Park Service', Decimal('11043.75')),\n",
       " ('Austin History Center', Decimal('5803.00')),\n",
       " ('GCP-Asbsts/Ada/Hlth Cln P04/92', Decimal('3949.40')),\n",
       " ('US Environmental Protection Agency', Decimal('3250.00')),\n",
       " ('Fire Miscellaneous', Decimal('2706.54')),\n",
       " ('Unclaimed Property', Decimal('2326.60')),\n",
       " ('US Housing/Urban Development HOME', Decimal('2300.51')),\n",
       " ('HIV Surveillance', Decimal('2180.43')),\n",
       " ('Tobacco Prevention and Control Coalition Program', Decimal('2177.42')),\n",
       " ('Parks and Wildlife', Decimal('1506.07')),\n",
       " ('Mueller Development Fund', Decimal('1458.00')),\n",
       " ('Grant Clearing', Decimal('1020.07')),\n",
       " ('Conservation Rebates and Incentives Fund', Decimal('855.00')),\n",
       " ('One Texas Center Fund', Decimal('771.49')),\n",
       " ('W-Water/Improv, Uprgrad P06/98', Decimal('193.80')),\n",
       " ('Citizen Corps Council Iniatives', Decimal('133.78')),\n",
       " ('ARRA - Tobacco Prevention', Decimal('29.97'))]"
      ]
     },
     "execution_count": 16,
     "metadata": {},
     "output_type": "execute_result"
    }
   ],
   "source": [
    "%%sql\n",
    "\n",
    "SELECT f.fund_nm, sum(a.amount) as spending_sum\n",
    "FROM fact_spending a, dim_fund f\n",
    "WHERE a.fund_id = f.fund_key\n",
    "AND f.fund_nm in \n",
    "(SELECT distinct f.fund_nm\n",
    "from dim_fund f\n",
    ")\n",
    "\n",
    "GROUP BY f.fund_nm\n",
    "ORDER BY spending_sum DESC;"
   ]
  },
  {
   "cell_type": "code",
   "execution_count": 17,
   "metadata": {
    "collapsed": true,
    "slideshow": {
     "slide_type": "skip"
    }
   },
   "outputs": [],
   "source": [
    "result = _\n",
    "df = result.DataFrame()\n",
    "df.spending_sum = df.spending_sum.astype(float)"
   ]
  },
  {
   "cell_type": "code",
   "execution_count": 18,
   "metadata": {
    "collapsed": false,
    "slideshow": {
     "slide_type": "skip"
    }
   },
   "outputs": [
    {
     "name": "stderr",
     "output_type": "stream",
     "text": [
      "//anaconda/lib/python3.5/site-packages/pandas/core/indexing.py:465: SettingWithCopyWarning: \n",
      "A value is trying to be set on a copy of a slice from a DataFrame.\n",
      "Try using .loc[row_indexer,col_indexer] = value instead\n",
      "\n",
      "See the caveats in the documentation: http://pandas.pydata.org/pandas-docs/stable/indexing.html#indexing-view-versus-copy\n",
      "  self.obj[item] = s\n"
     ]
    }
   ],
   "source": [
    "df2 = df[:11]\n",
    "df2.iloc[10, 0]= 'other'\n",
    "df2.iloc[10, 1]= df[10:]['spending_sum'].sum()"
   ]
  },
  {
   "cell_type": "code",
   "execution_count": 36,
   "metadata": {
    "collapsed": false,
    "slideshow": {
     "slide_type": "skip"
    }
   },
   "outputs": [],
   "source": [
    "import plotly \n",
    "from plotly.graph_objs import *\n",
    "plotly.tools.set_credentials_file(username='zoeyxrz', api_key='CPHKqljiad3I1ShOUvAk')\n",
    "py.sign_in(\"zoeyxrz\", \"CPHKqljiad3I1ShOUvAk\")"
   ]
  },
  {
   "cell_type": "markdown",
   "metadata": {
    "slideshow": {
     "slide_type": "skip"
    }
   },
   "source": [
    "Using Plotly API to plot the pie chart more appealing. "
   ]
  },
  {
   "cell_type": "code",
   "execution_count": 50,
   "metadata": {
    "collapsed": false,
    "slideshow": {
     "slide_type": "skip"
    }
   },
   "outputs": [],
   "source": [
    "fig = {\n",
    "    'data': [\n",
    "        {\n",
    "            'labels': df2['fund_nm'],\n",
    "            'values': df2['spending_sum'],\n",
    "            'type': 'pie',\n",
    "            'name': 'Fund by',\n",
    "            'marker': {'colors': ['rgb(238, 239, 255)',\n",
    "                                  'rgb(252, 234, 187)',\n",
    "                                  'rgb(193, 192, 125)',\n",
    "                                  'rgb(252, 190, 193)',\n",
    "                                  'rgb(165, 163, 160)',\n",
    "                                  'rgb(206, 192, 187)',\n",
    "                                 'rgb(206, 202, 200)',\n",
    "                                 'rgb(194, 157, 200)',\n",
    "                                 'rgb(163,200,157)',\n",
    "                                 'rgb(173,157,200)',\n",
    "                                 'rgb(173, 216, 230)']},\n",
    "            'domain': {'x': [0, 1],\n",
    "                       'y': [0, 1]},\n",
    "            'hoverinfo':'label+percent+name',\n",
    "            'textinfo':df2['fund_nm']\n",
    "        },\n",
    "        \n",
    "    ],\n",
    "    'layout': {'title': 'Spending proportion by fund type',\n",
    "               'showlegend': True}\n",
    "}"
   ]
  },
  {
   "cell_type": "code",
   "execution_count": 51,
   "metadata": {
    "collapsed": false,
    "slideshow": {
     "slide_type": "slide"
    }
   },
   "outputs": [
    {
     "data": {
      "text/html": [
       "<iframe id=\"igraph\" scrolling=\"no\" style=\"border:none;\" seamless=\"seamless\" src=\"https://plot.ly/~zoeyxrz/12.embed\" height=\"525px\" width=\"100%\"></iframe>"
      ],
      "text/plain": [
       "<plotly.tools.PlotlyDisplay object>"
      ]
     },
     "execution_count": 51,
     "metadata": {},
     "output_type": "execute_result"
    }
   ],
   "source": [
    "py.iplot(fig)"
   ]
  },
  {
   "cell_type": "raw",
   "metadata": {
    "slideshow": {
     "slide_type": "skip"
    }
   },
   "source": [
    "As we can see from the pie chart, the type of fund that took the largest proportion are the debt service fund. This corresponds to our finding in other parts that tells us the huge proportion of Austin government money was putting into the fund to use for the purpose of paying back the loan and debt."
   ]
  },
  {
   "cell_type": "markdown",
   "metadata": {
    "slideshow": {
     "slide_type": "slide"
    }
   },
   "source": [
    "What is the Quarter wise total spend per year?"
   ]
  },
  {
   "cell_type": "code",
   "execution_count": 109,
   "metadata": {
    "collapsed": false,
    "slideshow": {
     "slide_type": "skip"
    }
   },
   "outputs": [
    {
     "name": "stdout",
     "output_type": "stream",
     "text": [
      "12 rows affected.\n"
     ]
    },
    {
     "data": {
      "text/html": [
       "<table>\n",
       "    <tr>\n",
       "        <th>fy_dc</th>\n",
       "        <th>fy_quarter</th>\n",
       "        <th>year-quarter</th>\n",
       "        <th>Total Spend</th>\n",
       "    </tr>\n",
       "    <tr>\n",
       "        <td>2014</td>\n",
       "        <td>Q1</td>\n",
       "        <td>2014-Q1</td>\n",
       "        <td>559883785.39</td>\n",
       "    </tr>\n",
       "    <tr>\n",
       "        <td>2014</td>\n",
       "        <td>Q2</td>\n",
       "        <td>2014-Q2</td>\n",
       "        <td>284642298.70</td>\n",
       "    </tr>\n",
       "    <tr>\n",
       "        <td>2014</td>\n",
       "        <td>Q3</td>\n",
       "        <td>2014-Q3</td>\n",
       "        <td>447861000.75</td>\n",
       "    </tr>\n",
       "    <tr>\n",
       "        <td>2014</td>\n",
       "        <td>Q4</td>\n",
       "        <td>2014-Q4</td>\n",
       "        <td>365499023.52</td>\n",
       "    </tr>\n",
       "    <tr>\n",
       "        <td>2015</td>\n",
       "        <td>Q1</td>\n",
       "        <td>2015-Q1</td>\n",
       "        <td>524747640.50</td>\n",
       "    </tr>\n",
       "    <tr>\n",
       "        <td>2015</td>\n",
       "        <td>Q2</td>\n",
       "        <td>2015-Q2</td>\n",
       "        <td>271548707.82</td>\n",
       "    </tr>\n",
       "    <tr>\n",
       "        <td>2015</td>\n",
       "        <td>Q3</td>\n",
       "        <td>2015-Q3</td>\n",
       "        <td>383701150.70</td>\n",
       "    </tr>\n",
       "    <tr>\n",
       "        <td>2015</td>\n",
       "        <td>Q4</td>\n",
       "        <td>2015-Q4</td>\n",
       "        <td>355083112.87</td>\n",
       "    </tr>\n",
       "    <tr>\n",
       "        <td>2016</td>\n",
       "        <td>Q1</td>\n",
       "        <td>2016-Q1</td>\n",
       "        <td>507861370.61</td>\n",
       "    </tr>\n",
       "    <tr>\n",
       "        <td>2016</td>\n",
       "        <td>Q2</td>\n",
       "        <td>2016-Q2</td>\n",
       "        <td>293662855.55</td>\n",
       "    </tr>\n",
       "    <tr>\n",
       "        <td>2016</td>\n",
       "        <td>Q3</td>\n",
       "        <td>2016-Q3</td>\n",
       "        <td>393783271.87</td>\n",
       "    </tr>\n",
       "    <tr>\n",
       "        <td>2016</td>\n",
       "        <td>Q4</td>\n",
       "        <td>2016-Q4</td>\n",
       "        <td>284829913.49</td>\n",
       "    </tr>\n",
       "</table>"
      ],
      "text/plain": [
       "[(2014, 'Q1', '2014-Q1', Decimal('559883785.39')),\n",
       " (2014, 'Q2', '2014-Q2', Decimal('284642298.70')),\n",
       " (2014, 'Q3', '2014-Q3', Decimal('447861000.75')),\n",
       " (2014, 'Q4', '2014-Q4', Decimal('365499023.52')),\n",
       " (2015, 'Q1', '2015-Q1', Decimal('524747640.50')),\n",
       " (2015, 'Q2', '2015-Q2', Decimal('271548707.82')),\n",
       " (2015, 'Q3', '2015-Q3', Decimal('383701150.70')),\n",
       " (2015, 'Q4', '2015-Q4', Decimal('355083112.87')),\n",
       " (2016, 'Q1', '2016-Q1', Decimal('507861370.61')),\n",
       " (2016, 'Q2', '2016-Q2', Decimal('293662855.55')),\n",
       " (2016, 'Q3', '2016-Q3', Decimal('393783271.87')),\n",
       " (2016, 'Q4', '2016-Q4', Decimal('284829913.49'))]"
      ]
     },
     "execution_count": 109,
     "metadata": {},
     "output_type": "execute_result"
    }
   ],
   "source": [
    "%%sql\n",
    "\n",
    "SELECT \n",
    "    d.fy_dc\n",
    "    ,d.fy_quarter\n",
    "    ,d.fy_dc ||'-' || d.fy_quarter as \"year-quarter\"\n",
    "    ,SUM(f.amount) AS \"Total Spend\"\n",
    "FROM FACT_spending f LEFT JOIN DIM_date d\n",
    "ON f.date_id=d.date_key\n",
    "GROUP BY d.fy_dc,d.fy_quarter\n",
    "ORDER BY d.fy_dc,d.fy_quarter;"
   ]
  },
  {
   "cell_type": "code",
   "execution_count": 110,
   "metadata": {
    "collapsed": true,
    "slideshow": {
     "slide_type": "skip"
    }
   },
   "outputs": [],
   "source": [
    "result=_"
   ]
  },
  {
   "cell_type": "code",
   "execution_count": 113,
   "metadata": {
    "collapsed": false,
    "slideshow": {
     "slide_type": "slide"
    }
   },
   "outputs": [
    {
     "data": {
      "text/plain": [
       "<seaborn.axisgrid.FacetGrid at 0x11cbc86d8>"
      ]
     },
     "execution_count": 113,
     "metadata": {},
     "output_type": "execute_result"
    },
    {
     "data": {
      "image/png": "[encoded data removed]",
      "text/plain": [
       "<matplotlib.figure.Figure at 0x11bc7fb38>"
      ]
     },
     "metadata": {},
     "output_type": "display_data"
    }
   ],
   "source": [
    "data=pd.DataFrame(result)\n",
    "data.columns=['fy_year','fy_quarter','year-quarter','total_spend']\n",
    "sns.set(style = \"whitegrid\")\n",
    "g = sns.factorplot(x = 'year-quarter',y='total_spend',data = data,size = 7.5, kind  = 'bar', palette = 'Set2')\n",
    "g.despine(left = True)"
   ]
  },
  {
   "cell_type": "markdown",
   "metadata": {
    "slideshow": {
     "slide_type": "slide"
    }
   },
   "source": [
    "What is the Quarter on Quarter change in the spend of Austin city?"
   ]
  },
  {
   "cell_type": "code",
   "execution_count": 89,
   "metadata": {
    "collapsed": false,
    "slideshow": {
     "slide_type": "skip"
    }
   },
   "outputs": [
    {
     "name": "stdout",
     "output_type": "stream",
     "text": [
      "12 rows affected.\n"
     ]
    },
    {
     "data": {
      "text/html": [
       "<table>\n",
       "    <tr>\n",
       "        <th>fy_dc</th>\n",
       "        <th>fy_quarter</th>\n",
       "        <th>year-quarter</th>\n",
       "        <th>Total Spend</th>\n",
       "        <th>%Change Per Quarter</th>\n",
       "    </tr>\n",
       "    <tr>\n",
       "        <td>2014</td>\n",
       "        <td>Q1</td>\n",
       "        <td>2014-Q1</td>\n",
       "        <td>559883785.39</td>\n",
       "        <td>None</td>\n",
       "    </tr>\n",
       "    <tr>\n",
       "        <td>2014</td>\n",
       "        <td>Q2</td>\n",
       "        <td>2014-Q2</td>\n",
       "        <td>284642298.70</td>\n",
       "        <td>-49</td>\n",
       "    </tr>\n",
       "    <tr>\n",
       "        <td>2014</td>\n",
       "        <td>Q3</td>\n",
       "        <td>2014-Q3</td>\n",
       "        <td>447861000.75</td>\n",
       "        <td>57</td>\n",
       "    </tr>\n",
       "    <tr>\n",
       "        <td>2014</td>\n",
       "        <td>Q4</td>\n",
       "        <td>2014-Q4</td>\n",
       "        <td>365499023.52</td>\n",
       "        <td>-18</td>\n",
       "    </tr>\n",
       "    <tr>\n",
       "        <td>2015</td>\n",
       "        <td>Q1</td>\n",
       "        <td>2015-Q1</td>\n",
       "        <td>524747640.50</td>\n",
       "        <td>44</td>\n",
       "    </tr>\n",
       "    <tr>\n",
       "        <td>2015</td>\n",
       "        <td>Q2</td>\n",
       "        <td>2015-Q2</td>\n",
       "        <td>271548707.82</td>\n",
       "        <td>-48</td>\n",
       "    </tr>\n",
       "    <tr>\n",
       "        <td>2015</td>\n",
       "        <td>Q3</td>\n",
       "        <td>2015-Q3</td>\n",
       "        <td>383701150.70</td>\n",
       "        <td>41</td>\n",
       "    </tr>\n",
       "    <tr>\n",
       "        <td>2015</td>\n",
       "        <td>Q4</td>\n",
       "        <td>2015-Q4</td>\n",
       "        <td>355083112.87</td>\n",
       "        <td>-7</td>\n",
       "    </tr>\n",
       "    <tr>\n",
       "        <td>2016</td>\n",
       "        <td>Q1</td>\n",
       "        <td>2016-Q1</td>\n",
       "        <td>507861370.61</td>\n",
       "        <td>43</td>\n",
       "    </tr>\n",
       "    <tr>\n",
       "        <td>2016</td>\n",
       "        <td>Q2</td>\n",
       "        <td>2016-Q2</td>\n",
       "        <td>293662855.55</td>\n",
       "        <td>-42</td>\n",
       "    </tr>\n",
       "    <tr>\n",
       "        <td>2016</td>\n",
       "        <td>Q3</td>\n",
       "        <td>2016-Q3</td>\n",
       "        <td>393783271.87</td>\n",
       "        <td>34</td>\n",
       "    </tr>\n",
       "    <tr>\n",
       "        <td>2016</td>\n",
       "        <td>Q4</td>\n",
       "        <td>2016-Q4</td>\n",
       "        <td>284829913.49</td>\n",
       "        <td>-28</td>\n",
       "    </tr>\n",
       "</table>"
      ],
      "text/plain": [
       "[(2014, 'Q1', '2014-Q1', Decimal('559883785.39'), None),\n",
       " (2014, 'Q2', '2014-Q2', Decimal('284642298.70'), -49),\n",
       " (2014, 'Q3', '2014-Q3', Decimal('447861000.75'), 57),\n",
       " (2014, 'Q4', '2014-Q4', Decimal('365499023.52'), -18),\n",
       " (2015, 'Q1', '2015-Q1', Decimal('524747640.50'), 44),\n",
       " (2015, 'Q2', '2015-Q2', Decimal('271548707.82'), -48),\n",
       " (2015, 'Q3', '2015-Q3', Decimal('383701150.70'), 41),\n",
       " (2015, 'Q4', '2015-Q4', Decimal('355083112.87'), -7),\n",
       " (2016, 'Q1', '2016-Q1', Decimal('507861370.61'), 43),\n",
       " (2016, 'Q2', '2016-Q2', Decimal('293662855.55'), -42),\n",
       " (2016, 'Q3', '2016-Q3', Decimal('393783271.87'), 34),\n",
       " (2016, 'Q4', '2016-Q4', Decimal('284829913.49'), -28)]"
      ]
     },
     "execution_count": 89,
     "metadata": {},
     "output_type": "execute_result"
    }
   ],
   "source": [
    "%%sql\n",
    "\n",
    "SELECT \n",
    "    d.fy_dc\n",
    "    ,d.fy_quarter\n",
    "    ,d.fy_dc ||'-' || d.fy_quarter as \"year-quarter\"\n",
    "    ,SUM(f.amount) AS \"Total Spend\" \n",
    "    ,CAST(((SUM(f.amount)- LAG(SUM(f.amount)) OVER (ORDER BY d.fy_dc,d.fy_quarter))/LAG(SUM(f.amount)) OVER (ORDER BY d.fy_dc,d.fy_quarter))*100 AS INTEGER) AS \"%Change Per Quarter\"\n",
    "FROM FACT_spending f LEFT JOIN DIM_date d\n",
    "ON f.date_id=d.date_key\n",
    "GROUP BY d.fy_dc,d.fy_quarter\n",
    "ORDER BY d.fy_dc,d.fy_quarter;"
   ]
  },
  {
   "cell_type": "code",
   "execution_count": 90,
   "metadata": {
    "collapsed": false,
    "slideshow": {
     "slide_type": "slide"
    }
   },
   "outputs": [
    {
     "data": {
      "text/plain": [
       "<matplotlib.axes._subplots.AxesSubplot at 0x11b753748>"
      ]
     },
     "execution_count": 90,
     "metadata": {},
     "output_type": "execute_result"
    },
    {
     "data": {
      "image/png": "[encoded data removed]",
      "text/plain": [
       "<matplotlib.figure.Figure at 0x11b758438>"
      ]
     },
     "metadata": {},
     "output_type": "display_data"
    }
   ],
   "source": [
    "result=_\n",
    "data=pd.DataFrame(result)\n",
    "data.columns= ['fy','quarter','year-quarter','Total Spend','%Change in Spend']\n",
    "data.plot(x='year-quarter',y='%Change in Spend', color='red')"
   ]
  },
  {
   "cell_type": "markdown",
   "metadata": {
    "slideshow": {
     "slide_type": "skip"
    }
   },
   "source": [
    "We can see a trend that first and third quarters of each year have high %change in spending when compared to the previous quarter and hence we can assume some seasonality effect. Similarly we see a slump in the amount spent in the second and fourth quarters."
   ]
  },
  {
   "cell_type": "markdown",
   "metadata": {
    "slideshow": {
     "slide_type": "slide"
    }
   },
   "source": [
    "Further drilling down the quarter to find the seasonality"
   ]
  },
  {
   "cell_type": "code",
   "execution_count": 141,
   "metadata": {
    "collapsed": false
   },
   "outputs": [
    {
     "name": "stdout",
     "output_type": "stream",
     "text": [
      "36 rows affected.\n"
     ]
    },
    {
     "data": {
      "text/html": [
       "<table>\n",
       "    <tr>\n",
       "        <th>fy</th>\n",
       "        <th>fy_quarter</th>\n",
       "        <th>fy_month</th>\n",
       "        <th>Year-month</th>\n",
       "        <th>sum</th>\n",
       "    </tr>\n",
       "    <tr>\n",
       "        <td>FY14</td>\n",
       "        <td>Q1</td>\n",
       "        <td>OCT</td>\n",
       "        <td>FY14-OCT</td>\n",
       "        <td>130338506.44</td>\n",
       "    </tr>\n",
       "    <tr>\n",
       "        <td>FY14</td>\n",
       "        <td>Q1</td>\n",
       "        <td>NOV</td>\n",
       "        <td>FY14-NOV</td>\n",
       "        <td>306771180.57</td>\n",
       "    </tr>\n",
       "    <tr>\n",
       "        <td>FY14</td>\n",
       "        <td>Q1</td>\n",
       "        <td>DEC</td>\n",
       "        <td>FY14-DEC</td>\n",
       "        <td>122774098.38</td>\n",
       "    </tr>\n",
       "    <tr>\n",
       "        <td>FY14</td>\n",
       "        <td>Q2</td>\n",
       "        <td>JAN</td>\n",
       "        <td>FY14-JAN</td>\n",
       "        <td>82773844.62</td>\n",
       "    </tr>\n",
       "    <tr>\n",
       "        <td>FY14</td>\n",
       "        <td>Q2</td>\n",
       "        <td>FEB</td>\n",
       "        <td>FY14-FEB</td>\n",
       "        <td>80949014.44</td>\n",
       "    </tr>\n",
       "    <tr>\n",
       "        <td>FY14</td>\n",
       "        <td>Q2</td>\n",
       "        <td>MAR</td>\n",
       "        <td>FY14-MAR</td>\n",
       "        <td>120919439.64</td>\n",
       "    </tr>\n",
       "    <tr>\n",
       "        <td>FY14</td>\n",
       "        <td>Q3</td>\n",
       "        <td>APR</td>\n",
       "        <td>FY14-APR</td>\n",
       "        <td>107933955.68</td>\n",
       "    </tr>\n",
       "    <tr>\n",
       "        <td>FY14</td>\n",
       "        <td>Q3</td>\n",
       "        <td>MAY</td>\n",
       "        <td>FY14-MAY</td>\n",
       "        <td>239525125.22</td>\n",
       "    </tr>\n",
       "    <tr>\n",
       "        <td>FY14</td>\n",
       "        <td>Q3</td>\n",
       "        <td>JUN</td>\n",
       "        <td>FY14-JUN</td>\n",
       "        <td>100401919.85</td>\n",
       "    </tr>\n",
       "    <tr>\n",
       "        <td>FY14</td>\n",
       "        <td>Q4</td>\n",
       "        <td>JUL</td>\n",
       "        <td>FY14-JUL</td>\n",
       "        <td>99641448.24</td>\n",
       "    </tr>\n",
       "    <tr>\n",
       "        <td>FY14</td>\n",
       "        <td>Q4</td>\n",
       "        <td>AUG</td>\n",
       "        <td>FY14-AUG</td>\n",
       "        <td>86490160.87</td>\n",
       "    </tr>\n",
       "    <tr>\n",
       "        <td>FY14</td>\n",
       "        <td>Q4</td>\n",
       "        <td>SEP</td>\n",
       "        <td>FY14-SEP</td>\n",
       "        <td>179367414.41</td>\n",
       "    </tr>\n",
       "    <tr>\n",
       "        <td>FY15</td>\n",
       "        <td>Q1</td>\n",
       "        <td>OCT</td>\n",
       "        <td>FY15-OCT</td>\n",
       "        <td>117622265.40</td>\n",
       "    </tr>\n",
       "    <tr>\n",
       "        <td>FY15</td>\n",
       "        <td>Q1</td>\n",
       "        <td>NOV</td>\n",
       "        <td>FY15-NOV</td>\n",
       "        <td>293835492.48</td>\n",
       "    </tr>\n",
       "    <tr>\n",
       "        <td>FY15</td>\n",
       "        <td>Q1</td>\n",
       "        <td>DEC</td>\n",
       "        <td>FY15-DEC</td>\n",
       "        <td>113289882.62</td>\n",
       "    </tr>\n",
       "    <tr>\n",
       "        <td>FY15</td>\n",
       "        <td>Q2</td>\n",
       "        <td>JAN</td>\n",
       "        <td>FY15-JAN</td>\n",
       "        <td>77069252.30</td>\n",
       "    </tr>\n",
       "    <tr>\n",
       "        <td>FY15</td>\n",
       "        <td>Q2</td>\n",
       "        <td>FEB</td>\n",
       "        <td>FY15-FEB</td>\n",
       "        <td>82002408.60</td>\n",
       "    </tr>\n",
       "    <tr>\n",
       "        <td>FY15</td>\n",
       "        <td>Q2</td>\n",
       "        <td>MAR</td>\n",
       "        <td>FY15-MAR</td>\n",
       "        <td>112477046.92</td>\n",
       "    </tr>\n",
       "    <tr>\n",
       "        <td>FY15</td>\n",
       "        <td>Q3</td>\n",
       "        <td>APR</td>\n",
       "        <td>FY15-APR</td>\n",
       "        <td>83459372.68</td>\n",
       "    </tr>\n",
       "    <tr>\n",
       "        <td>FY15</td>\n",
       "        <td>Q3</td>\n",
       "        <td>MAY</td>\n",
       "        <td>FY15-MAY</td>\n",
       "        <td>218409905.89</td>\n",
       "    </tr>\n",
       "    <tr>\n",
       "        <td>FY15</td>\n",
       "        <td>Q3</td>\n",
       "        <td>JUN</td>\n",
       "        <td>FY15-JUN</td>\n",
       "        <td>81831872.13</td>\n",
       "    </tr>\n",
       "    <tr>\n",
       "        <td>FY15</td>\n",
       "        <td>Q4</td>\n",
       "        <td>JUL</td>\n",
       "        <td>FY15-JUL</td>\n",
       "        <td>102547832.03</td>\n",
       "    </tr>\n",
       "    <tr>\n",
       "        <td>FY15</td>\n",
       "        <td>Q4</td>\n",
       "        <td>AUG</td>\n",
       "        <td>FY15-AUG</td>\n",
       "        <td>75782947.67</td>\n",
       "    </tr>\n",
       "    <tr>\n",
       "        <td>FY15</td>\n",
       "        <td>Q4</td>\n",
       "        <td>SEP</td>\n",
       "        <td>FY15-SEP</td>\n",
       "        <td>176752333.17</td>\n",
       "    </tr>\n",
       "    <tr>\n",
       "        <td>FY16</td>\n",
       "        <td>Q1</td>\n",
       "        <td>OCT</td>\n",
       "        <td>FY16-OCT</td>\n",
       "        <td>106210470.49</td>\n",
       "    </tr>\n",
       "    <tr>\n",
       "        <td>FY16</td>\n",
       "        <td>Q1</td>\n",
       "        <td>NOV</td>\n",
       "        <td>FY16-NOV</td>\n",
       "        <td>298882745.82</td>\n",
       "    </tr>\n",
       "    <tr>\n",
       "        <td>FY16</td>\n",
       "        <td>Q1</td>\n",
       "        <td>DEC</td>\n",
       "        <td>FY16-DEC</td>\n",
       "        <td>102768154.30</td>\n",
       "    </tr>\n",
       "    <tr>\n",
       "        <td>FY16</td>\n",
       "        <td>Q2</td>\n",
       "        <td>JAN</td>\n",
       "        <td>FY16-JAN</td>\n",
       "        <td>78375474.54</td>\n",
       "    </tr>\n",
       "    <tr>\n",
       "        <td>FY16</td>\n",
       "        <td>Q2</td>\n",
       "        <td>FEB</td>\n",
       "        <td>FY16-FEB</td>\n",
       "        <td>72563842.19</td>\n",
       "    </tr>\n",
       "    <tr>\n",
       "        <td>FY16</td>\n",
       "        <td>Q2</td>\n",
       "        <td>MAR</td>\n",
       "        <td>FY16-MAR</td>\n",
       "        <td>142723538.82</td>\n",
       "    </tr>\n",
       "    <tr>\n",
       "        <td>FY16</td>\n",
       "        <td>Q3</td>\n",
       "        <td>APR</td>\n",
       "        <td>FY16-APR</td>\n",
       "        <td>79016023.21</td>\n",
       "    </tr>\n",
       "    <tr>\n",
       "        <td>FY16</td>\n",
       "        <td>Q3</td>\n",
       "        <td>MAY</td>\n",
       "        <td>FY16-MAY</td>\n",
       "        <td>199722637.82</td>\n",
       "    </tr>\n",
       "    <tr>\n",
       "        <td>FY16</td>\n",
       "        <td>Q3</td>\n",
       "        <td>JUN</td>\n",
       "        <td>FY16-JUN</td>\n",
       "        <td>115044610.84</td>\n",
       "    </tr>\n",
       "    <tr>\n",
       "        <td>FY16</td>\n",
       "        <td>Q4</td>\n",
       "        <td>JUL</td>\n",
       "        <td>FY16-JUL</td>\n",
       "        <td>71899905.85</td>\n",
       "    </tr>\n",
       "    <tr>\n",
       "        <td>FY16</td>\n",
       "        <td>Q4</td>\n",
       "        <td>AUG</td>\n",
       "        <td>FY16-AUG</td>\n",
       "        <td>103461722.38</td>\n",
       "    </tr>\n",
       "    <tr>\n",
       "        <td>FY16</td>\n",
       "        <td>Q4</td>\n",
       "        <td>SEP</td>\n",
       "        <td>FY16-SEP</td>\n",
       "        <td>109468285.26</td>\n",
       "    </tr>\n",
       "</table>"
      ],
      "text/plain": [
       "[('FY14', 'Q1', 'OCT', 'FY14-OCT', Decimal('130338506.44')),\n",
       " ('FY14', 'Q1', 'NOV', 'FY14-NOV', Decimal('306771180.57')),\n",
       " ('FY14', 'Q1', 'DEC', 'FY14-DEC', Decimal('122774098.38')),\n",
       " ('FY14', 'Q2', 'JAN', 'FY14-JAN', Decimal('82773844.62')),\n",
       " ('FY14', 'Q2', 'FEB', 'FY14-FEB', Decimal('80949014.44')),\n",
       " ('FY14', 'Q2', 'MAR', 'FY14-MAR', Decimal('120919439.64')),\n",
       " ('FY14', 'Q3', 'APR', 'FY14-APR', Decimal('107933955.68')),\n",
       " ('FY14', 'Q3', 'MAY', 'FY14-MAY', Decimal('239525125.22')),\n",
       " ('FY14', 'Q3', 'JUN', 'FY14-JUN', Decimal('100401919.85')),\n",
       " ('FY14', 'Q4', 'JUL', 'FY14-JUL', Decimal('99641448.24')),\n",
       " ('FY14', 'Q4', 'AUG', 'FY14-AUG', Decimal('86490160.87')),\n",
       " ('FY14', 'Q4', 'SEP', 'FY14-SEP', Decimal('179367414.41')),\n",
       " ('FY15', 'Q1', 'OCT', 'FY15-OCT', Decimal('117622265.40')),\n",
       " ('FY15', 'Q1', 'NOV', 'FY15-NOV', Decimal('293835492.48')),\n",
       " ('FY15', 'Q1', 'DEC', 'FY15-DEC', Decimal('113289882.62')),\n",
       " ('FY15', 'Q2', 'JAN', 'FY15-JAN', Decimal('77069252.30')),\n",
       " ('FY15', 'Q2', 'FEB', 'FY15-FEB', Decimal('82002408.60')),\n",
       " ('FY15', 'Q2', 'MAR', 'FY15-MAR', Decimal('112477046.92')),\n",
       " ('FY15', 'Q3', 'APR', 'FY15-APR', Decimal('83459372.68')),\n",
       " ('FY15', 'Q3', 'MAY', 'FY15-MAY', Decimal('218409905.89')),\n",
       " ('FY15', 'Q3', 'JUN', 'FY15-JUN', Decimal('81831872.13')),\n",
       " ('FY15', 'Q4', 'JUL', 'FY15-JUL', Decimal('102547832.03')),\n",
       " ('FY15', 'Q4', 'AUG', 'FY15-AUG', Decimal('75782947.67')),\n",
       " ('FY15', 'Q4', 'SEP', 'FY15-SEP', Decimal('176752333.17')),\n",
       " ('FY16', 'Q1', 'OCT', 'FY16-OCT', Decimal('106210470.49')),\n",
       " ('FY16', 'Q1', 'NOV', 'FY16-NOV', Decimal('298882745.82')),\n",
       " ('FY16', 'Q1', 'DEC', 'FY16-DEC', Decimal('102768154.30')),\n",
       " ('FY16', 'Q2', 'JAN', 'FY16-JAN', Decimal('78375474.54')),\n",
       " ('FY16', 'Q2', 'FEB', 'FY16-FEB', Decimal('72563842.19')),\n",
       " ('FY16', 'Q2', 'MAR', 'FY16-MAR', Decimal('142723538.82')),\n",
       " ('FY16', 'Q3', 'APR', 'FY16-APR', Decimal('79016023.21')),\n",
       " ('FY16', 'Q3', 'MAY', 'FY16-MAY', Decimal('199722637.82')),\n",
       " ('FY16', 'Q3', 'JUN', 'FY16-JUN', Decimal('115044610.84')),\n",
       " ('FY16', 'Q4', 'JUL', 'FY16-JUL', Decimal('71899905.85')),\n",
       " ('FY16', 'Q4', 'AUG', 'FY16-AUG', Decimal('103461722.38')),\n",
       " ('FY16', 'Q4', 'SEP', 'FY16-SEP', Decimal('109468285.26'))]"
      ]
     },
     "execution_count": 141,
     "metadata": {},
     "output_type": "execute_result"
    }
   ],
   "source": [
    "%%sql\n",
    "\n",
    "SELECT d.fy\n",
    "    ,d.fy_quarter\n",
    "    ,d.fy_month\n",
    "    ,d.fy || '-' || d.fy_month AS \"Year-month\"\n",
    "    ,SUM(f.amount)\n",
    "FROM FACT_spending f LEFT JOIN DIM_date d ON f.date_id=d.date_key\n",
    "GROUP BY d.fy,d.fy_quarter,d.fy_month\n",
    "ORDER BY d.fy,d.fy_quarter,to_date(fy_month,'Mon');"
   ]
  },
  {
   "cell_type": "markdown",
   "metadata": {},
   "source": [
    "Now we need to store the above querry output to a csv file inorder to import it to Tableau."
   ]
  },
  {
   "cell_type": "code",
   "execution_count": 92,
   "metadata": {
    "collapsed": false,
    "slideshow": {
     "slide_type": "skip"
    }
   },
   "outputs": [
    {
     "data": {
      "text/plain": [
       "'/Users/zhaorc/Desktop'"
      ]
     },
     "execution_count": 92,
     "metadata": {},
     "output_type": "execute_result"
    }
   ],
   "source": [
    "pwd"
   ]
  },
  {
   "cell_type": "code",
   "execution_count": 140,
   "metadata": {
    "collapsed": false,
    "slideshow": {
     "slide_type": "skip"
    }
   },
   "outputs": [
    {
     "name": "stdout",
     "output_type": "stream",
     "text": [
      "36 rows affected.\n"
     ]
    },
    {
     "data": {
      "text/plain": [
       "[]"
      ]
     },
     "execution_count": 140,
     "metadata": {},
     "output_type": "execute_result"
    }
   ],
   "source": [
    "%%sql\n",
    "\n",
    "COPY(\n",
    "SELECT d.fy\n",
    "    ,d.fy_quarter\n",
    "    ,d.fy_month\n",
    "    ,d.fy || '-' || d.fy_month AS \"Year-month\"\n",
    "    ,SUM(f.amount)\n",
    "FROM FACT_spending f LEFT JOIN DIM_date d ON f.date_id=d.date_key\n",
    "GROUP BY d.fy,d.fy_quarter,d.fy_month\n",
    "ORDER BY d.fy,d.fy_quarter,to_date(fy_month,'Mon')) TO '/Users/zhaorc/Desktop/time_series.csv' CSV HEADER"
   ]
  },
  {
   "cell_type": "code",
   "execution_count": 142,
   "metadata": {
    "collapsed": false,
    "slideshow": {
     "slide_type": "skip"
    }
   },
   "outputs": [
    {
     "data": {
      "text/plain": [
       "<matplotlib.axes._subplots.AxesSubplot at 0x11d082898>"
      ]
     },
     "execution_count": 142,
     "metadata": {},
     "output_type": "execute_result"
    },
    {
     "data": {
      "image/png": "[encoded data removed]",
      "text/plain": [
       "<matplotlib.figure.Figure at 0x11d094208>"
      ]
     },
     "metadata": {},
     "output_type": "display_data"
    }
   ],
   "source": [
    "result=_\n",
    "data=pd.DataFrame(result)\n",
    "data.columns=['year','qtr','month','year-month','spend']\n",
    "data.spend=data.spend.astype(float)\n",
    "data.plot(x='year-month',y='spend',color='red')"
   ]
  },
  {
   "cell_type": "code",
   "execution_count": 124,
   "metadata": {
    "collapsed": false,
    "slideshow": {
     "slide_type": "slide"
    }
   },
   "outputs": [
    {
     "data": {
      "text/html": [
       "<img src=\"https://raw.githubusercontent.com/rithvikmundra/istm-6212/master/Project3-Tableau-images/time%20series2.png\"/>"
      ],
      "text/plain": [
       "<IPython.core.display.Image object>"
      ]
     },
     "execution_count": 124,
     "metadata": {},
     "output_type": "execute_result"
    }
   ],
   "source": [
    "Image(url = \"https://raw.githubusercontent.com/rithvikmundra/istm-6212/master/Project3-Tableau-images/time%20series2.png\")"
   ]
  },
  {
   "cell_type": "markdown",
   "metadata": {
    "slideshow": {
     "slide_type": "slide"
    }
   },
   "source": [
    "Outstanding checks - Analysis"
   ]
  },
  {
   "cell_type": "code",
   "execution_count": 103,
   "metadata": {
    "collapsed": false,
    "slideshow": {
     "slide_type": "skip"
    }
   },
   "outputs": [
    {
     "name": "stdout",
     "output_type": "stream",
     "text": [
      "10 rows affected.\n"
     ]
    },
    {
     "data": {
      "text/html": [
       "<table>\n",
       "    <tr>\n",
       "        <th>dept_nm</th>\n",
       "        <th>count</th>\n",
       "    </tr>\n",
       "    <tr>\n",
       "        <td>Enterprise Debt Service</td>\n",
       "        <td>1414</td>\n",
       "    </tr>\n",
       "    <tr>\n",
       "        <td>Austin Energy</td>\n",
       "        <td>1328</td>\n",
       "    </tr>\n",
       "    <tr>\n",
       "        <td>Austin Water Utility</td>\n",
       "        <td>1055</td>\n",
       "    </tr>\n",
       "    <tr>\n",
       "        <td>General Obligation Debt Service</td>\n",
       "        <td>547</td>\n",
       "    </tr>\n",
       "    <tr>\n",
       "        <td>Fleet Services</td>\n",
       "        <td>505</td>\n",
       "    </tr>\n",
       "    <tr>\n",
       "        <td>Public Works - Transportation</td>\n",
       "        <td>459</td>\n",
       "    </tr>\n",
       "    <tr>\n",
       "        <td>Parks &amp; Recreation</td>\n",
       "        <td>431</td>\n",
       "    </tr>\n",
       "    <tr>\n",
       "        <td>Solid Waste Services</td>\n",
       "        <td>381</td>\n",
       "    </tr>\n",
       "    <tr>\n",
       "        <td>Financial Services</td>\n",
       "        <td>381</td>\n",
       "    </tr>\n",
       "    <tr>\n",
       "        <td>Health &amp; Human Services</td>\n",
       "        <td>365</td>\n",
       "    </tr>\n",
       "</table>"
      ],
      "text/plain": [
       "[('Enterprise Debt Service', 1414),\n",
       " ('Austin Energy', 1328),\n",
       " ('Austin Water Utility', 1055),\n",
       " ('General Obligation Debt Service', 547),\n",
       " ('Fleet Services', 505),\n",
       " ('Public Works - Transportation', 459),\n",
       " ('Parks & Recreation', 431),\n",
       " ('Solid Waste Services', 381),\n",
       " ('Financial Services', 381),\n",
       " ('Health & Human Services', 365)]"
      ]
     },
     "execution_count": 103,
     "metadata": {},
     "output_type": "execute_result"
    }
   ],
   "source": [
    "%%sql\n",
    "\n",
    "SELECT \n",
    "    o.dept_nm\n",
    "    ,COUNT(f.check_status)\n",
    "FROM FACT_spending f LEFT JOIN DIM_org o ON f.org_id=o.org_key\n",
    "WHERE f.check_status='Outstanding'\n",
    "GROUP BY o.dept_nm\n",
    "ORDER BY COUNT(f.check_status) DESC\n",
    "LIMIT 10;"
   ]
  },
  {
   "cell_type": "markdown",
   "metadata": {
    "slideshow": {
     "slide_type": "skip"
    }
   },
   "source": [
    "Now storing the above querry to a csv file inorder to perform visualization in Tableau"
   ]
  },
  {
   "cell_type": "code",
   "execution_count": 104,
   "metadata": {
    "collapsed": false,
    "slideshow": {
     "slide_type": "skip"
    }
   },
   "outputs": [
    {
     "name": "stdout",
     "output_type": "stream",
     "text": [
      "10 rows affected.\n"
     ]
    },
    {
     "data": {
      "text/plain": [
       "[]"
      ]
     },
     "execution_count": 104,
     "metadata": {},
     "output_type": "execute_result"
    }
   ],
   "source": [
    "%%sql\n",
    "\n",
    "COPY (\n",
    "SELECT \n",
    "    o.dept_nm\n",
    "    ,COUNT(f.check_status)\n",
    "FROM FACT_spending f LEFT JOIN DIM_org o ON f.org_id=o.org_key\n",
    "WHERE f.check_status='Outstanding'\n",
    "GROUP BY o.dept_nm\n",
    "ORDER BY COUNT(f.check_status) DESC\n",
    "LIMIT 10) TO '/Users/zhaorc/chk_status.csv' CSV HEADER"
   ]
  },
  {
   "cell_type": "code",
   "execution_count": 106,
   "metadata": {
    "collapsed": false,
    "slideshow": {
     "slide_type": "skip"
    }
   },
   "outputs": [],
   "source": [
    "from IPython.display import Image\n",
    "from IPython.core.display import HTML"
   ]
  },
  {
   "cell_type": "code",
   "execution_count": 107,
   "metadata": {
    "collapsed": false,
    "slideshow": {
     "slide_type": "slide"
    }
   },
   "outputs": [
    {
     "data": {
      "text/html": [
       "<img src=\"https://raw.githubusercontent.com/rithvikmundra/istm-6212/master/Project3-Tableau-images/chk_outstanding.png\"/>"
      ],
      "text/plain": [
       "<IPython.core.display.Image object>"
      ]
     },
     "execution_count": 107,
     "metadata": {},
     "output_type": "execute_result"
    }
   ],
   "source": [
    "Image(url = \"https://raw.githubusercontent.com/rithvikmundra/istm-6212/master/Project3-Tableau-images/chk_outstanding.png\")"
   ]
  },
  {
   "cell_type": "markdown",
   "metadata": {},
   "source": [
    "## Things we want to improve :\n",
    "\n",
    " - For object and fund columns, group them to more general level of category separately. \n",
    "\n",
    "- Add more queries for item and object analysis \n",
    "\n",
    "- Augment our dataset (e.g. link and compare our current data of Austin’s actual expense with the city’s budget)"
   ]
  }
 ],
 "metadata": {
  "anaconda-cloud": {},
  "celltoolbar": "Slideshow",
  "kernelspec": {
   "display_name": "Python [Root]",
   "language": "python",
   "name": "Python [Root]"
  },
  "language_info": {
   "codemirror_mode": {
    "name": "ipython",
    "version": 3
   },
   "file_extension": ".py",
   "mimetype": "text/x-python",
   "name": "python",
   "nbconvert_exporter": "python",
   "pygments_lexer": "ipython3",
   "version": "3.5.2"
  }
 },
 "nbformat": 4,
 "nbformat_minor": 0
}
